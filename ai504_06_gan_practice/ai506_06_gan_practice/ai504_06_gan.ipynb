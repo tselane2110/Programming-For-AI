{
 "cells": [
  {
   "cell_type": "markdown",
   "metadata": {
    "id": "K7i1e82gZL2q"
   },
   "source": [
    "# Week 6: Generative adversarial network (GAN) "
   ]
  },
  {
   "cell_type": "markdown",
   "metadata": {
    "id": "s7uTiJdhZL2r"
   },
   "source": [
    "- We will cover basic concepts of GAN & implement vanilla GAN \\[[Goodfellow et al., NIPS 2014](https://papers.nips.cc/paper/5423-generative-adversarial-nets.pdf)\\]\n",
    "- We will give basic skeletone code which include (1) training structure (2) sample visualization (3) FID evaluation\n",
    "- You should implement (1) ***generator & discriminator architecture*** (2) ***noise sampling***  (3) ***GAN loss*** \n",
    "- Additionally, will give you [DCGAN](https://arxiv.org/abs/1511.06434) (basic GAN architecture) code that you can enjoy by your-self \n",
    "\n",
    "If you have any questions, feel free to ask"
   ]
  },
  {
   "cell_type": "markdown",
   "metadata": {
    "id": "uxZfotGIZL2r"
   },
   "source": [
    "## 0. Preliminary"
   ]
  },
  {
   "cell_type": "markdown",
   "metadata": {
    "id": "6sfMBDCIZL2r"
   },
   "source": [
    "### 0.1. Prelim step 1: Load packages & GPU setup"
   ]
  },
  {
   "cell_type": "code",
   "execution_count": null,
   "metadata": {
    "colab": {
     "base_uri": "https://localhost:8080/"
    },
    "id": "rYh5ShKlZL2r",
    "outputId": "66d3cb01-4547-4e07-9982-c56eff006ca4"
   },
   "outputs": [
    {
     "name": "stdout",
     "output_type": "stream",
     "text": [
      "Wed Oct  6 08:51:31 2021       \n",
      "+-----------------------------------------------------------------------------+\n",
      "| NVIDIA-SMI 470.74       Driver Version: 460.32.03    CUDA Version: 11.2     |\n",
      "|-------------------------------+----------------------+----------------------+\n",
      "| GPU  Name        Persistence-M| Bus-Id        Disp.A | Volatile Uncorr. ECC |\n",
      "| Fan  Temp  Perf  Pwr:Usage/Cap|         Memory-Usage | GPU-Util  Compute M. |\n",
      "|                               |                      |               MIG M. |\n",
      "|===============================+======================+======================|\n",
      "|   0  Tesla K80           Off  | 00000000:00:04.0 Off |                    0 |\n",
      "| N/A   56C    P8    33W / 149W |      0MiB / 11441MiB |      0%      Default |\n",
      "|                               |                      |                  N/A |\n",
      "+-------------------------------+----------------------+----------------------+\n",
      "                                                                               \n",
      "+-----------------------------------------------------------------------------+\n",
      "| Processes:                                                                  |\n",
      "|  GPU   GI   CI        PID   Type   Process name                  GPU Memory |\n",
      "|        ID   ID                                                   Usage      |\n",
      "|=============================================================================|\n",
      "|  No running processes found                                                 |\n",
      "+-----------------------------------------------------------------------------+\n"
     ]
    }
   ],
   "source": [
    "# visualize current GPU usages in your server\n",
    "!nvidia-smi "
   ]
  },
  {
   "cell_type": "code",
   "execution_count": null,
   "metadata": {
    "id": "0zntyVqXZL2s"
   },
   "outputs": [],
   "source": [
    "# set gpu by number \n",
    "import os\n",
    "import random\n",
    "os.environ['CUDA_VISIBLE_DEVICES'] = '0'  # setting gpu number"
   ]
  },
  {
   "cell_type": "code",
   "execution_count": null,
   "metadata": {
    "id": "dK5qlu7IZL2t"
   },
   "outputs": [],
   "source": [
    "# load packages\n",
    "import numpy as np\n",
    "import matplotlib.pyplot as plt\n",
    "import matplotlib.animation as animation\n",
    "import imageio #### install with \"pip install imageio\"\n",
    "from IPython.display import HTML\n",
    "\n",
    "import torch\n",
    "import torch.nn as nn\n",
    "import torch.nn.parallel\n",
    "import torch.backends.cudnn as cudnn\n",
    "import torch.optim as optim\n",
    "import torch.utils.data\n",
    "import torchvision.datasets as dset\n",
    "import torchvision.transforms as transforms\n",
    "import torchvision.utils as vutils\n",
    "from torchvision.utils import make_grid"
   ]
  },
  {
   "cell_type": "code",
   "execution_count": null,
   "metadata": {
    "id": "muzNv3jXZL2t"
   },
   "outputs": [],
   "source": [
    "# Create folders\n",
    "if not os.path.exists('./checkpoint'):\n",
    "    os.mkdir('./checkpoint')\n",
    "    \n",
    "if not os.path.exists('./dataset'):\n",
    "    os.mkdir('./dataset')\n",
    "    \n",
    "if not os.path.exists('./img'):\n",
    "    os.mkdir('./img')\n",
    "    \n",
    "if not os.path.exists('./img/real'):\n",
    "    os.mkdir('./img/real')\n",
    "\n",
    "if not os.path.exists('./img/fake'):\n",
    "    os.mkdir('./img/fake')"
   ]
  },
  {
   "cell_type": "markdown",
   "metadata": {
    "id": "HNZIIVI2ZL2u"
   },
   "source": [
    "### 0.2. Prelim step 2: Define visualization & image saving code"
   ]
  },
  {
   "cell_type": "code",
   "execution_count": null,
   "metadata": {
    "id": "FExNd_YHZL2u"
   },
   "outputs": [],
   "source": [
    "# visualize the first image from the torch tensor\n",
    "def vis_image(image):\n",
    "    plt.imshow(image[0].detach().cpu().numpy(),cmap='gray')\n",
    "    plt.show()"
   ]
  },
  {
   "cell_type": "code",
   "execution_count": null,
   "metadata": {
    "id": "5vKsK6Z_ZL2u"
   },
   "outputs": [],
   "source": [
    "def save_gif(training_progress_images, images):\n",
    "    '''\n",
    "        training_progress_images: list of training images generated each iteration\n",
    "        images: image that is generated in this iteration\n",
    "    '''\n",
    "    img_grid = make_grid(images.data)\n",
    "    img_grid = np.transpose(img_grid.detach().cpu().numpy(), (1, 2, 0))\n",
    "    img_grid = 255. * img_grid \n",
    "    img_grid = img_grid.astype(np.uint8)\n",
    "    training_progress_images.append(img_grid)\n",
    "    imageio.mimsave('./img/training_progress.gif', training_progress_images)\n",
    "    return training_progress_images"
   ]
  },
  {
   "cell_type": "code",
   "execution_count": null,
   "metadata": {
    "id": "d70gO3HUZL2u"
   },
   "outputs": [],
   "source": [
    "# visualize gif file\n",
    "def vis_gif(training_progress_images):\n",
    "    fig = plt.figure()\n",
    "    \n",
    "    ims = []\n",
    "    for i in range(len(training_progress_images)):\n",
    "        im = plt.imshow(training_progress_images[i], animated=True)\n",
    "        ims.append([im])\n",
    "\n",
    "    ani = animation.ArtistAnimation(fig, ims, interval=50, blit=True, repeat_delay=1000)\n",
    "    \n",
    "    html = ani.to_html5_video()\n",
    "    HTML(html)"
   ]
  },
  {
   "cell_type": "code",
   "execution_count": null,
   "metadata": {
    "id": "ZFAha4Q9ZL2v"
   },
   "outputs": [],
   "source": [
    "# visualize gif file\n",
    "def plot_gif(training_progress_images, plot_length=10):\n",
    "    plt.close()\n",
    "    fig = plt.figure()\n",
    "    \n",
    "    total_len = len(training_progress_images)\n",
    "    for i in range(plot_length):\n",
    "        im = plt.imshow(training_progress_images[int(total_len/plot_length)*i])\n",
    "        plt.show()"
   ]
  },
  {
   "cell_type": "code",
   "execution_count": null,
   "metadata": {
    "id": "jZm8e-27ZL2v"
   },
   "outputs": [],
   "source": [
    "def save_image_list(dataset, real):\n",
    "    if real:\n",
    "        base_path = './img/real'\n",
    "    else:\n",
    "        base_path = './img/fake'\n",
    "    \n",
    "    dataset_path = []\n",
    "    \n",
    "    for i in range(len(dataset)):\n",
    "        save_path =  f'{base_path}/image_{i}.png'\n",
    "        dataset_path.append(save_path)\n",
    "        vutils.save_image(dataset[i], save_path)\n",
    "    \n",
    "    return base_path"
   ]
  },
  {
   "cell_type": "markdown",
   "metadata": {
    "id": "jmUSMX53ZL2v"
   },
   "source": [
    "### 0.3. Prelim step 3: Load dataset, define dataloader"
   ]
  },
  {
   "cell_type": "markdown",
   "metadata": {
    "id": "sdO3c_-4ZL2v"
   },
   "source": [
    "<img src=\"https://drive.google.com/uc?id=1AlT2XoubKWg5yVW3QhSyVGaRd9EI3dYa\" width=\"640\" height=\"640\">"
   ]
  },
  {
   "cell_type": "markdown",
   "metadata": {
    "id": "kUC000XnZL2w"
   },
   "source": [
    "\n",
    "In this class we will use **MNIST** (or you can use **Fashion-MNIST**) due to the time constraint :( \\\n",
    "You can practice with CIFAR-10 by your-self since dataset is already implemented inside PyTorch!\n",
    "- Simply use `dataset=dset.CIFAR10(.)` function in PyTorch.\n",
    "- If you are using CIFAR dataset, please note that the resolution is different to MNIST and should change model input dimension."
   ]
  },
  {
   "cell_type": "code",
   "execution_count": null,
   "metadata": {
    "colab": {
     "base_uri": "https://localhost:8080/",
     "height": 492,
     "referenced_widgets": [
      "7376de7e8e244208ba270d80d050601c",
      "f82263f6974e4de6934dc4d75d0ba533",
      "c08766e6fa604de7b49028a5e7f85cbd",
      "ce53937517fd4bd0a6e105fca6fe4c91",
      "3112db25301143f2832335bd8ca297e4",
      "bf831fe2852d451099fb7baa031b749a",
      "ba430763f68345a4886fc6b9e6f218d0",
      "9fc2f91e9c9c48ce82b2f0a249b9cd21",
      "a652504eecb8446eaf89cb631803e92b",
      "6bd70315e68d427a956833123232dfa1",
      "f4b70e4031854afea857a175fee2eda9",
      "46a4b598beb74b8996ae2ed143c85dff",
      "936e0c28dbc14069ba4887ef3c3b2b34",
      "0a63f79ed1b24aee99589152080c7643",
      "472cb9d9a27e46cab30167c1c90ca785",
      "1989c323c4214287ae43ad32105085b3",
      "32c8b8c68d78467092ad3e1ad042ab92",
      "0b858a464d574231b2e1b6beaebe95da",
      "87ab583fe368454580d91855a120956c",
      "49bfc3336e86455e91994aa00786c8dd",
      "c64d09249c4745918772e6fb9e151e9f",
      "b7bb37656d694e20a0d75f16d11373be",
      "1203b0bfbd864ed4b3760f8b9f38b54b",
      "d63201daecff4d35a90f5fb9f73996d1",
      "ca0edfa603ed47febc2eec6f4debdb54",
      "5f4367ea26ee4cb4939350b4504454b9",
      "4431f93a66114eb684268f5c5aca9313",
      "c0d28c961d174b32a0a6c7943b716173",
      "3b5931a2bab14a0ab483b09203a250b0",
      "7b494398138945feae42b3376f2c9bbf",
      "8a1e4affe07147648d9d565c0b437486",
      "cfe2783dfa064d2f83994b632b67d2a6",
      "9609d6cd75ae4549b1f05dae5d53a7de",
      "70f724ea86e043f7b6eb65765d146f16",
      "66b6a24ca19b4c1d9e96e0b4be1af715",
      "d0e6f1f717ab4718b45c6389f6459652",
      "25b5ca12617340f392e59345c6f5db30",
      "843dd39e7969468ebdad8a3f0bb5a85d",
      "33ae09a707a44679a78f03d807a8bee0",
      "a66d9d7f63404a60985e330985c62783",
      "3766803743a341abbd20d04c2a92b9cd",
      "2e68a26c45314a8fa5237474a1a4f84f",
      "8d2f7142fef04b829b318e077c02fc0f",
      "8f172ed420644f96a3e1449f32bbd5eb"
     ]
    },
    "id": "ALv7T19-ZL2w",
    "outputId": "139b7ab9-344b-45e3-bf3a-e973762fdf47"
   },
   "outputs": [
    {
     "name": "stdout",
     "output_type": "stream",
     "text": [
      "Downloading http://yann.lecun.com/exdb/mnist/train-images-idx3-ubyte.gz\n",
      "Downloading http://yann.lecun.com/exdb/mnist/train-images-idx3-ubyte.gz to ./dataset/MNIST/raw/train-images-idx3-ubyte.gz\n"
     ]
    },
    {
     "data": {
      "application/vnd.jupyter.widget-view+json": {
       "model_id": "7376de7e8e244208ba270d80d050601c",
       "version_major": 2,
       "version_minor": 0
      },
      "text/plain": [
       "  0%|          | 0/9912422 [00:00<?, ?it/s]"
      ]
     },
     "metadata": {},
     "output_type": "display_data"
    },
    {
     "name": "stdout",
     "output_type": "stream",
     "text": [
      "Extracting ./dataset/MNIST/raw/train-images-idx3-ubyte.gz to ./dataset/MNIST/raw\n",
      "\n",
      "Downloading http://yann.lecun.com/exdb/mnist/train-labels-idx1-ubyte.gz\n",
      "Downloading http://yann.lecun.com/exdb/mnist/train-labels-idx1-ubyte.gz to ./dataset/MNIST/raw/train-labels-idx1-ubyte.gz\n"
     ]
    },
    {
     "data": {
      "application/vnd.jupyter.widget-view+json": {
       "model_id": "46a4b598beb74b8996ae2ed143c85dff",
       "version_major": 2,
       "version_minor": 0
      },
      "text/plain": [
       "  0%|          | 0/28881 [00:00<?, ?it/s]"
      ]
     },
     "metadata": {},
     "output_type": "display_data"
    },
    {
     "name": "stdout",
     "output_type": "stream",
     "text": [
      "Extracting ./dataset/MNIST/raw/train-labels-idx1-ubyte.gz to ./dataset/MNIST/raw\n",
      "\n",
      "Downloading http://yann.lecun.com/exdb/mnist/t10k-images-idx3-ubyte.gz\n",
      "Downloading http://yann.lecun.com/exdb/mnist/t10k-images-idx3-ubyte.gz to ./dataset/MNIST/raw/t10k-images-idx3-ubyte.gz\n"
     ]
    },
    {
     "data": {
      "application/vnd.jupyter.widget-view+json": {
       "model_id": "1203b0bfbd864ed4b3760f8b9f38b54b",
       "version_major": 2,
       "version_minor": 0
      },
      "text/plain": [
       "  0%|          | 0/1648877 [00:00<?, ?it/s]"
      ]
     },
     "metadata": {},
     "output_type": "display_data"
    },
    {
     "name": "stdout",
     "output_type": "stream",
     "text": [
      "Extracting ./dataset/MNIST/raw/t10k-images-idx3-ubyte.gz to ./dataset/MNIST/raw\n",
      "\n",
      "Downloading http://yann.lecun.com/exdb/mnist/t10k-labels-idx1-ubyte.gz\n",
      "Downloading http://yann.lecun.com/exdb/mnist/t10k-labels-idx1-ubyte.gz to ./dataset/MNIST/raw/t10k-labels-idx1-ubyte.gz\n"
     ]
    },
    {
     "data": {
      "application/vnd.jupyter.widget-view+json": {
       "model_id": "70f724ea86e043f7b6eb65765d146f16",
       "version_major": 2,
       "version_minor": 0
      },
      "text/plain": [
       "  0%|          | 0/4542 [00:00<?, ?it/s]"
      ]
     },
     "metadata": {},
     "output_type": "display_data"
    },
    {
     "name": "stdout",
     "output_type": "stream",
     "text": [
      "Extracting ./dataset/MNIST/raw/t10k-labels-idx1-ubyte.gz to ./dataset/MNIST/raw\n",
      "\n"
     ]
    },
    {
     "name": "stderr",
     "output_type": "stream",
     "text": [
      "/usr/local/lib/python3.7/dist-packages/torchvision/datasets/mnist.py:498: UserWarning: The given NumPy array is not writeable, and PyTorch does not support non-writeable tensors. This means you can write to the underlying (supposedly non-writeable) NumPy array using the tensor. You may want to copy the array to protect its data or make it writeable before converting it to a tensor. This type of warning will be suppressed for the rest of this program. (Triggered internally at  /pytorch/torch/csrc/utils/tensor_numpy.cpp:180.)\n",
      "  return torch.from_numpy(parsed.astype(m[2], copy=False)).view(*s)\n"
     ]
    }
   ],
   "source": [
    "dataset = dset.MNIST(root=\"./dataset\", download=True,\n",
    "                                   transform=transforms.Compose([\n",
    "                                   transforms.ToTensor(),\n",
    "                ]))\n",
    "# If you want to download FMNIST use dset.FashionMNIST\n",
    "# dataset = dset.FashionMNIST(.)\n",
    "\n",
    "dataloader = torch.utils.data.DataLoader(dataset, batch_size=128, shuffle=True, num_workers=2)"
   ]
  },
  {
   "cell_type": "markdown",
   "metadata": {
    "id": "tnzTrTkqZL2w"
   },
   "source": [
    "## 1. Define your generator & discriminator"
   ]
  },
  {
   "cell_type": "markdown",
   "metadata": {},
   "source": [
    "<img src=\"https://drive.google.com/uc?id=14LaqEwPamsXYUpzaYyyf_iTaTlPNZH3b\" width=\"640\" height=\"245\">"
   ]
  },
  {
   "cell_type": "markdown",
   "metadata": {
    "id": "Wq-er5VEZL2w"
   },
   "source": [
    "### 1.1. Define generator module"
   ]
  },
  {
   "cell_type": "code",
   "execution_count": null,
   "metadata": {
    "id": "JhxYbZKTZL2w"
   },
   "outputs": [],
   "source": [
    "class Generator(nn.Module):\n",
    "    def __init__(self):\n",
    "        super(Generator, self).__init__()\n",
    "        self.main = nn.Sequential(\n",
    "            #########################\n",
    "            # Define your own generator #\n",
    "            #########################\n",
    "            \n",
    "            \n",
    "            #########################\n",
    "        )\n",
    "\n",
    "    def forward(self, input):\n",
    "        #####################################\n",
    "        # Change the shape of output if necessary #\n",
    "        \n",
    "        #####################################\n",
    "        \n",
    "        output = self.main(input)\n",
    "        \n",
    "        #####################################\n",
    "        # Change the shape of output if necessary #\n",
    "        \n",
    "        #####################################\n",
    "        return output"
   ]
  },
  {
   "cell_type": "markdown",
   "metadata": {
    "id": "FQNJfwFsZL2w"
   },
   "source": [
    "### 1.2. Define discriminator module"
   ]
  },
  {
   "cell_type": "code",
   "execution_count": null,
   "metadata": {
    "id": "5Aodzm2NZL2w"
   },
   "outputs": [],
   "source": [
    "class Discriminator(nn.Module):\n",
    "    def __init__(self):\n",
    "        super(Discriminator, self).__init__()\n",
    "        self.main = nn.Sequential(\n",
    "            ############################\n",
    "            # Define your own discriminator #\n",
    "            ############################\n",
    "            \n",
    "            \n",
    "            ############################\n",
    "        )\n",
    "\n",
    "    def forward(self, input):\n",
    "        #####################################\n",
    "        # Change the shape of output if necessary #\n",
    "    \n",
    "        #####################################\n",
    "        \n",
    "        output = self.main(input)\n",
    "        \n",
    "        #####################################\n",
    "        # Change the shape of output if necessary #\n",
    "        \n",
    "        #####################################\n",
    "        \n",
    "        return output"
   ]
  },
  {
   "cell_type": "markdown",
   "metadata": {
    "id": "WbSyllg5ZL2x"
   },
   "source": [
    "### 1.3. Upload on GPU, define optimizer"
   ]
  },
  {
   "cell_type": "code",
   "execution_count": null,
   "metadata": {
    "id": "NNSLkE1PZL2x"
   },
   "outputs": [],
   "source": [
    "netG = Generator().cuda()\n",
    "netD = Discriminator().cuda()\n",
    "\n",
    "optimizerD = optim.Adam(netD.parameters(), lr=0.0002)\n",
    "optimizerG = optim.Adam(netG.parameters(), lr=0.0002)"
   ]
  },
  {
   "cell_type": "markdown",
   "metadata": {
    "id": "CUUiHAxDZL2x"
   },
   "source": [
    "## 2. Noise sampling"
   ]
  },
  {
   "cell_type": "code",
   "execution_count": null,
   "metadata": {
    "id": "G-IAx12DZL2x"
   },
   "outputs": [],
   "source": [
    "#### Implement here ####\n",
    "noise = ?"
   ]
  },
  {
   "cell_type": "markdown",
   "metadata": {
    "id": "tbu9Tq4aZL2x"
   },
   "source": [
    "## 3. Train GAN"
   ]
  },
  {
   "cell_type": "markdown",
   "metadata": {},
   "source": [
    "### Objective\n",
    "<img src=\"https://drive.google.com/uc?id=1IK3Ue30Q0t1Wy1G17wtU_LECd2e-0BZx\" width=\"640\" height=\"328\">\n",
    "\n",
    "### Pseudo-code\n",
    "<img src=\"https://drive.google.com/uc?id=1hXMydkYE1vuLVVF7Hm8YlEzMysrYczg4\" width=\"640\" height=\"418\">"
   ]
  },
  {
   "cell_type": "markdown",
   "metadata": {
    "id": "BVo3sn-8ZL2x"
   },
   "source": [
    "Implement GAN by filling out the following blankes!"
   ]
  },
  {
   "cell_type": "code",
   "execution_count": null,
   "metadata": {
    "id": "eWcth9fRZL2x"
   },
   "outputs": [],
   "source": [
    "fixed_noise = ?\n",
    "\n",
    "criterion = nn.BCELoss()\n",
    "\n",
    "n_epoch = 200\n",
    "training_progress_images_list = []\n",
    "for epoch in range(n_epoch):\n",
    "    for i, (data, _) in enumerate(dataloader):\n",
    "        ####################################################\n",
    "        # (1) Update D network: maximize log(D(x)) + log(1 - D(G(z))) #\n",
    "        ###################################################\n",
    "        # train with real\n",
    "        netD.zero_grad()\n",
    "        data = data.cuda()\n",
    "        batch_size = data.size(0)\n",
    "        \n",
    "        label = ? # real label \n",
    "        output = ?\n",
    "        errD_real = ?\n",
    "\n",
    "        # train with fake\n",
    "        noise = ?\n",
    "        fake = ?\n",
    "        label = ? # fake label\n",
    "        output = ?\n",
    "        errD_fake = ?\n",
    "        \n",
    "        # Loss backward\n",
    "        errD = errD_real + errD_fake\n",
    "        errD.backward()\n",
    "        optimizerD.step()\n",
    "\n",
    "        ########################################\n",
    "        # (2) Update G network: maximize log(D(G(z))) #\n",
    "        ########################################\n",
    "        netG.zero_grad()\n",
    "        label = ? # fake labels are real for generator cost\n",
    "        output = ?\n",
    "        errG = ?\n",
    "\n",
    "        errG.backward()\n",
    "        optimizerG.step()\n",
    "        \n",
    "    print('[%d/%d] Loss_D: %.4f Loss_G: %.4f' \n",
    "              % (epoch, n_epoch, errD.item(), errG.item()))\n",
    "    \n",
    "    #save the output\n",
    "    fake = netG(fixed_noise)\n",
    "    training_progress_images_list = save_gif(training_progress_images_list, fake)  # Save fake image while training!\n",
    "    \n",
    "    # Check pointing for every epoch\n",
    "    torch.save(netG.state_dict(), './checkpoint/netG_epoch_%d.pth' % (epoch))\n",
    "    torch.save(netD.state_dict(), './checkpoint/netD_epoch_%d.pth' % (epoch))"
   ]
  },
  {
   "cell_type": "markdown",
   "metadata": {
    "id": "gfinWWp6ZL2x"
   },
   "source": [
    "## 4. Visualize/Plot your generated samples"
   ]
  },
  {
   "cell_type": "code",
   "execution_count": null,
   "metadata": {
    "id": "bzBdFi1OZL2x"
   },
   "outputs": [],
   "source": [
    "plot_gif(training_progress_images_list)"
   ]
  },
  {
   "cell_type": "markdown",
   "metadata": {
    "id": "Kilz18NyZL2y"
   },
   "source": [
    "## 5. Evaluate your model: Fréchet Inception Distance (FID) score"
   ]
  },
  {
   "cell_type": "markdown",
   "metadata": {},
   "source": [
    "<img src=\"https://drive.google.com/uc?id=1sL6p6kZmS3BYTZPD9wjMNGsPIWJcCs5X\" width=\"640\" height=\"360\">"
   ]
  },
  {
   "cell_type": "markdown",
   "metadata": {
    "id": "5IEuq3wjZL2y"
   },
   "source": [
    "How to evaluate the equality of your generated sample?\\\n",
    "Maybe **training loss...? No!**\n",
    "Papers have shown that training loss might not be the best metric!\n",
    "\n",
    "There are many evaluation metric that has been proposed and most famous metric is as follows: [**Inception score**](https://arxiv.org/abs/1606.03498), [**Fréchet Inception Distance**](https://arxiv.org/abs/1706.08500)\n",
    "\n",
    "In this course, we will handle **Fréchet Inception Distance (FID) score.**"
   ]
  },
  {
   "cell_type": "markdown",
   "metadata": {
    "id": "bFVFTJTeZL2y"
   },
   "source": [
    "### 5.1. What is FID score?"
   ]
  },
  {
   "cell_type": "markdown",
   "metadata": {},
   "source": [
    "<img src=\"https://drive.google.com/uc?id=1gvsoF-5Qs9tao2TLZEtgGbfB4WO6BkNd\" width=\"640\" height=\"433\">"
   ]
  },
  {
   "cell_type": "markdown",
   "metadata": {
    "id": "WrfIrr_3ZL2y"
   },
   "source": [
    "FID measures the distance between **real dataset** & **fake dataset** in **feature space of Inception** pretrained network.\\\n",
    "From the extracted features of real & fake dataset, we can compute mean & covariance of each features to calculate the **distance between distributions**.\n",
    "- For more explanation see this [article](https://medium.com/@jonathan_hui/gan-how-to-measure-gan-performance-64b988c47732) or [paper](https://arxiv.org/abs/1706.08500)"
   ]
  },
  {
   "cell_type": "markdown",
   "metadata": {
    "id": "nAqzLIHGZL2y"
   },
   "source": [
    "For the implementation, we simply use the source code from github: https://github.com/mseitzer/pytorch-fid\n",
    "\n",
    "Please note that Inception network is **pretrained on ImageNet**, therefore the MNIST FID score might be unrealiable.\\"
   ]
  },
  {
   "cell_type": "markdown",
   "metadata": {
    "id": "P7EL8MhQZL2y"
   },
   "source": [
    "### 5.2. Load FID score function: code is from the github"
   ]
  },
  {
   "cell_type": "code",
   "execution_count": null,
   "metadata": {
    "id": "LlzXrppnZL2y"
   },
   "outputs": [],
   "source": [
    "import inception\n",
    "import fid_score\n",
    "from fid_score import calculate_fid_given_paths"
   ]
  },
  {
   "cell_type": "markdown",
   "metadata": {
    "id": "L9RkktnWZL2z"
   },
   "source": [
    "### 5.3. Evaluate your model (save samples!!)\n",
    "\n",
    "The Inception network's input resolution is 224 by 224, we upscale small resolution datasets (e.g., MNSIT, CIFAR) into same resolution.\n",
    "\n",
    "Please note that, we only save *50 samples in this lecture*, however in practice we use **full test dataset**: [reference](https://arxiv.org/abs/1807.04720)"
   ]
  },
  {
   "cell_type": "code",
   "execution_count": null,
   "metadata": {
    "id": "9eACbZUgZL2z"
   },
   "outputs": [],
   "source": [
    "test_dataset = dset.MNIST(root=\"./dataset\", download=True, train=False,\n",
    "                                           transform=transforms.Compose([\n",
    "                                           transforms.ToTensor(),\n",
    "                        ]))\n",
    "\n",
    "dataloader = torch.utils.data.DataLoader(test_dataset, batch_size=50, shuffle=True, num_workers=2)\n",
    "\n",
    "for i, (data, _) in enumerate(dataloader):\n",
    "    real_dataset = data\n",
    "    break\n",
    "    \n",
    "noise = torch.randn(50, 100).cuda()\n",
    "fake_dataset = netG(noise)"
   ]
  },
  {
   "cell_type": "code",
   "execution_count": null,
   "metadata": {
    "id": "YCRMh61zZL2z"
   },
   "outputs": [],
   "source": [
    "real_image_path_list = save_image_list(real_dataset, True)\n",
    "fake_image_path_list = save_image_list(fake_dataset, False)"
   ]
  },
  {
   "cell_type": "markdown",
   "metadata": {
    "id": "mNbibKssZL2z"
   },
   "source": [
    "### 5.4 Evaluate FID score"
   ]
  },
  {
   "cell_type": "code",
   "execution_count": null,
   "metadata": {
    "id": "KTAKGHGOZL2z"
   },
   "outputs": [],
   "source": [
    "# calculate_fid_given_paths(paths, batch_size, cuda, dims)\n",
    "fid_value = calculate_fid_given_paths([real_image_path_list, fake_image_path_list],\n",
    "                                                          50, \n",
    "                                                          True,\n",
    "                                                          2048)"
   ]
  },
  {
   "cell_type": "code",
   "execution_count": null,
   "metadata": {
    "id": "hWMk81kwZL2z"
   },
   "outputs": [],
   "source": [
    "print (f'FID score: {fid_value}')"
   ]
  },
  {
   "cell_type": "markdown",
   "metadata": {
    "id": "b9OE7UysZL2z"
   },
   "source": [
    "## Additional: DCGAN (try it by your-self)"
   ]
  },
  {
   "cell_type": "markdown",
   "metadata": {
    "id": "vL6i7GwcZL2z"
   },
   "source": [
    "There are various modern architectures of GAN e.g., DCGAN, SNGAN, and also training methods e.g., WGAN, gradient penulty\n",
    "\n",
    "You can try the following architecture to improve the quality of generation!\n",
    "- **Note that this version is for 64 by 64 resolution**"
   ]
  },
  {
   "cell_type": "code",
   "execution_count": null,
   "metadata": {
    "id": "SzKhClM6ZL2z"
   },
   "outputs": [],
   "source": [
    "nc = 3 # number of channels, RGB\n",
    "nz = 100 # input noise dimension\n",
    "ngf = 64 # number of generator filters\n",
    "ndf = 64 #number of discriminator filters\n",
    "\n",
    "class Generator(nn.Module):\n",
    "    def __init__(self):\n",
    "        super(Generator, self).__init__()\n",
    "        self.main = nn.Sequential(\n",
    "            # input is Z, going into a convolution\n",
    "            nn.ConvTranspose2d(nz, ngf * 8, 4, 1, 0, bias=False),\n",
    "            nn.BatchNorm2d(ngf * 8),\n",
    "            nn.ReLU(True),\n",
    "            # state size. (ngf*8) x 4 x 4\n",
    "            nn.ConvTranspose2d(ngf * 8, ngf * 4, 4, 2, 1, bias=False),\n",
    "            nn.BatchNorm2d(ngf * 4),\n",
    "            nn.ReLU(True),\n",
    "            # state size. (ngf*4) x 8 x 8\n",
    "            nn.ConvTranspose2d(ngf * 4, ngf * 2, 4, 2, 1, bias=False),\n",
    "            nn.BatchNorm2d(ngf * 2),\n",
    "            nn.ReLU(True),\n",
    "            # state size. (ngf*2) x 16 x 16\n",
    "            nn.ConvTranspose2d(ngf * 2, ngf, 4, 2, 1, bias=False),\n",
    "            nn.BatchNorm2d(ngf),\n",
    "            nn.ReLU(True),\n",
    "            # state size. (ngf) x 32 x 32\n",
    "            nn.ConvTranspose2d(ngf, nc, 4, 2, 1, bias=False),\n",
    "            nn.Tanh()\n",
    "            # state size. (nc) x 64 x 64\n",
    "        )\n",
    "\n",
    "    def forward(self, input):\n",
    "        output = self.main(input)\n",
    "        return output"
   ]
  },
  {
   "cell_type": "code",
   "execution_count": null,
   "metadata": {
    "id": "1Ejtv0YXZL2z"
   },
   "outputs": [],
   "source": [
    "class Discriminator(nn.Module):\n",
    "    def __init__(self):\n",
    "        super(Discriminator, self).__init__()\n",
    "        self.main = nn.Sequential(\n",
    "            # input is (nc) x 64 x 64\n",
    "            nn.Conv2d(nc, ndf, 4, 2, 1, bias=False),\n",
    "            nn.LeakyReLU(0.2, inplace=True),\n",
    "            # state size. (ndf) x 32 x 32\n",
    "            nn.Conv2d(ndf, ndf * 2, 4, 2, 1, bias=False),\n",
    "            nn.BatchNorm2d(ndf * 2),\n",
    "            nn.LeakyReLU(0.2, inplace=True),\n",
    "            # state size. (ndf*2) x 16 x 16\n",
    "            nn.Conv2d(ndf * 2, ndf * 4, 4, 2, 1, bias=False),\n",
    "            nn.BatchNorm2d(ndf * 4),\n",
    "            nn.LeakyReLU(0.2, inplace=True),\n",
    "            # state size. (ndf*4) x 8 x 8\n",
    "            nn.Conv2d(ndf * 4, ndf * 8, 4, 2, 1, bias=False),\n",
    "            nn.BatchNorm2d(ndf * 8),\n",
    "            nn.LeakyReLU(0.2, inplace=True),\n",
    "            # state size. (ndf*8) x 4 x 4\n",
    "            nn.Conv2d(ndf * 8, 1, 4, 1, 0, bias=False),\n",
    "            nn.Sigmoid()\n",
    "        )\n",
    "\n",
    "    def forward(self, input):\n",
    "        output = self.main(input)\n",
    "        return output.view(-1, 1).squeeze(1)"
   ]
  },
  {
   "cell_type": "markdown",
   "metadata": {
    "id": "qlb1wsJRZL20"
   },
   "source": [
    "## Reference\n",
    "This code is written by Jihoon-Tack and modified by Sungjin-Park.  \n",
    "\n",
    "PyTorch official DCGAN tutorial: https://pytorch.org/tutorials/beginner/dcgan_faces_tutorial.html \\\n",
    "github 1: https://github.com/Ksuryateja/DCGAN-CIFAR10-pytorch/blob/master/gan_cifar.py \\\n",
    "github 2: https://github.com/mseitzer/pytorch-fid \\\n",
    "FID score: https://github.com/mseitzer/pytorch-fid \\\n",
    "Inception score: https://github.com/sbarratt/inception-score-pytorch"
   ]
  },
  {
   "cell_type": "code",
   "execution_count": null,
   "metadata": {},
   "outputs": [],
   "source": []
  }
 ],
 "metadata": {
  "accelerator": "GPU",
  "colab": {
   "collapsed_sections": [],
   "name": "ai504_06_gan.ipynb",
   "provenance": []
  },
  "kernelspec": {
   "display_name": "Python 3 (ipykernel)",
   "language": "python",
   "name": "python3"
  },
  "language_info": {
   "codemirror_mode": {
    "name": "ipython",
    "version": 3
   },
   "file_extension": ".py",
   "mimetype": "text/x-python",
   "name": "python",
   "nbconvert_exporter": "python",
   "pygments_lexer": "ipython3",
   "version": "3.9.12"
  },
  "widgets": {
   "application/vnd.jupyter.widget-state+json": {
    "0a63f79ed1b24aee99589152080c7643": {
     "model_module": "@jupyter-widgets/controls",
     "model_module_version": "1.5.0",
     "model_name": "HTMLModel",
     "state": {
      "_dom_classes": [],
      "_model_module": "@jupyter-widgets/controls",
      "_model_module_version": "1.5.0",
      "_model_name": "HTMLModel",
      "_view_count": null,
      "_view_module": "@jupyter-widgets/controls",
      "_view_module_version": "1.5.0",
      "_view_name": "HTMLView",
      "description": "",
      "description_tooltip": null,
      "layout": "IPY_MODEL_0b858a464d574231b2e1b6beaebe95da",
      "placeholder": "​",
      "style": "IPY_MODEL_32c8b8c68d78467092ad3e1ad042ab92",
      "value": ""
     }
    },
    "0b858a464d574231b2e1b6beaebe95da": {
     "model_module": "@jupyter-widgets/base",
     "model_module_version": "1.2.0",
     "model_name": "LayoutModel",
     "state": {
      "_model_module": "@jupyter-widgets/base",
      "_model_module_version": "1.2.0",
      "_model_name": "LayoutModel",
      "_view_count": null,
      "_view_module": "@jupyter-widgets/base",
      "_view_module_version": "1.2.0",
      "_view_name": "LayoutView",
      "align_content": null,
      "align_items": null,
      "align_self": null,
      "border": null,
      "bottom": null,
      "display": null,
      "flex": null,
      "flex_flow": null,
      "grid_area": null,
      "grid_auto_columns": null,
      "grid_auto_flow": null,
      "grid_auto_rows": null,
      "grid_column": null,
      "grid_gap": null,
      "grid_row": null,
      "grid_template_areas": null,
      "grid_template_columns": null,
      "grid_template_rows": null,
      "height": null,
      "justify_content": null,
      "justify_items": null,
      "left": null,
      "margin": null,
      "max_height": null,
      "max_width": null,
      "min_height": null,
      "min_width": null,
      "object_fit": null,
      "object_position": null,
      "order": null,
      "overflow": null,
      "overflow_x": null,
      "overflow_y": null,
      "padding": null,
      "right": null,
      "top": null,
      "visibility": null,
      "width": null
     }
    },
    "1203b0bfbd864ed4b3760f8b9f38b54b": {
     "model_module": "@jupyter-widgets/controls",
     "model_module_version": "1.5.0",
     "model_name": "HBoxModel",
     "state": {
      "_dom_classes": [],
      "_model_module": "@jupyter-widgets/controls",
      "_model_module_version": "1.5.0",
      "_model_name": "HBoxModel",
      "_view_count": null,
      "_view_module": "@jupyter-widgets/controls",
      "_view_module_version": "1.5.0",
      "_view_name": "HBoxView",
      "box_style": "",
      "children": [
       "IPY_MODEL_ca0edfa603ed47febc2eec6f4debdb54",
       "IPY_MODEL_5f4367ea26ee4cb4939350b4504454b9",
       "IPY_MODEL_4431f93a66114eb684268f5c5aca9313"
      ],
      "layout": "IPY_MODEL_d63201daecff4d35a90f5fb9f73996d1"
     }
    },
    "1989c323c4214287ae43ad32105085b3": {
     "model_module": "@jupyter-widgets/controls",
     "model_module_version": "1.5.0",
     "model_name": "HTMLModel",
     "state": {
      "_dom_classes": [],
      "_model_module": "@jupyter-widgets/controls",
      "_model_module_version": "1.5.0",
      "_model_name": "HTMLModel",
      "_view_count": null,
      "_view_module": "@jupyter-widgets/controls",
      "_view_module_version": "1.5.0",
      "_view_name": "HTMLView",
      "description": "",
      "description_tooltip": null,
      "layout": "IPY_MODEL_b7bb37656d694e20a0d75f16d11373be",
      "placeholder": "​",
      "style": "IPY_MODEL_c64d09249c4745918772e6fb9e151e9f",
      "value": " 29696/? [00:00&lt;00:00, 666342.39it/s]"
     }
    },
    "25b5ca12617340f392e59345c6f5db30": {
     "model_module": "@jupyter-widgets/controls",
     "model_module_version": "1.5.0",
     "model_name": "FloatProgressModel",
     "state": {
      "_dom_classes": [],
      "_model_module": "@jupyter-widgets/controls",
      "_model_module_version": "1.5.0",
      "_model_name": "FloatProgressModel",
      "_view_count": null,
      "_view_module": "@jupyter-widgets/controls",
      "_view_module_version": "1.5.0",
      "_view_name": "ProgressView",
      "bar_style": "success",
      "description": "",
      "description_tooltip": null,
      "layout": "IPY_MODEL_2e68a26c45314a8fa5237474a1a4f84f",
      "max": 4542,
      "min": 0,
      "orientation": "horizontal",
      "style": "IPY_MODEL_3766803743a341abbd20d04c2a92b9cd",
      "value": 4542
     }
    },
    "2e68a26c45314a8fa5237474a1a4f84f": {
     "model_module": "@jupyter-widgets/base",
     "model_module_version": "1.2.0",
     "model_name": "LayoutModel",
     "state": {
      "_model_module": "@jupyter-widgets/base",
      "_model_module_version": "1.2.0",
      "_model_name": "LayoutModel",
      "_view_count": null,
      "_view_module": "@jupyter-widgets/base",
      "_view_module_version": "1.2.0",
      "_view_name": "LayoutView",
      "align_content": null,
      "align_items": null,
      "align_self": null,
      "border": null,
      "bottom": null,
      "display": null,
      "flex": null,
      "flex_flow": null,
      "grid_area": null,
      "grid_auto_columns": null,
      "grid_auto_flow": null,
      "grid_auto_rows": null,
      "grid_column": null,
      "grid_gap": null,
      "grid_row": null,
      "grid_template_areas": null,
      "grid_template_columns": null,
      "grid_template_rows": null,
      "height": null,
      "justify_content": null,
      "justify_items": null,
      "left": null,
      "margin": null,
      "max_height": null,
      "max_width": null,
      "min_height": null,
      "min_width": null,
      "object_fit": null,
      "object_position": null,
      "order": null,
      "overflow": null,
      "overflow_x": null,
      "overflow_y": null,
      "padding": null,
      "right": null,
      "top": null,
      "visibility": null,
      "width": null
     }
    },
    "3112db25301143f2832335bd8ca297e4": {
     "model_module": "@jupyter-widgets/controls",
     "model_module_version": "1.5.0",
     "model_name": "HTMLModel",
     "state": {
      "_dom_classes": [],
      "_model_module": "@jupyter-widgets/controls",
      "_model_module_version": "1.5.0",
      "_model_name": "HTMLModel",
      "_view_count": null,
      "_view_module": "@jupyter-widgets/controls",
      "_view_module_version": "1.5.0",
      "_view_name": "HTMLView",
      "description": "",
      "description_tooltip": null,
      "layout": "IPY_MODEL_f4b70e4031854afea857a175fee2eda9",
      "placeholder": "​",
      "style": "IPY_MODEL_6bd70315e68d427a956833123232dfa1",
      "value": " 9913344/? [00:00&lt;00:00, 43931426.25it/s]"
     }
    },
    "32c8b8c68d78467092ad3e1ad042ab92": {
     "model_module": "@jupyter-widgets/controls",
     "model_module_version": "1.5.0",
     "model_name": "DescriptionStyleModel",
     "state": {
      "_model_module": "@jupyter-widgets/controls",
      "_model_module_version": "1.5.0",
      "_model_name": "DescriptionStyleModel",
      "_view_count": null,
      "_view_module": "@jupyter-widgets/base",
      "_view_module_version": "1.2.0",
      "_view_name": "StyleView",
      "description_width": ""
     }
    },
    "33ae09a707a44679a78f03d807a8bee0": {
     "model_module": "@jupyter-widgets/controls",
     "model_module_version": "1.5.0",
     "model_name": "DescriptionStyleModel",
     "state": {
      "_model_module": "@jupyter-widgets/controls",
      "_model_module_version": "1.5.0",
      "_model_name": "DescriptionStyleModel",
      "_view_count": null,
      "_view_module": "@jupyter-widgets/base",
      "_view_module_version": "1.2.0",
      "_view_name": "StyleView",
      "description_width": ""
     }
    },
    "3766803743a341abbd20d04c2a92b9cd": {
     "model_module": "@jupyter-widgets/controls",
     "model_module_version": "1.5.0",
     "model_name": "ProgressStyleModel",
     "state": {
      "_model_module": "@jupyter-widgets/controls",
      "_model_module_version": "1.5.0",
      "_model_name": "ProgressStyleModel",
      "_view_count": null,
      "_view_module": "@jupyter-widgets/base",
      "_view_module_version": "1.2.0",
      "_view_name": "StyleView",
      "bar_color": null,
      "description_width": ""
     }
    },
    "3b5931a2bab14a0ab483b09203a250b0": {
     "model_module": "@jupyter-widgets/base",
     "model_module_version": "1.2.0",
     "model_name": "LayoutModel",
     "state": {
      "_model_module": "@jupyter-widgets/base",
      "_model_module_version": "1.2.0",
      "_model_name": "LayoutModel",
      "_view_count": null,
      "_view_module": "@jupyter-widgets/base",
      "_view_module_version": "1.2.0",
      "_view_name": "LayoutView",
      "align_content": null,
      "align_items": null,
      "align_self": null,
      "border": null,
      "bottom": null,
      "display": null,
      "flex": null,
      "flex_flow": null,
      "grid_area": null,
      "grid_auto_columns": null,
      "grid_auto_flow": null,
      "grid_auto_rows": null,
      "grid_column": null,
      "grid_gap": null,
      "grid_row": null,
      "grid_template_areas": null,
      "grid_template_columns": null,
      "grid_template_rows": null,
      "height": null,
      "justify_content": null,
      "justify_items": null,
      "left": null,
      "margin": null,
      "max_height": null,
      "max_width": null,
      "min_height": null,
      "min_width": null,
      "object_fit": null,
      "object_position": null,
      "order": null,
      "overflow": null,
      "overflow_x": null,
      "overflow_y": null,
      "padding": null,
      "right": null,
      "top": null,
      "visibility": null,
      "width": null
     }
    },
    "4431f93a66114eb684268f5c5aca9313": {
     "model_module": "@jupyter-widgets/controls",
     "model_module_version": "1.5.0",
     "model_name": "HTMLModel",
     "state": {
      "_dom_classes": [],
      "_model_module": "@jupyter-widgets/controls",
      "_model_module_version": "1.5.0",
      "_model_name": "HTMLModel",
      "_view_count": null,
      "_view_module": "@jupyter-widgets/controls",
      "_view_module_version": "1.5.0",
      "_view_name": "HTMLView",
      "description": "",
      "description_tooltip": null,
      "layout": "IPY_MODEL_9609d6cd75ae4549b1f05dae5d53a7de",
      "placeholder": "​",
      "style": "IPY_MODEL_cfe2783dfa064d2f83994b632b67d2a6",
      "value": " 1649664/? [00:00&lt;00:00, 8632143.01it/s]"
     }
    },
    "46a4b598beb74b8996ae2ed143c85dff": {
     "model_module": "@jupyter-widgets/controls",
     "model_module_version": "1.5.0",
     "model_name": "HBoxModel",
     "state": {
      "_dom_classes": [],
      "_model_module": "@jupyter-widgets/controls",
      "_model_module_version": "1.5.0",
      "_model_name": "HBoxModel",
      "_view_count": null,
      "_view_module": "@jupyter-widgets/controls",
      "_view_module_version": "1.5.0",
      "_view_name": "HBoxView",
      "box_style": "",
      "children": [
       "IPY_MODEL_0a63f79ed1b24aee99589152080c7643",
       "IPY_MODEL_472cb9d9a27e46cab30167c1c90ca785",
       "IPY_MODEL_1989c323c4214287ae43ad32105085b3"
      ],
      "layout": "IPY_MODEL_936e0c28dbc14069ba4887ef3c3b2b34"
     }
    },
    "472cb9d9a27e46cab30167c1c90ca785": {
     "model_module": "@jupyter-widgets/controls",
     "model_module_version": "1.5.0",
     "model_name": "FloatProgressModel",
     "state": {
      "_dom_classes": [],
      "_model_module": "@jupyter-widgets/controls",
      "_model_module_version": "1.5.0",
      "_model_name": "FloatProgressModel",
      "_view_count": null,
      "_view_module": "@jupyter-widgets/controls",
      "_view_module_version": "1.5.0",
      "_view_name": "ProgressView",
      "bar_style": "success",
      "description": "",
      "description_tooltip": null,
      "layout": "IPY_MODEL_49bfc3336e86455e91994aa00786c8dd",
      "max": 28881,
      "min": 0,
      "orientation": "horizontal",
      "style": "IPY_MODEL_87ab583fe368454580d91855a120956c",
      "value": 28881
     }
    },
    "49bfc3336e86455e91994aa00786c8dd": {
     "model_module": "@jupyter-widgets/base",
     "model_module_version": "1.2.0",
     "model_name": "LayoutModel",
     "state": {
      "_model_module": "@jupyter-widgets/base",
      "_model_module_version": "1.2.0",
      "_model_name": "LayoutModel",
      "_view_count": null,
      "_view_module": "@jupyter-widgets/base",
      "_view_module_version": "1.2.0",
      "_view_name": "LayoutView",
      "align_content": null,
      "align_items": null,
      "align_self": null,
      "border": null,
      "bottom": null,
      "display": null,
      "flex": null,
      "flex_flow": null,
      "grid_area": null,
      "grid_auto_columns": null,
      "grid_auto_flow": null,
      "grid_auto_rows": null,
      "grid_column": null,
      "grid_gap": null,
      "grid_row": null,
      "grid_template_areas": null,
      "grid_template_columns": null,
      "grid_template_rows": null,
      "height": null,
      "justify_content": null,
      "justify_items": null,
      "left": null,
      "margin": null,
      "max_height": null,
      "max_width": null,
      "min_height": null,
      "min_width": null,
      "object_fit": null,
      "object_position": null,
      "order": null,
      "overflow": null,
      "overflow_x": null,
      "overflow_y": null,
      "padding": null,
      "right": null,
      "top": null,
      "visibility": null,
      "width": null
     }
    },
    "5f4367ea26ee4cb4939350b4504454b9": {
     "model_module": "@jupyter-widgets/controls",
     "model_module_version": "1.5.0",
     "model_name": "FloatProgressModel",
     "state": {
      "_dom_classes": [],
      "_model_module": "@jupyter-widgets/controls",
      "_model_module_version": "1.5.0",
      "_model_name": "FloatProgressModel",
      "_view_count": null,
      "_view_module": "@jupyter-widgets/controls",
      "_view_module_version": "1.5.0",
      "_view_name": "ProgressView",
      "bar_style": "success",
      "description": "",
      "description_tooltip": null,
      "layout": "IPY_MODEL_8a1e4affe07147648d9d565c0b437486",
      "max": 1648877,
      "min": 0,
      "orientation": "horizontal",
      "style": "IPY_MODEL_7b494398138945feae42b3376f2c9bbf",
      "value": 1648877
     }
    },
    "66b6a24ca19b4c1d9e96e0b4be1af715": {
     "model_module": "@jupyter-widgets/base",
     "model_module_version": "1.2.0",
     "model_name": "LayoutModel",
     "state": {
      "_model_module": "@jupyter-widgets/base",
      "_model_module_version": "1.2.0",
      "_model_name": "LayoutModel",
      "_view_count": null,
      "_view_module": "@jupyter-widgets/base",
      "_view_module_version": "1.2.0",
      "_view_name": "LayoutView",
      "align_content": null,
      "align_items": null,
      "align_self": null,
      "border": null,
      "bottom": null,
      "display": null,
      "flex": null,
      "flex_flow": null,
      "grid_area": null,
      "grid_auto_columns": null,
      "grid_auto_flow": null,
      "grid_auto_rows": null,
      "grid_column": null,
      "grid_gap": null,
      "grid_row": null,
      "grid_template_areas": null,
      "grid_template_columns": null,
      "grid_template_rows": null,
      "height": null,
      "justify_content": null,
      "justify_items": null,
      "left": null,
      "margin": null,
      "max_height": null,
      "max_width": null,
      "min_height": null,
      "min_width": null,
      "object_fit": null,
      "object_position": null,
      "order": null,
      "overflow": null,
      "overflow_x": null,
      "overflow_y": null,
      "padding": null,
      "right": null,
      "top": null,
      "visibility": null,
      "width": null
     }
    },
    "6bd70315e68d427a956833123232dfa1": {
     "model_module": "@jupyter-widgets/controls",
     "model_module_version": "1.5.0",
     "model_name": "DescriptionStyleModel",
     "state": {
      "_model_module": "@jupyter-widgets/controls",
      "_model_module_version": "1.5.0",
      "_model_name": "DescriptionStyleModel",
      "_view_count": null,
      "_view_module": "@jupyter-widgets/base",
      "_view_module_version": "1.2.0",
      "_view_name": "StyleView",
      "description_width": ""
     }
    },
    "70f724ea86e043f7b6eb65765d146f16": {
     "model_module": "@jupyter-widgets/controls",
     "model_module_version": "1.5.0",
     "model_name": "HBoxModel",
     "state": {
      "_dom_classes": [],
      "_model_module": "@jupyter-widgets/controls",
      "_model_module_version": "1.5.0",
      "_model_name": "HBoxModel",
      "_view_count": null,
      "_view_module": "@jupyter-widgets/controls",
      "_view_module_version": "1.5.0",
      "_view_name": "HBoxView",
      "box_style": "",
      "children": [
       "IPY_MODEL_d0e6f1f717ab4718b45c6389f6459652",
       "IPY_MODEL_25b5ca12617340f392e59345c6f5db30",
       "IPY_MODEL_843dd39e7969468ebdad8a3f0bb5a85d"
      ],
      "layout": "IPY_MODEL_66b6a24ca19b4c1d9e96e0b4be1af715"
     }
    },
    "7376de7e8e244208ba270d80d050601c": {
     "model_module": "@jupyter-widgets/controls",
     "model_module_version": "1.5.0",
     "model_name": "HBoxModel",
     "state": {
      "_dom_classes": [],
      "_model_module": "@jupyter-widgets/controls",
      "_model_module_version": "1.5.0",
      "_model_name": "HBoxModel",
      "_view_count": null,
      "_view_module": "@jupyter-widgets/controls",
      "_view_module_version": "1.5.0",
      "_view_name": "HBoxView",
      "box_style": "",
      "children": [
       "IPY_MODEL_c08766e6fa604de7b49028a5e7f85cbd",
       "IPY_MODEL_ce53937517fd4bd0a6e105fca6fe4c91",
       "IPY_MODEL_3112db25301143f2832335bd8ca297e4"
      ],
      "layout": "IPY_MODEL_f82263f6974e4de6934dc4d75d0ba533"
     }
    },
    "7b494398138945feae42b3376f2c9bbf": {
     "model_module": "@jupyter-widgets/controls",
     "model_module_version": "1.5.0",
     "model_name": "ProgressStyleModel",
     "state": {
      "_model_module": "@jupyter-widgets/controls",
      "_model_module_version": "1.5.0",
      "_model_name": "ProgressStyleModel",
      "_view_count": null,
      "_view_module": "@jupyter-widgets/base",
      "_view_module_version": "1.2.0",
      "_view_name": "StyleView",
      "bar_color": null,
      "description_width": ""
     }
    },
    "843dd39e7969468ebdad8a3f0bb5a85d": {
     "model_module": "@jupyter-widgets/controls",
     "model_module_version": "1.5.0",
     "model_name": "HTMLModel",
     "state": {
      "_dom_classes": [],
      "_model_module": "@jupyter-widgets/controls",
      "_model_module_version": "1.5.0",
      "_model_name": "HTMLModel",
      "_view_count": null,
      "_view_module": "@jupyter-widgets/controls",
      "_view_module_version": "1.5.0",
      "_view_name": "HTMLView",
      "description": "",
      "description_tooltip": null,
      "layout": "IPY_MODEL_8f172ed420644f96a3e1449f32bbd5eb",
      "placeholder": "​",
      "style": "IPY_MODEL_8d2f7142fef04b829b318e077c02fc0f",
      "value": " 5120/? [00:00&lt;00:00, 146860.59it/s]"
     }
    },
    "87ab583fe368454580d91855a120956c": {
     "model_module": "@jupyter-widgets/controls",
     "model_module_version": "1.5.0",
     "model_name": "ProgressStyleModel",
     "state": {
      "_model_module": "@jupyter-widgets/controls",
      "_model_module_version": "1.5.0",
      "_model_name": "ProgressStyleModel",
      "_view_count": null,
      "_view_module": "@jupyter-widgets/base",
      "_view_module_version": "1.2.0",
      "_view_name": "StyleView",
      "bar_color": null,
      "description_width": ""
     }
    },
    "8a1e4affe07147648d9d565c0b437486": {
     "model_module": "@jupyter-widgets/base",
     "model_module_version": "1.2.0",
     "model_name": "LayoutModel",
     "state": {
      "_model_module": "@jupyter-widgets/base",
      "_model_module_version": "1.2.0",
      "_model_name": "LayoutModel",
      "_view_count": null,
      "_view_module": "@jupyter-widgets/base",
      "_view_module_version": "1.2.0",
      "_view_name": "LayoutView",
      "align_content": null,
      "align_items": null,
      "align_self": null,
      "border": null,
      "bottom": null,
      "display": null,
      "flex": null,
      "flex_flow": null,
      "grid_area": null,
      "grid_auto_columns": null,
      "grid_auto_flow": null,
      "grid_auto_rows": null,
      "grid_column": null,
      "grid_gap": null,
      "grid_row": null,
      "grid_template_areas": null,
      "grid_template_columns": null,
      "grid_template_rows": null,
      "height": null,
      "justify_content": null,
      "justify_items": null,
      "left": null,
      "margin": null,
      "max_height": null,
      "max_width": null,
      "min_height": null,
      "min_width": null,
      "object_fit": null,
      "object_position": null,
      "order": null,
      "overflow": null,
      "overflow_x": null,
      "overflow_y": null,
      "padding": null,
      "right": null,
      "top": null,
      "visibility": null,
      "width": null
     }
    },
    "8d2f7142fef04b829b318e077c02fc0f": {
     "model_module": "@jupyter-widgets/controls",
     "model_module_version": "1.5.0",
     "model_name": "DescriptionStyleModel",
     "state": {
      "_model_module": "@jupyter-widgets/controls",
      "_model_module_version": "1.5.0",
      "_model_name": "DescriptionStyleModel",
      "_view_count": null,
      "_view_module": "@jupyter-widgets/base",
      "_view_module_version": "1.2.0",
      "_view_name": "StyleView",
      "description_width": ""
     }
    },
    "8f172ed420644f96a3e1449f32bbd5eb": {
     "model_module": "@jupyter-widgets/base",
     "model_module_version": "1.2.0",
     "model_name": "LayoutModel",
     "state": {
      "_model_module": "@jupyter-widgets/base",
      "_model_module_version": "1.2.0",
      "_model_name": "LayoutModel",
      "_view_count": null,
      "_view_module": "@jupyter-widgets/base",
      "_view_module_version": "1.2.0",
      "_view_name": "LayoutView",
      "align_content": null,
      "align_items": null,
      "align_self": null,
      "border": null,
      "bottom": null,
      "display": null,
      "flex": null,
      "flex_flow": null,
      "grid_area": null,
      "grid_auto_columns": null,
      "grid_auto_flow": null,
      "grid_auto_rows": null,
      "grid_column": null,
      "grid_gap": null,
      "grid_row": null,
      "grid_template_areas": null,
      "grid_template_columns": null,
      "grid_template_rows": null,
      "height": null,
      "justify_content": null,
      "justify_items": null,
      "left": null,
      "margin": null,
      "max_height": null,
      "max_width": null,
      "min_height": null,
      "min_width": null,
      "object_fit": null,
      "object_position": null,
      "order": null,
      "overflow": null,
      "overflow_x": null,
      "overflow_y": null,
      "padding": null,
      "right": null,
      "top": null,
      "visibility": null,
      "width": null
     }
    },
    "936e0c28dbc14069ba4887ef3c3b2b34": {
     "model_module": "@jupyter-widgets/base",
     "model_module_version": "1.2.0",
     "model_name": "LayoutModel",
     "state": {
      "_model_module": "@jupyter-widgets/base",
      "_model_module_version": "1.2.0",
      "_model_name": "LayoutModel",
      "_view_count": null,
      "_view_module": "@jupyter-widgets/base",
      "_view_module_version": "1.2.0",
      "_view_name": "LayoutView",
      "align_content": null,
      "align_items": null,
      "align_self": null,
      "border": null,
      "bottom": null,
      "display": null,
      "flex": null,
      "flex_flow": null,
      "grid_area": null,
      "grid_auto_columns": null,
      "grid_auto_flow": null,
      "grid_auto_rows": null,
      "grid_column": null,
      "grid_gap": null,
      "grid_row": null,
      "grid_template_areas": null,
      "grid_template_columns": null,
      "grid_template_rows": null,
      "height": null,
      "justify_content": null,
      "justify_items": null,
      "left": null,
      "margin": null,
      "max_height": null,
      "max_width": null,
      "min_height": null,
      "min_width": null,
      "object_fit": null,
      "object_position": null,
      "order": null,
      "overflow": null,
      "overflow_x": null,
      "overflow_y": null,
      "padding": null,
      "right": null,
      "top": null,
      "visibility": null,
      "width": null
     }
    },
    "9609d6cd75ae4549b1f05dae5d53a7de": {
     "model_module": "@jupyter-widgets/base",
     "model_module_version": "1.2.0",
     "model_name": "LayoutModel",
     "state": {
      "_model_module": "@jupyter-widgets/base",
      "_model_module_version": "1.2.0",
      "_model_name": "LayoutModel",
      "_view_count": null,
      "_view_module": "@jupyter-widgets/base",
      "_view_module_version": "1.2.0",
      "_view_name": "LayoutView",
      "align_content": null,
      "align_items": null,
      "align_self": null,
      "border": null,
      "bottom": null,
      "display": null,
      "flex": null,
      "flex_flow": null,
      "grid_area": null,
      "grid_auto_columns": null,
      "grid_auto_flow": null,
      "grid_auto_rows": null,
      "grid_column": null,
      "grid_gap": null,
      "grid_row": null,
      "grid_template_areas": null,
      "grid_template_columns": null,
      "grid_template_rows": null,
      "height": null,
      "justify_content": null,
      "justify_items": null,
      "left": null,
      "margin": null,
      "max_height": null,
      "max_width": null,
      "min_height": null,
      "min_width": null,
      "object_fit": null,
      "object_position": null,
      "order": null,
      "overflow": null,
      "overflow_x": null,
      "overflow_y": null,
      "padding": null,
      "right": null,
      "top": null,
      "visibility": null,
      "width": null
     }
    },
    "9fc2f91e9c9c48ce82b2f0a249b9cd21": {
     "model_module": "@jupyter-widgets/controls",
     "model_module_version": "1.5.0",
     "model_name": "ProgressStyleModel",
     "state": {
      "_model_module": "@jupyter-widgets/controls",
      "_model_module_version": "1.5.0",
      "_model_name": "ProgressStyleModel",
      "_view_count": null,
      "_view_module": "@jupyter-widgets/base",
      "_view_module_version": "1.2.0",
      "_view_name": "StyleView",
      "bar_color": null,
      "description_width": ""
     }
    },
    "a652504eecb8446eaf89cb631803e92b": {
     "model_module": "@jupyter-widgets/base",
     "model_module_version": "1.2.0",
     "model_name": "LayoutModel",
     "state": {
      "_model_module": "@jupyter-widgets/base",
      "_model_module_version": "1.2.0",
      "_model_name": "LayoutModel",
      "_view_count": null,
      "_view_module": "@jupyter-widgets/base",
      "_view_module_version": "1.2.0",
      "_view_name": "LayoutView",
      "align_content": null,
      "align_items": null,
      "align_self": null,
      "border": null,
      "bottom": null,
      "display": null,
      "flex": null,
      "flex_flow": null,
      "grid_area": null,
      "grid_auto_columns": null,
      "grid_auto_flow": null,
      "grid_auto_rows": null,
      "grid_column": null,
      "grid_gap": null,
      "grid_row": null,
      "grid_template_areas": null,
      "grid_template_columns": null,
      "grid_template_rows": null,
      "height": null,
      "justify_content": null,
      "justify_items": null,
      "left": null,
      "margin": null,
      "max_height": null,
      "max_width": null,
      "min_height": null,
      "min_width": null,
      "object_fit": null,
      "object_position": null,
      "order": null,
      "overflow": null,
      "overflow_x": null,
      "overflow_y": null,
      "padding": null,
      "right": null,
      "top": null,
      "visibility": null,
      "width": null
     }
    },
    "a66d9d7f63404a60985e330985c62783": {
     "model_module": "@jupyter-widgets/base",
     "model_module_version": "1.2.0",
     "model_name": "LayoutModel",
     "state": {
      "_model_module": "@jupyter-widgets/base",
      "_model_module_version": "1.2.0",
      "_model_name": "LayoutModel",
      "_view_count": null,
      "_view_module": "@jupyter-widgets/base",
      "_view_module_version": "1.2.0",
      "_view_name": "LayoutView",
      "align_content": null,
      "align_items": null,
      "align_self": null,
      "border": null,
      "bottom": null,
      "display": null,
      "flex": null,
      "flex_flow": null,
      "grid_area": null,
      "grid_auto_columns": null,
      "grid_auto_flow": null,
      "grid_auto_rows": null,
      "grid_column": null,
      "grid_gap": null,
      "grid_row": null,
      "grid_template_areas": null,
      "grid_template_columns": null,
      "grid_template_rows": null,
      "height": null,
      "justify_content": null,
      "justify_items": null,
      "left": null,
      "margin": null,
      "max_height": null,
      "max_width": null,
      "min_height": null,
      "min_width": null,
      "object_fit": null,
      "object_position": null,
      "order": null,
      "overflow": null,
      "overflow_x": null,
      "overflow_y": null,
      "padding": null,
      "right": null,
      "top": null,
      "visibility": null,
      "width": null
     }
    },
    "b7bb37656d694e20a0d75f16d11373be": {
     "model_module": "@jupyter-widgets/base",
     "model_module_version": "1.2.0",
     "model_name": "LayoutModel",
     "state": {
      "_model_module": "@jupyter-widgets/base",
      "_model_module_version": "1.2.0",
      "_model_name": "LayoutModel",
      "_view_count": null,
      "_view_module": "@jupyter-widgets/base",
      "_view_module_version": "1.2.0",
      "_view_name": "LayoutView",
      "align_content": null,
      "align_items": null,
      "align_self": null,
      "border": null,
      "bottom": null,
      "display": null,
      "flex": null,
      "flex_flow": null,
      "grid_area": null,
      "grid_auto_columns": null,
      "grid_auto_flow": null,
      "grid_auto_rows": null,
      "grid_column": null,
      "grid_gap": null,
      "grid_row": null,
      "grid_template_areas": null,
      "grid_template_columns": null,
      "grid_template_rows": null,
      "height": null,
      "justify_content": null,
      "justify_items": null,
      "left": null,
      "margin": null,
      "max_height": null,
      "max_width": null,
      "min_height": null,
      "min_width": null,
      "object_fit": null,
      "object_position": null,
      "order": null,
      "overflow": null,
      "overflow_x": null,
      "overflow_y": null,
      "padding": null,
      "right": null,
      "top": null,
      "visibility": null,
      "width": null
     }
    },
    "ba430763f68345a4886fc6b9e6f218d0": {
     "model_module": "@jupyter-widgets/base",
     "model_module_version": "1.2.0",
     "model_name": "LayoutModel",
     "state": {
      "_model_module": "@jupyter-widgets/base",
      "_model_module_version": "1.2.0",
      "_model_name": "LayoutModel",
      "_view_count": null,
      "_view_module": "@jupyter-widgets/base",
      "_view_module_version": "1.2.0",
      "_view_name": "LayoutView",
      "align_content": null,
      "align_items": null,
      "align_self": null,
      "border": null,
      "bottom": null,
      "display": null,
      "flex": null,
      "flex_flow": null,
      "grid_area": null,
      "grid_auto_columns": null,
      "grid_auto_flow": null,
      "grid_auto_rows": null,
      "grid_column": null,
      "grid_gap": null,
      "grid_row": null,
      "grid_template_areas": null,
      "grid_template_columns": null,
      "grid_template_rows": null,
      "height": null,
      "justify_content": null,
      "justify_items": null,
      "left": null,
      "margin": null,
      "max_height": null,
      "max_width": null,
      "min_height": null,
      "min_width": null,
      "object_fit": null,
      "object_position": null,
      "order": null,
      "overflow": null,
      "overflow_x": null,
      "overflow_y": null,
      "padding": null,
      "right": null,
      "top": null,
      "visibility": null,
      "width": null
     }
    },
    "bf831fe2852d451099fb7baa031b749a": {
     "model_module": "@jupyter-widgets/controls",
     "model_module_version": "1.5.0",
     "model_name": "DescriptionStyleModel",
     "state": {
      "_model_module": "@jupyter-widgets/controls",
      "_model_module_version": "1.5.0",
      "_model_name": "DescriptionStyleModel",
      "_view_count": null,
      "_view_module": "@jupyter-widgets/base",
      "_view_module_version": "1.2.0",
      "_view_name": "StyleView",
      "description_width": ""
     }
    },
    "c08766e6fa604de7b49028a5e7f85cbd": {
     "model_module": "@jupyter-widgets/controls",
     "model_module_version": "1.5.0",
     "model_name": "HTMLModel",
     "state": {
      "_dom_classes": [],
      "_model_module": "@jupyter-widgets/controls",
      "_model_module_version": "1.5.0",
      "_model_name": "HTMLModel",
      "_view_count": null,
      "_view_module": "@jupyter-widgets/controls",
      "_view_module_version": "1.5.0",
      "_view_name": "HTMLView",
      "description": "",
      "description_tooltip": null,
      "layout": "IPY_MODEL_ba430763f68345a4886fc6b9e6f218d0",
      "placeholder": "​",
      "style": "IPY_MODEL_bf831fe2852d451099fb7baa031b749a",
      "value": ""
     }
    },
    "c0d28c961d174b32a0a6c7943b716173": {
     "model_module": "@jupyter-widgets/controls",
     "model_module_version": "1.5.0",
     "model_name": "DescriptionStyleModel",
     "state": {
      "_model_module": "@jupyter-widgets/controls",
      "_model_module_version": "1.5.0",
      "_model_name": "DescriptionStyleModel",
      "_view_count": null,
      "_view_module": "@jupyter-widgets/base",
      "_view_module_version": "1.2.0",
      "_view_name": "StyleView",
      "description_width": ""
     }
    },
    "c64d09249c4745918772e6fb9e151e9f": {
     "model_module": "@jupyter-widgets/controls",
     "model_module_version": "1.5.0",
     "model_name": "DescriptionStyleModel",
     "state": {
      "_model_module": "@jupyter-widgets/controls",
      "_model_module_version": "1.5.0",
      "_model_name": "DescriptionStyleModel",
      "_view_count": null,
      "_view_module": "@jupyter-widgets/base",
      "_view_module_version": "1.2.0",
      "_view_name": "StyleView",
      "description_width": ""
     }
    },
    "ca0edfa603ed47febc2eec6f4debdb54": {
     "model_module": "@jupyter-widgets/controls",
     "model_module_version": "1.5.0",
     "model_name": "HTMLModel",
     "state": {
      "_dom_classes": [],
      "_model_module": "@jupyter-widgets/controls",
      "_model_module_version": "1.5.0",
      "_model_name": "HTMLModel",
      "_view_count": null,
      "_view_module": "@jupyter-widgets/controls",
      "_view_module_version": "1.5.0",
      "_view_name": "HTMLView",
      "description": "",
      "description_tooltip": null,
      "layout": "IPY_MODEL_3b5931a2bab14a0ab483b09203a250b0",
      "placeholder": "​",
      "style": "IPY_MODEL_c0d28c961d174b32a0a6c7943b716173",
      "value": ""
     }
    },
    "ce53937517fd4bd0a6e105fca6fe4c91": {
     "model_module": "@jupyter-widgets/controls",
     "model_module_version": "1.5.0",
     "model_name": "FloatProgressModel",
     "state": {
      "_dom_classes": [],
      "_model_module": "@jupyter-widgets/controls",
      "_model_module_version": "1.5.0",
      "_model_name": "FloatProgressModel",
      "_view_count": null,
      "_view_module": "@jupyter-widgets/controls",
      "_view_module_version": "1.5.0",
      "_view_name": "ProgressView",
      "bar_style": "success",
      "description": "",
      "description_tooltip": null,
      "layout": "IPY_MODEL_a652504eecb8446eaf89cb631803e92b",
      "max": 9912422,
      "min": 0,
      "orientation": "horizontal",
      "style": "IPY_MODEL_9fc2f91e9c9c48ce82b2f0a249b9cd21",
      "value": 9912422
     }
    },
    "cfe2783dfa064d2f83994b632b67d2a6": {
     "model_module": "@jupyter-widgets/controls",
     "model_module_version": "1.5.0",
     "model_name": "DescriptionStyleModel",
     "state": {
      "_model_module": "@jupyter-widgets/controls",
      "_model_module_version": "1.5.0",
      "_model_name": "DescriptionStyleModel",
      "_view_count": null,
      "_view_module": "@jupyter-widgets/base",
      "_view_module_version": "1.2.0",
      "_view_name": "StyleView",
      "description_width": ""
     }
    },
    "d0e6f1f717ab4718b45c6389f6459652": {
     "model_module": "@jupyter-widgets/controls",
     "model_module_version": "1.5.0",
     "model_name": "HTMLModel",
     "state": {
      "_dom_classes": [],
      "_model_module": "@jupyter-widgets/controls",
      "_model_module_version": "1.5.0",
      "_model_name": "HTMLModel",
      "_view_count": null,
      "_view_module": "@jupyter-widgets/controls",
      "_view_module_version": "1.5.0",
      "_view_name": "HTMLView",
      "description": "",
      "description_tooltip": null,
      "layout": "IPY_MODEL_a66d9d7f63404a60985e330985c62783",
      "placeholder": "​",
      "style": "IPY_MODEL_33ae09a707a44679a78f03d807a8bee0",
      "value": ""
     }
    },
    "d63201daecff4d35a90f5fb9f73996d1": {
     "model_module": "@jupyter-widgets/base",
     "model_module_version": "1.2.0",
     "model_name": "LayoutModel",
     "state": {
      "_model_module": "@jupyter-widgets/base",
      "_model_module_version": "1.2.0",
      "_model_name": "LayoutModel",
      "_view_count": null,
      "_view_module": "@jupyter-widgets/base",
      "_view_module_version": "1.2.0",
      "_view_name": "LayoutView",
      "align_content": null,
      "align_items": null,
      "align_self": null,
      "border": null,
      "bottom": null,
      "display": null,
      "flex": null,
      "flex_flow": null,
      "grid_area": null,
      "grid_auto_columns": null,
      "grid_auto_flow": null,
      "grid_auto_rows": null,
      "grid_column": null,
      "grid_gap": null,
      "grid_row": null,
      "grid_template_areas": null,
      "grid_template_columns": null,
      "grid_template_rows": null,
      "height": null,
      "justify_content": null,
      "justify_items": null,
      "left": null,
      "margin": null,
      "max_height": null,
      "max_width": null,
      "min_height": null,
      "min_width": null,
      "object_fit": null,
      "object_position": null,
      "order": null,
      "overflow": null,
      "overflow_x": null,
      "overflow_y": null,
      "padding": null,
      "right": null,
      "top": null,
      "visibility": null,
      "width": null
     }
    },
    "f4b70e4031854afea857a175fee2eda9": {
     "model_module": "@jupyter-widgets/base",
     "model_module_version": "1.2.0",
     "model_name": "LayoutModel",
     "state": {
      "_model_module": "@jupyter-widgets/base",
      "_model_module_version": "1.2.0",
      "_model_name": "LayoutModel",
      "_view_count": null,
      "_view_module": "@jupyter-widgets/base",
      "_view_module_version": "1.2.0",
      "_view_name": "LayoutView",
      "align_content": null,
      "align_items": null,
      "align_self": null,
      "border": null,
      "bottom": null,
      "display": null,
      "flex": null,
      "flex_flow": null,
      "grid_area": null,
      "grid_auto_columns": null,
      "grid_auto_flow": null,
      "grid_auto_rows": null,
      "grid_column": null,
      "grid_gap": null,
      "grid_row": null,
      "grid_template_areas": null,
      "grid_template_columns": null,
      "grid_template_rows": null,
      "height": null,
      "justify_content": null,
      "justify_items": null,
      "left": null,
      "margin": null,
      "max_height": null,
      "max_width": null,
      "min_height": null,
      "min_width": null,
      "object_fit": null,
      "object_position": null,
      "order": null,
      "overflow": null,
      "overflow_x": null,
      "overflow_y": null,
      "padding": null,
      "right": null,
      "top": null,
      "visibility": null,
      "width": null
     }
    },
    "f82263f6974e4de6934dc4d75d0ba533": {
     "model_module": "@jupyter-widgets/base",
     "model_module_version": "1.2.0",
     "model_name": "LayoutModel",
     "state": {
      "_model_module": "@jupyter-widgets/base",
      "_model_module_version": "1.2.0",
      "_model_name": "LayoutModel",
      "_view_count": null,
      "_view_module": "@jupyter-widgets/base",
      "_view_module_version": "1.2.0",
      "_view_name": "LayoutView",
      "align_content": null,
      "align_items": null,
      "align_self": null,
      "border": null,
      "bottom": null,
      "display": null,
      "flex": null,
      "flex_flow": null,
      "grid_area": null,
      "grid_auto_columns": null,
      "grid_auto_flow": null,
      "grid_auto_rows": null,
      "grid_column": null,
      "grid_gap": null,
      "grid_row": null,
      "grid_template_areas": null,
      "grid_template_columns": null,
      "grid_template_rows": null,
      "height": null,
      "justify_content": null,
      "justify_items": null,
      "left": null,
      "margin": null,
      "max_height": null,
      "max_width": null,
      "min_height": null,
      "min_width": null,
      "object_fit": null,
      "object_position": null,
      "order": null,
      "overflow": null,
      "overflow_x": null,
      "overflow_y": null,
      "padding": null,
      "right": null,
      "top": null,
      "visibility": null,
      "width": null
     }
    }
   }
  }
 },
 "nbformat": 4,
 "nbformat_minor": 1
}
