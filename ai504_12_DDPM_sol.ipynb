{
 "cells": [
  {
   "cell_type": "markdown",
   "id": "deaf8fe0",
   "metadata": {
    "id": "deaf8fe0"
   },
   "source": [
    "## **Week 13: Denoising Diffusion Probabilistic Model**"
   ]
  },
  {
   "cell_type": "markdown",
   "id": "vw-phpDTo7Zd",
   "metadata": {
    "id": "vw-phpDTo7Zd"
   },
   "source": [
    "We'll go over the **original DDPM paper by ([Ho et al., 2020](https://arxiv.org/abs/2006.11239))**, implementing it step-by-step in PyTorch, based on **Phil Wang's [implementation](https://github.com/lucidrains/denoising-diffusion-pytorch)** - which itself is based on the [original TensorFlow implementation](https://github.com/hojonathanho/diffusion). \n",
    "\n",
    "**Alright, let's dive in!**"
   ]
  },
  {
   "cell_type": "markdown",
   "id": "5fe7cf26",
   "metadata": {
    "id": "5fe7cf26"
   },
   "source": [
    "**Reference:**  \n",
    "* [The Annotated Diffusion Model](https://huggingface.co/blog/annotated-diffusion) ([Niels Rogge](https://huggingface.co/nielsr) and [Kashif Rasul](https://huggingface.co/kashif)): \n",
    "  * This is the most educative tutorial for DDPM. To make the notebook file you're looking at, I slightly edited this tutorial to suit the practice session.  \n",
    "* Phil Wang's [implementation](https://github.com/lucidrains/denoising-diffusion-pytorch) \n",
    "* The author's [original TensorFlow implementation](https://github.com/hojonathanho/diffusion)"
   ]
  },
  {
   "cell_type": "markdown",
   "id": "hJAINpDEsALY",
   "metadata": {
    "id": "hJAINpDEsALY"
   },
   "source": [
    "## The whole picture, first!\n",
    "\n",
    "\n",
    "<p align=\"center\">\n",
    "    <img src=\"https://drive.google.com/uc?export=view&id=1rkt777FHjqOpshhJ31gO4DDEzN4OOzu3\" width=\"800\" />\n",
    "</p>"
   ]
  },
  {
   "cell_type": "markdown",
   "id": "f6fa6143",
   "metadata": {
    "id": "f6fa6143"
   },
   "source": [
    "## What is a diffusion model?\n",
    "\n",
    "* A (denoising) diffusion model is **a neural network learns to gradually denoise data** starting from pure noise. \n",
    "* Researchers have been able to achieve remarkable results with them for (un)conditional image/audio/video generation.\n",
    "\n",
    "<p align=\"center\">\n",
    "    <img src=\"https://drive.google.com/uc?id=1t5dUyJwgy2ZpDAqHXw7GhUAp2FE5BWHA\" width=\"600\" />\n",
    "</p>\n",
    "\n",
    "In a bit more detail for images, the set-up consists of 2 processes:\n",
    "* **A fixed (or predefined) forward diffusion process $q$** of our choosing, that gradually adds Gaussian noise to an image, until you end up with pure noise\n",
    "* **A learned reverse denoising diffusion process $p_\\theta$**, where a neural network is trained to gradually denoise an image starting from pure noise, until you end up with an actual image.\n",
    "\n",
    "\n",
    "\n",
    "Both the forward and reverse process indexed by \\\\(t\\\\) happen for some number of finite time steps \\\\(T\\\\)\n",
    "\n",
    "* \\\\(\\mathbf{x}_0\\\\): This is a sample from the distribution of your real data.  \n",
    "* \\\\(\\mathbf{x}_t\\\\): The forward process samples some noise from a Gaussian distribution at each time step \\\\(t\\\\), which is added to the image of the previous time step.  \n",
    "* \\\\(\\mathbf{x}_T\\\\): Given a sufficiently large \\\\(T\\\\) and a well behaved schedule for adding noise at each time step, you end up with what is called an [isotropic Gaussian distribution](https://math.stackexchange.com/questions/1991961/gaussian-distribution-is-isotropic) at \\\\(t=T\\\\) via a gradual process."
   ]
  },
  {
   "cell_type": "markdown",
   "id": "6fe49a34",
   "metadata": {
    "id": "6fe49a34"
   },
   "source": [
    "## In more mathematical form\n",
    "\n",
    "Let's write this down more formally, as ultimately we need a tractable loss function which our neural network needs to optimize. \n",
    "\n",
    "**Forward Diffusion Process**\n",
    "\n",
    "* Let \\\\(q(\\mathbf{x}_0)\\\\) be the real data distribution, say of \"real images\". \n",
    "* \\\\(\\mathbf{x}_0 \\sim q(\\mathbf{x}_0)\\\\): We can sample from this distribution to get an image. \n",
    "* \\\\(\\beta_t\\\\) defines a so-called **\"variance schedule\"**: linear, quadratic, cosine, etc.\n",
    "* We define the forward diffusion process \\\\(q(\\mathbf{x}_t | \\mathbf{x}_{t-1})\\\\) which adds Gaussian noise at each time step \\\\(t\\\\), according to a known variance schedule \\\\(0 < \\beta_1 < \\beta_2 < ... < \\beta_T < 1\\\\) as \\\\(q(\\mathbf{x}_t | \\mathbf{x}_{t-1}) = \\mathcal{N}(\\mathbf{x}_t; \\sqrt{1 - \\beta_t} \\mathbf{x}_{t-1}, \\beta_t \\mathbf{I}\\\\)\n",
    "\n",
    "    * Basically, each new (slightly noiser) image at time step \\\\(t\\\\) is drawn from a **conditional Gaussian distribution** with \\\\(\\mathbf{\\mu}_t = \\sqrt{1 - \\beta_t} \\mathbf{x}_{t-1}\\\\) and \\\\(\\sigma^2_t = \\beta_t\\\\)  \n",
    "\n",
    "* We can parametrize \\\\(\\mathbf{x}_t = \\sqrt{1 - \\beta_t} \\mathbf{x}_{t-1} +  \\sqrt{\\beta_t} \\mathbf{\\epsilon}\\\\) by sampling \\\\(\\mathbf{\\epsilon} \\sim \\mathcal{N}(\\mathbf{0}, \\mathbf{I})\\\\)\n",
    "\n",
    "**Reverse Diffusion Process**\n",
    "\n",
    "* Now, if we knew the conditional distribution \\\\(p(\\mathbf{x}_{t-1} | \\mathbf{x}_t)\\\\), then we could run the process in reverse: by sampling some random Gaussian noise \\\\(\\mathbf{x}_T\\\\), and then gradually \"denoise\" it so that we end up with a sample from the real distribution \\\\(\\mathbf{x}_0\\\\).\n",
    "\n",
    "* However, we don't know \\\\(p(\\mathbf{x}_{t-1} | \\mathbf{x}_t)\\\\). It's **intractable** since it requires knowing the distribution of all possible images in order to calculate this conditional probability. \n",
    "* Hence, we're going to leverage **a neural network to approximate (learn) this conditional probability distribution**, let's call it \\\\(p_\\theta (\\mathbf{x}_{t-1} | \\mathbf{x}_t)\\\\), with \\\\(\\theta\\\\) being the parameters of the neural network, updated by gradient descent. \n",
    "\n",
    "**Neural Network \\\\(\\mathbf{\\epsilon}_\\theta(\\mathbf{x}_t, t)\\\\)**\n",
    "\n",
    "* Ok, so we need a neural network to represent a (conditional) probability distribution of the backward process. \n",
    "* If we assume this reverse process is Gaussian as well, then recall that any Gaussian distribution is defined by 2 parameters:\n",
    "  * a mean parametrized by \\\\(\\mu_\\theta\\\\);\n",
    "  * a variance parametrized by \\\\(\\Sigma_\\theta\\\\);\n",
    "\n",
    "* so we can parametrize the process as \n",
    "$$ p_\\theta (\\mathbf{x}_{t-1} | \\mathbf{x}_t) = \\mathcal{N}(\\mathbf{x}_{t-1}; \\mu_\\theta(\\mathbf{x}_{t},t), \\Sigma_\\theta (\\mathbf{x}_{t},t))$$\n",
    "where the mean and variance are also conditioned on the noise level \\\\(t\\\\).\n",
    "*  In DDPM, the neural network only learn (represent) the mean \\\\(\\mu_\\theta\\\\) of this conditional probability distribution"
   ]
  },
  {
   "cell_type": "markdown",
   "id": "2d747688",
   "metadata": {
    "id": "2d747688"
   },
   "source": [
    "## Defining an objective function (by reparametrizing the mean)\n",
    "\n",
    "* The **variational lower bound** (also called **ELBO**) can be used to minimize the negative log-likelihood with respect to ground truth data sample \\\\(\\mathbf{x}_0\\\\).\n",
    "* The ELBO for this process is a sum of losses at each time step \\\\(t\\\\), \\\\(L = L_0 + L_1 + ... + L_T\\\\).(please refer to [VAE](https://arxiv.org/abs/1312.6114) for further details regarding ELBO).\n",
    "* Each term (except for \\\\(L_0\\\\)) of the loss is actually the **KL divergence between 2 Gaussian distributions** which can be written explicitly as an L2-loss with respect to the means!\n",
    "*  During training, we can **optimize random terms of the loss function \\\\(L\\\\)** by its \"nice property\" \n",
    "    * In other words, to randomly sample \\\\(t\\\\) during training and optimize \\\\(L_t\\\\).\n",
    "    * We can sample \\\\(\\mathbf{x}_t\\\\) at any arbitrary noise level conditioned on \\\\(\\mathbf{x}_0\\\\) (since sums of Gaussians is also Gaussian).  \n",
    "$$q(\\mathbf{x}_t | \\mathbf{x}_0) = \\cal{N}(\\mathbf{x}_t; \\sqrt{\\bar{\\alpha}_t} \\mathbf{x}_0, (1- \\bar{\\alpha}_t) \\mathbf{I})$$ with \\\\(\\alpha_t := 1 - \\beta_t\\\\) and \\\\(\\bar{\\alpha}t := \\Pi_{s=1}^{t} \\alpha_s\\\\)\n",
    "\n",
    "* Moreover, we can instead reparametrize the mean to make the neural network learn (predict) the added noise.\n",
    "    * This means that our neural network becomes a noise predictor,\n",
    "    $$ \\| \\mathbf{\\epsilon} - \\mathbf{\\epsilon}_\\theta(\\mathbf{x}_t, t) \\|^2 = \\| \\mathbf{\\epsilon} - \\mathbf{\\epsilon}_\\theta( \\sqrt{\\bar{\\alpha}_t} \\mathbf{x}_0 + \\sqrt{(1- \\bar{\\alpha}_t)  } \\mathbf{\\epsilon}, t) \\|^2.$$\n",
    "    * rather than a (direct) mean predictor which computes the mean as :\n",
    "\n",
    "$$ \\mathbf{\\mu}_\\theta(\\mathbf{x}_t, t) = \\frac{1}{\\sqrt{\\alpha_t}} \\left(  \\mathbf{x}_t - \\frac{\\beta_t}{\\sqrt{1- \\bar{\\alpha}_t}} \\mathbf{\\epsilon}_\\theta(\\mathbf{x}_t, t) \\right)$$"
   ]
  },
  {
   "cell_type": "markdown",
   "id": "9a316bc2",
   "metadata": {
    "id": "9a316bc2"
   },
   "source": [
    "## Training \n",
    "The training algorithm now looks as follows:\n",
    "\n",
    "\n",
    "<p align=\"center\">\n",
    "    <img src=\"https://drive.google.com/uc?id=1LJsdkZ3i1J32lmi9ONMqKFg5LMtpSfT4\" width=\"500\" />\n",
    "</p>\n",
    "\n",
    "In other words:\n",
    "* We take a random sample $\\mathbf{x}_0$ from the real unknown and possibily complex data distribution $q(\\mathbf{x}_0)$\n",
    "* We sample a noise level $t$ uniformally between $1$ and $T$ (i.e., a random time step)\n",
    "* We sample some noise from a Gaussian distribution and corrupt the input by this noise at level $t$ using the nice property defined above\n",
    "* The neural network is trained to predict this noise based on the corruped image $\\mathbf{x}_t$, i.e. noise applied on $\\mathbf{x}_0$ based on known schedule $\\beta_t$"
   ]
  },
  {
   "cell_type": "markdown",
   "id": "e586852f",
   "metadata": {
    "id": "e586852f"
   },
   "source": [
    "## The neural network\n",
    "\n",
    "* The neural network needs to take in a noised image at a particular time step and return the predicted noise. \n",
    "* Note that the predicted noise is a tensor that has the same size/resolution as the input image. \n",
    "* So use [Autoencoder](https://en.wikipedia.org/wiki/Autoencoder)!: the DDPM authors went for a [U-Net](https://arxiv.org/abs/1505.04597).\n",
    "\n",
    "<p align=\"center\">\n",
    "    <img src=\"https://drive.google.com/uc?id=1_Hej_VTgdUWGsxxIuyZACCGjpbCGIUi6\" width=\"400\" />\n",
    "</p>\n",
    "\n",
    "As can be seen, a U-Net model first downsamples the input (i.e. makes the input smaller in terms of spatial resolution), after which upsampling is performed.    \n",
    "\n",
    "Below, we implement this network, step-by-step."
   ]
  },
  {
   "cell_type": "code",
   "execution_count": 1,
   "id": "f9a08dd3",
   "metadata": {
    "id": "f9a08dd3"
   },
   "outputs": [],
   "source": [
    "!pip install -q -U einops datasets matplotlib tqdm\n",
    "\n",
    "import math\n",
    "from inspect import isfunction\n",
    "from functools import partial\n",
    "\n",
    "%matplotlib inline\n",
    "import matplotlib.pyplot as plt\n",
    "from tqdm.auto import tqdm\n",
    "from einops import rearrange\n",
    "\n",
    "import torch\n",
    "from torch import nn, einsum\n",
    "import torch.nn.functional as F\n",
    "from torchvision.transforms import Compose, ToTensor, Lambda, ToPILImage, CenterCrop, Resize\n",
    "\n",
    "import os\n",
    "import numpy as np\n",
    "import random\n",
    "from PIL import Image\n",
    "import requests\n",
    "\n",
    "torch.backends.cudnn.deterministic = True\n",
    "torch.backends.cudnn.benchmark = False\n",
    "\n",
    "torch.manual_seed(0)\n",
    "np.random.seed(0)\n",
    "random.seed(0)"
   ]
  },
  {
   "cell_type": "markdown",
   "id": "5153024b",
   "metadata": {
    "id": "5153024b"
   },
   "source": [
    "### Network helpers\n",
    "\n",
    "* Some helper functions and classes which will be used when implementing the neural network. \n",
    "* `Residual` module simply adds the input to the output of a particular function (in other words, adds a residual connection to a particular function).\n",
    "* Aliases for the up- and downsampling operations."
   ]
  },
  {
   "cell_type": "code",
   "execution_count": 2,
   "id": "68907f5d",
   "metadata": {
    "id": "68907f5d"
   },
   "outputs": [],
   "source": [
    "def exists(x):\n",
    "    return x is not None\n",
    "\n",
    "def default(val, d):\n",
    "    if exists(val):\n",
    "        return val\n",
    "    return d() if isfunction(d) else d\n",
    "\n",
    "class Residual(nn.Module):\n",
    "    def __init__(self, fn):\n",
    "        super().__init__()\n",
    "        self.fn = fn\n",
    "\n",
    "    def forward(self, x, *args, **kwargs):\n",
    "        return self.fn(x, *args, **kwargs) + x\n",
    "\n",
    "def Upsample(dim):\n",
    "    return nn.ConvTranspose2d(dim, dim, 4, 2, 1)\n",
    "\n",
    "def Downsample(dim):\n",
    "    return nn.Conv2d(dim, dim, 4, 2, 1)"
   ]
  },
  {
   "cell_type": "markdown",
   "id": "592aa765",
   "metadata": {
    "id": "592aa765"
   },
   "source": [
    "### Position embeddings\n",
    "\n",
    "* The parameters of the neural network are shared across time (noise level). \n",
    "* So, the authors employ sinusoidal position embeddings encoding $t$ to make the network \"know\" at which particular time step (noise level) it is operating, for every image in a batch.\n",
    "* The `SinusoidalPositionEmbeddings` module takes \n",
    "    * input: A tensor of shape `(batch_size, 1)` (i.e. the noise levels of several noisy images in a batch), \n",
    "    * output: A tensor of shape `(batch_size, dim)`, with `dim` being the dimensionality of the position embeddings. \n",
    "    * The output will be added to each residual block, as we will see further."
   ]
  },
  {
   "cell_type": "code",
   "execution_count": 3,
   "id": "5ed0757b",
   "metadata": {
    "id": "5ed0757b"
   },
   "outputs": [],
   "source": [
    "class SinusoidalPositionEmbeddings(nn.Module):\n",
    "    def __init__(self, dim):\n",
    "        super().__init__()\n",
    "        self.dim = dim\n",
    "\n",
    "    def forward(self, time):\n",
    "        device = time.device\n",
    "        half_dim = self.dim // 2\n",
    "        embeddings = math.log(10000) / (half_dim - 1)\n",
    "        embeddings = torch.exp(torch.arange(half_dim, device=device) * -embeddings)\n",
    "        embeddings = time[:, None] * embeddings[None, :]\n",
    "        embeddings = torch.cat((embeddings.sin(), embeddings.cos()), dim=-1)\n",
    "        return embeddings"
   ]
  },
  {
   "cell_type": "markdown",
   "id": "9ff47fbb",
   "metadata": {
    "id": "9ff47fbb"
   },
   "source": [
    "### ResNet/ConvNeXT block\n",
    "\n",
    "The core building block of the U-Net model. \n",
    "* The DDPM authors employed a Wide ResNet block ([Zagoruyko et al., 2016](https://arxiv.org/abs/1605.07146)).\n",
    "* [Phil Wang (Lucidrains)](https://github.com/lucidrains) decided to also add support for a ConvNeXT block ([Liu et al., 2022](https://arxiv.org/abs/2201.03545)) achieving great success in the image domain."
   ]
  },
  {
   "cell_type": "code",
   "execution_count": 4,
   "id": "2c2d1219",
   "metadata": {
    "id": "2c2d1219"
   },
   "outputs": [],
   "source": [
    "class Block(nn.Module):\n",
    "    def __init__(self, dim, dim_out, groups = 8):\n",
    "        super().__init__()\n",
    "        self.proj = nn.Conv2d(dim, dim_out, 3, padding = 1)\n",
    "        self.norm = nn.GroupNorm(groups, dim_out)\n",
    "        self.act = nn.SiLU()\n",
    "\n",
    "    def forward(self, x, scale_shift = None):\n",
    "        x = self.proj(x)\n",
    "        x = self.norm(x)\n",
    "\n",
    "        if exists(scale_shift):\n",
    "            scale, shift = scale_shift\n",
    "            x = x * (scale + 1) + shift\n",
    "\n",
    "        x = self.act(x)\n",
    "        return x\n",
    "\n",
    "class ResnetBlock(nn.Module):\n",
    "    \"\"\"https://arxiv.org/abs/1512.03385\"\"\"\n",
    "    \n",
    "    def __init__(self, dim, dim_out, *, time_emb_dim=None, groups=8):\n",
    "        super().__init__()\n",
    "        self.mlp = (\n",
    "            nn.Sequential(nn.SiLU(), nn.Linear(time_emb_dim, dim_out))\n",
    "            if exists(time_emb_dim)\n",
    "            else None\n",
    "        )\n",
    "\n",
    "        self.block1 = Block(dim, dim_out, groups=groups)\n",
    "        self.block2 = Block(dim_out, dim_out, groups=groups)\n",
    "        self.res_conv = nn.Conv2d(dim, dim_out, 1) if dim != dim_out else nn.Identity()\n",
    "\n",
    "    def forward(self, x, time_emb=None):\n",
    "        h = self.block1(x)\n",
    "\n",
    "        if exists(self.mlp) and exists(time_emb):\n",
    "            time_emb = self.mlp(time_emb)\n",
    "            h = rearrange(time_emb, \"b c -> b c 1 1\") + h\n",
    "\n",
    "        h = self.block2(h)\n",
    "        return h + self.res_conv(x)\n",
    "    \n",
    "class ConvNextBlock(nn.Module):\n",
    "    \"\"\"https://arxiv.org/abs/2201.03545\"\"\"\n",
    "\n",
    "    def __init__(self, dim, dim_out, *, time_emb_dim=None, mult=2, norm=True):\n",
    "        super().__init__()\n",
    "        self.mlp = (\n",
    "            nn.Sequential(nn.GELU(), nn.Linear(time_emb_dim, dim))\n",
    "            if exists(time_emb_dim)\n",
    "            else None\n",
    "        )\n",
    "\n",
    "        self.ds_conv = nn.Conv2d(dim, dim, 7, padding=3, groups=dim)\n",
    "\n",
    "        self.net = nn.Sequential(\n",
    "            nn.GroupNorm(1, dim) if norm else nn.Identity(),\n",
    "            nn.Conv2d(dim, dim_out * mult, 3, padding=1),\n",
    "            nn.GELU(),\n",
    "            nn.GroupNorm(1, dim_out * mult),\n",
    "            nn.Conv2d(dim_out * mult, dim_out, 3, padding=1),\n",
    "        )\n",
    "\n",
    "        self.res_conv = nn.Conv2d(dim, dim_out, 1) if dim != dim_out else nn.Identity()\n",
    "\n",
    "    def forward(self, x, time_emb=None):\n",
    "        h = self.ds_conv(x)\n",
    "\n",
    "        if exists(self.mlp) and exists(time_emb):\n",
    "            assert exists(time_emb), \"time embedding must be passed in\"\n",
    "            condition = self.mlp(time_emb)\n",
    "            h = h + rearrange(condition, \"b c -> b c 1 1\")\n",
    "\n",
    "        h = self.net(h)\n",
    "        return h + self.res_conv(x)"
   ]
  },
  {
   "cell_type": "markdown",
   "id": "51d9a24c",
   "metadata": {
    "id": "51d9a24c"
   },
   "source": [
    "### Attention module\n",
    "\n",
    "The attention module, which the DDPM authors added in between the convolutional blocks.\n",
    "* Regular multi-head self-attention([Vaswani et al., 2017](https://arxiv.org/abs/1706.03762)): time- and memory requirements scale quadratic.\n",
    "\n"
   ]
  },
  {
   "cell_type": "code",
   "execution_count": 5,
   "id": "07bbd544",
   "metadata": {
    "id": "07bbd544"
   },
   "outputs": [],
   "source": [
    "class Attention(nn.Module):\n",
    "    def __init__(self, dim, heads=4, dim_head=32):\n",
    "        super().__init__()\n",
    "        self.scale = dim_head**-0.5\n",
    "        self.heads = heads\n",
    "        hidden_dim = dim_head * heads\n",
    "        self.to_qkv = nn.Conv2d(dim, hidden_dim * 3, 1, bias=False)\n",
    "        self.to_out = nn.Conv2d(hidden_dim, dim, 1)\n",
    "\n",
    "    def forward(self, x):\n",
    "        b, c, h, w = x.shape\n",
    "        qkv = self.to_qkv(x).chunk(3, dim=1)\n",
    "        q, k, v = map(\n",
    "            lambda t: rearrange(t, \"b (h c) x y -> b h c (x y)\", h=self.heads), qkv\n",
    "        )\n",
    "        q = q * self.scale\n",
    "\n",
    "        sim = einsum(\"b h d i, b h d j -> b h i j\", q, k)\n",
    "        sim = sim - sim.amax(dim=-1, keepdim=True).detach()\n",
    "        attn = sim.softmax(dim=-1)\n",
    "\n",
    "        out = einsum(\"b h i j, b h d j -> b h i d\", attn, v)\n",
    "        out = rearrange(out, \"b h (x y) d -> b (h d) x y\", x=h, y=w)\n",
    "        return self.to_out(out)"
   ]
  },
  {
   "cell_type": "markdown",
   "id": "9a8031b0",
   "metadata": {
    "id": "9a8031b0"
   },
   "source": [
    "### Group normalization\n",
    "\n",
    "* The DDPM authors interleave the convolutional/attention layers of the U-Net with group normalization ([Wu et al., 2018](https://arxiv.org/abs/1803.08494)). \n",
    "* `PreNorm` class will be used to apply groupnorm before the attention layer, as we'll see further. "
   ]
  },
  {
   "cell_type": "code",
   "execution_count": 6,
   "id": "5e2ce68f",
   "metadata": {
    "id": "5e2ce68f"
   },
   "outputs": [],
   "source": [
    "class PreNorm(nn.Module):\n",
    "    def __init__(self, dim, fn):\n",
    "        super().__init__()\n",
    "        self.fn = fn\n",
    "        self.norm = nn.GroupNorm(1, dim)\n",
    "\n",
    "    def forward(self, x):\n",
    "        x = self.norm(x)\n",
    "        return self.fn(x)"
   ]
  },
  {
   "cell_type": "markdown",
   "id": "06b3fad0",
   "metadata": {
    "id": "06b3fad0"
   },
   "source": [
    "### Conditional U-Net\n",
    "\n",
    "Now, we've defined all building blocks (position embeddings, ResNet/ConvNeXT blocks, attention and group normalization).  \n",
    "\n",
    "It's time to define the entire neural network. \n",
    "\n",
    "* The job of the network \\\\(\\mathbf{\\epsilon}_\\theta(\\mathbf{x}_t, t)\\\\) is to take in a batch of noisy images + noise levels, and output the noise added to the input\n",
    "* More formally: The network takes a batch of noisy images of shape `(batch_size, num_channels, height, width)` and a batch of noise levels of shape `(batch_size, 1)` as input, and returns a tensor of shape `(batch_size, num_channels, height, width)`\n",
    "\n",
    "The network is built up as follows:\n",
    "1. A convolutional layer is applied on the batch of noisy images, and position embeddings are computed for the noise levels\n",
    "1. A sequence of downsampling stages are applied.\n",
    "    * Each downsampling stage consists of 2 ResNet/ConvNeXT blocks + groupnorm + attention + residual connection + a downsample operation\n",
    "1. At the middle of the network, again ResNet or ConvNeXT blocks are applied, interleaved with attention\n",
    "1. A sequence of upsampling stages are applied. \n",
    "    * Each upsampling stage consists of 2 ResNet/ConvNeXT blocks + groupnorm + attention + residual connection + an upsample operation\n",
    "1. Finally, a ResNet/ConvNeXT block followed by a convolutional layer is applied.\n",
    "\n"
   ]
  },
  {
   "cell_type": "code",
   "execution_count": 7,
   "id": "3a159023",
   "metadata": {
    "id": "3a159023"
   },
   "outputs": [],
   "source": [
    "class Unet(nn.Module):\n",
    "    def __init__(\n",
    "        self,\n",
    "        dim,\n",
    "        init_dim=None,\n",
    "        out_dim=None,\n",
    "        dim_mults=(1, 2, 4, 8),\n",
    "        channels=3,\n",
    "        with_time_emb=True,\n",
    "        resnet_block_groups=8,\n",
    "        use_convnext=True,\n",
    "        convnext_mult=2,\n",
    "    ):\n",
    "        super().__init__()\n",
    "\n",
    "        # determine dimensions\n",
    "        self.channels = channels\n",
    "\n",
    "        init_dim = default(init_dim, dim // 3 * 2)\n",
    "        self.init_conv = nn.Conv2d(channels, init_dim, 7, padding=3)\n",
    "\n",
    "        dims = [init_dim, *map(lambda m: dim * m, dim_mults)]\n",
    "        in_out = list(zip(dims[:-1], dims[1:]))\n",
    "        \n",
    "        if use_convnext:\n",
    "            block_klass = partial(ConvNextBlock, mult=convnext_mult)\n",
    "        else:\n",
    "            block_klass = partial(ResnetBlock, groups=resnet_block_groups)\n",
    "\n",
    "        # time embeddings\n",
    "        if with_time_emb:\n",
    "            time_dim = dim * 4\n",
    "            self.time_mlp = nn.Sequential(\n",
    "                SinusoidalPositionEmbeddings(dim),\n",
    "                nn.Linear(dim, time_dim),\n",
    "                nn.GELU(),\n",
    "                nn.Linear(time_dim, time_dim),\n",
    "            )\n",
    "        else:\n",
    "            time_dim = None\n",
    "            self.time_mlp = None\n",
    "\n",
    "        # layers\n",
    "        self.downs = nn.ModuleList([])\n",
    "        self.ups = nn.ModuleList([])\n",
    "        num_resolutions = len(in_out)\n",
    "\n",
    "        for ind, (dim_in, dim_out) in enumerate(in_out):\n",
    "            is_last = ind >= (num_resolutions - 1)\n",
    "\n",
    "            self.downs.append(\n",
    "                nn.ModuleList(\n",
    "                    [\n",
    "                        block_klass(dim_in, dim_out, time_emb_dim=time_dim),\n",
    "                        block_klass(dim_out, dim_out, time_emb_dim=time_dim),\n",
    "                        Residual(PreNorm(dim_out, Attention(dim_out))),\n",
    "                        Downsample(dim_out) if not is_last else nn.Identity(),\n",
    "                    ]\n",
    "                )\n",
    "            )\n",
    "\n",
    "        mid_dim = dims[-1]\n",
    "        self.mid_block1 = block_klass(mid_dim, mid_dim, time_emb_dim=time_dim)\n",
    "        self.mid_attn = Residual(PreNorm(mid_dim, Attention(mid_dim)))\n",
    "        self.mid_block2 = block_klass(mid_dim, mid_dim, time_emb_dim=time_dim)\n",
    "\n",
    "        for ind, (dim_in, dim_out) in enumerate(reversed(in_out[1:])):\n",
    "            is_last = ind >= (num_resolutions - 1)\n",
    "\n",
    "            self.ups.append(\n",
    "                nn.ModuleList(\n",
    "                    [\n",
    "                        block_klass(dim_out * 2, dim_in, time_emb_dim=time_dim),\n",
    "                        block_klass(dim_in, dim_in, time_emb_dim=time_dim),\n",
    "                        Residual(PreNorm(dim_in, Attention(dim_in))),\n",
    "                        Upsample(dim_in) if not is_last else nn.Identity(),\n",
    "                    ]\n",
    "                )\n",
    "            )\n",
    "\n",
    "        out_dim = default(out_dim, channels)\n",
    "        self.final_conv = nn.Sequential(\n",
    "            block_klass(dim, dim), nn.Conv2d(dim, out_dim, 1)\n",
    "        )\n",
    "\n",
    "    def forward(self, x, time):\n",
    "        x = self.init_conv(x)\n",
    "\n",
    "        t = self.time_mlp(time) if exists(self.time_mlp) else None\n",
    "\n",
    "        h = []\n",
    "\n",
    "        # downsample\n",
    "        for block1, block2, attn, downsample in self.downs:\n",
    "            x = block1(x, t)\n",
    "            x = block2(x, t)\n",
    "            x = attn(x)\n",
    "            h.append(x)\n",
    "            x = downsample(x)\n",
    "\n",
    "        # bottleneck\n",
    "        x = self.mid_block1(x, t)\n",
    "        x = self.mid_attn(x)\n",
    "        x = self.mid_block2(x, t)\n",
    "\n",
    "        # upsample\n",
    "        for block1, block2, attn, upsample in self.ups:\n",
    "            x = torch.cat((x, h.pop()), dim=1)\n",
    "            x = block1(x, t)\n",
    "            x = block2(x, t)\n",
    "            x = attn(x)\n",
    "            x = upsample(x)\n",
    "\n",
    "        return self.final_conv(x)"
   ]
  },
  {
   "cell_type": "markdown",
   "id": "a30368b2",
   "metadata": {
    "id": "a30368b2"
   },
   "source": [
    "## Defining the forward diffusion process\n",
    "\n",
    "* The forward diffusion process gradually adds noise to an image from the real distribution, in a number of time steps $T$. \n",
    "* This happens according to a **variance schedule**. \n",
    "    * Below, we define various schedules for the $T$ timesteps, as well as corresponding variables which we'll need, such as cumulative variances.\n",
    "    * The original DDPM authors employed a linear schedule (from $\\beta_1 = 10^{−4}$ to $\\beta_T = 0.02$). \n",
    "    * [Nichol et al., 2021](https://arxiv.org/abs/2102.09672) showed that employing a cosine schedule lead to better results.\n"
   ]
  },
  {
   "cell_type": "code",
   "execution_count": 8,
   "id": "5d751df2",
   "metadata": {
    "id": "5d751df2"
   },
   "outputs": [],
   "source": [
    "def cosine_beta_schedule(timesteps, s=0.008):\n",
    "    \"\"\"\n",
    "    cosine schedule as proposed in https://arxiv.org/abs/2102.09672\n",
    "    \"\"\"\n",
    "    steps = timesteps + 1\n",
    "    x = torch.linspace(0, timesteps, steps)\n",
    "    alphas_cumprod = torch.cos(((x / timesteps) + s) / (1 + s) * torch.pi * 0.5) ** 2\n",
    "    alphas_cumprod = alphas_cumprod / alphas_cumprod[0]\n",
    "    betas = 1 - (alphas_cumprod[1:] / alphas_cumprod[:-1])\n",
    "    return torch.clip(betas, 0.0001, 0.9999)\n",
    "\n",
    "def linear_beta_schedule(timesteps):\n",
    "    beta_start = 0.0001\n",
    "    beta_end = 0.02\n",
    "    return torch.linspace(beta_start, beta_end, timesteps)\n",
    "\n",
    "def quadratic_beta_schedule(timesteps):\n",
    "    beta_start = 0.0001\n",
    "    beta_end = 0.02\n",
    "    return torch.linspace(beta_start**0.5, beta_end**0.5, timesteps) ** 2\n",
    "\n",
    "def sigmoid_beta_schedule(timesteps):\n",
    "    beta_start = 0.0001\n",
    "    beta_end = 0.02\n",
    "    betas = torch.linspace(-6, 6, timesteps)\n",
    "    return torch.sigmoid(betas) * (beta_end - beta_start) + beta_start"
   ]
  },
  {
   "cell_type": "markdown",
   "id": "6bfc3841",
   "metadata": {
    "id": "6bfc3841"
   },
   "source": [
    "To start with,\n",
    "* Let's use the linear schedule for \\\\(T=200\\\\) time steps \n",
    "* Define the various variables from the \\\\(\\beta_t\\\\) which we will need, such as the cumulative product of the variances \\\\(\\bar{\\alpha}_t\\\\). \n",
    "* Each of the variables below are just 1-dimensional tensors, storing values from \\\\(t\\\\) to \\\\(T\\\\). \n",
    "* Importantly, we also define an `extract` function, which will allow us to extract the appropriate \\\\(t\\\\) index for a batch of indices.\n"
   ]
  },
  {
   "cell_type": "code",
   "execution_count": 9,
   "id": "cc57b01f",
   "metadata": {
    "id": "cc57b01f"
   },
   "outputs": [],
   "source": [
    "timesteps = 200\n",
    "\n",
    "# define beta schedule\n",
    "betas = linear_beta_schedule(timesteps=timesteps)\n",
    "\n",
    "# define alphas \n",
    "alphas = 1. - betas\n",
    "alphas_cumprod = torch.cumprod(alphas, axis=0)\n",
    "alphas_cumprod_prev = F.pad(alphas_cumprod[:-1], (1, 0), value=1.0)\n",
    "sqrt_recip_alphas = torch.sqrt(1.0 / alphas)\n",
    "\n",
    "# calculations for diffusion q(x_t | x_{t-1}) and others\n",
    "sqrt_alphas_cumprod = torch.sqrt(alphas_cumprod)\n",
    "sqrt_one_minus_alphas_cumprod = torch.sqrt(1. - alphas_cumprod)\n",
    "\n",
    "# calculations for posterior q(x_{t-1} | x_t, x_0)\n",
    "posterior_variance = betas * (1. - alphas_cumprod_prev) / (1. - alphas_cumprod)\n",
    "\n",
    "def extract(a, t, x_shape):\n",
    "    batch_size = t.shape[0]\n",
    "    out = a.gather(-1, t.cpu())\n",
    "    return out.reshape(batch_size, *((1,) * (len(x_shape) - 1))).to(t.device)"
   ]
  },
  {
   "cell_type": "code",
   "execution_count": 10,
   "id": "f3752480",
   "metadata": {
    "id": "f3752480"
   },
   "outputs": [],
   "source": [
    "# forward diffusion\n",
    "def q_sample(x_start, t, noise=None):\n",
    "    if noise is None:\n",
    "        noise = torch.randn_like(x_start)\n",
    "\n",
    "    sqrt_alphas_cumprod_t = extract(sqrt_alphas_cumprod, t, x_start.shape)\n",
    "    sqrt_one_minus_alphas_cumprod_t = extract(\n",
    "        sqrt_one_minus_alphas_cumprod, t, x_start.shape\n",
    "    )\n",
    "\n",
    "    return sqrt_alphas_cumprod_t * x_start + sqrt_one_minus_alphas_cumprod_t * noise"
   ]
  },
  {
   "cell_type": "code",
   "execution_count": 11,
   "id": "b782900d",
   "metadata": {
    "id": "b782900d"
   },
   "outputs": [],
   "source": [
    "def p_losses(denoise_model, x_start, t, noise=None, loss_type=\"l1\"):\n",
    "    if noise is None:\n",
    "        noise = torch.randn_like(x_start)\n",
    "\n",
    "    x_noisy = q_sample(x_start=x_start, t=t, noise=noise)\n",
    "    predicted_noise = denoise_model(x_noisy, t)\n",
    "\n",
    "    if loss_type == 'l1':\n",
    "        loss = F.l1_loss(noise, predicted_noise)\n",
    "    elif loss_type == 'l2':\n",
    "        loss = F.mse_loss(noise, predicted_noise)\n",
    "    elif loss_type == \"huber\":\n",
    "        loss = F.smooth_l1_loss(noise, predicted_noise)\n",
    "    else:\n",
    "        raise NotImplementedError()\n",
    "\n",
    "    return loss"
   ]
  },
  {
   "cell_type": "markdown",
   "id": "cc01c63b",
   "metadata": {
    "id": "cc01c63b"
   },
   "source": [
    "## Define a PyTorch Dataset + DataLoader\n",
    "\n",
    "Here we define a regular [PyTorch Dataset](https://pytorch.org/tutorials/beginner/basics/data_tutorial.html). The dataset simply consists of images from a real dataset, like Fashion-MNIST, CIFAR-10 or ImageNet, scaled linearly to \\\\([−1, 1]\\\\).\n",
    "\n",
    "* Each image is resized to the same size. \n",
    "* Randomly and horizontally flipping the images improve sample quality slightly.\n",
    "\n",
    "Here we use the 🤗 [Datasets library](https://huggingface.co/docs/datasets/index) to easily load the Fashion MNIST dataset from the [hub](https://huggingface.co/datasets/fashion_mnist). This dataset consists of images which already have the same resolution, namely 28x28."
   ]
  },
  {
   "cell_type": "code",
   "execution_count": 12,
   "id": "6134d691",
   "metadata": {
    "colab": {
     "base_uri": "https://localhost:8080/",
     "height": 67,
     "referenced_widgets": [
      "2761dab67cfe4a7fbe49eeb5b11e19d1",
      "e2b3dc6b758e425cb9cbf8527bd2bd69",
      "452db05023a7493da4517eed821f4112",
      "2673290583bf4014a4e645d5316346f3",
      "10e9ff8a77cd4dc8b60574ffaeb54dd8",
      "2107077e23584434a8da23a21cb295e8",
      "213927ea84a34be391eee4fb119bbfe4",
      "6b73f155f56145eb9a21baa01a9b5f1d",
      "0e66b8dcc93747698af502d118818237",
      "982f7881046845f59717defe951f56aa",
      "e5569e1472884ec59ae131ac051640da"
     ]
    },
    "executionInfo": {
     "elapsed": 2157,
     "status": "ok",
     "timestamp": 1669819315572,
     "user": {
      "displayName": "이민재",
      "userId": "14868486707690949019"
     },
     "user_tz": -540
    },
    "id": "6134d691",
    "outputId": "2ac4341d-a293-4a4f-cf08-a9b5acf91773"
   },
   "outputs": [],
   "source": [
    "from datasets import load_dataset\n",
    "\n",
    "# load dataset from the hub\n",
    "dataset = load_dataset(\"fashion_mnist\")\n",
    "image_size = 28\n",
    "channels = 1\n",
    "batch_size = 128"
   ]
  },
  {
   "cell_type": "markdown",
   "id": "db6f5875",
   "metadata": {
    "id": "db6f5875"
   },
   "source": [
    "Next, we define a function which we'll apply on-the-fly on the entire dataset. We use the `with_transform` [functionality](https://huggingface.co/docs/datasets/v2.2.1/en/package_reference/main_classes#datasets.Dataset.with_transform) for that. The function just applies some basic image preprocessing: random horizontal flips, rescaling and finally make them have values in the $[-1,1]$ range."
   ]
  },
  {
   "cell_type": "code",
   "execution_count": 13,
   "id": "b3e78945",
   "metadata": {
    "id": "b3e78945"
   },
   "outputs": [],
   "source": [
    "from torchvision import transforms\n",
    "from torch.utils.data import DataLoader\n",
    "\n",
    "# define image transformations (e.g. using torchvision)\n",
    "transform = Compose([\n",
    "            transforms.RandomHorizontalFlip(),\n",
    "            transforms.ToTensor(),\n",
    "            transforms.Lambda(lambda t: (t * 2) - 1)\n",
    "])\n",
    "\n",
    "# define function\n",
    "def transforms(examples):\n",
    "    examples[\"pixel_values\"] = [transform(image.convert(\"L\")) for image in examples[\"image\"]]\n",
    "    del examples[\"image\"]\n",
    "    \n",
    "    return examples\n",
    "\n",
    "transformed_dataset = dataset.with_transform(transforms).remove_columns(\"label\")\n",
    "\n",
    "# create dataloader\n",
    "dataloader = DataLoader(transformed_dataset[\"train\"], batch_size=batch_size, shuffle=True)"
   ]
  },
  {
   "cell_type": "code",
   "execution_count": 14,
   "id": "1293316a",
   "metadata": {},
   "outputs": [
    {
     "name": "stdout",
     "output_type": "stream",
     "text": [
      "dict_keys(['pixel_values'])\n"
     ]
    }
   ],
   "source": [
    "batch = next(iter(dataloader))\n",
    "print(batch.keys())"
   ]
  },
  {
   "cell_type": "code",
   "execution_count": 15,
   "id": "113ec918",
   "metadata": {},
   "outputs": [
    {
     "name": "stdout",
     "output_type": "stream",
     "text": [
      "torch.Size([1, 28, 28])\n"
     ]
    },
    {
     "data": {
      "image/png": "[encoded data removed]",
      "text/plain": [
       "<Figure size 10080x10080 with 5 Axes>"
      ]
     },
     "metadata": {},
     "output_type": "display_data"
    }
   ],
   "source": [
    "def get_noisy_image(x_start, t):\n",
    "    x_noisy = q_sample(x_start, t=t)\n",
    "    return x_noisy\n",
    "\n",
    "# source: https://pytorch.org/vision/stable/auto_examples/plot_transforms.html#sphx-glr-auto-examples-plot-transforms-py\n",
    "def plot(imgs, with_orig=False, row_title=None, **imshow_kwargs):\n",
    "    if not isinstance(imgs[0], list):\n",
    "        imgs = [imgs]\n",
    "\n",
    "    num_rows = len(imgs)\n",
    "    num_cols = len(imgs[0]) + with_orig\n",
    "    fig, axs = plt.subplots(figsize=(140, 140), nrows=num_rows, ncols=num_cols, squeeze=False)\n",
    "    for row_idx, row in enumerate(imgs):\n",
    "        row = [image] + row if with_orig else row\n",
    "        for col_idx, img in enumerate(row):\n",
    "            ax = axs[row_idx, col_idx]\n",
    "            img = img.squeeze(0)  # Remove the channel dimension\n",
    "            ax.imshow(img, **imshow_kwargs, cmap=\"gray\")\n",
    "            ax.set(xticklabels=[], yticklabels=[], xticks=[], yticks=[])\n",
    "\n",
    "    if with_orig:\n",
    "        axs[0, 0].set(title='Original image')\n",
    "    if row_title is not None:\n",
    "        for row_idx in range(num_rows):\n",
    "            axs[row_idx, 0].set(ylabel=row_title[row_idx])\n",
    "\n",
    "    plt.tight_layout()\n",
    "\n",
    "x_start = next(iter(dataloader))[\"pixel_values\"][5]\n",
    "print(x_start.shape)\n",
    "plot([get_noisy_image(x_start, torch.tensor([t])) for t in [0, 50, 100, 150, 199]])"
   ]
  },
  {
   "cell_type": "markdown",
   "id": "4cf98443",
   "metadata": {
    "id": "4cf98443"
   },
   "source": [
    "## Sampling\n",
    "Sampling is summarized in the paper as Algorithm 2:\n",
    "\n",
    "<img src=\"https://drive.google.com/uc?id=1ij80f8TNBDzpKtqHjk_sh8o5aby3lmD7\" width=\"500\" />\n",
    "\n",
    "* Generating new images from a diffusion model happens by reversing the diffusion process\n",
    "* We start from $T$, where we sample pure noise from a Gaussian distribution, and then use our neural network to gradually denoise it (using the conditional probability it has learned), until we end up at time step $t = 0$. \n",
    "* As shown above, we can derive a slighly less denoised image $\\mathbf{x}_{t-1 }$ by plugging in the reparametrization of the mean, using our noise predictor (remember that the variance is known ahead of time).\n",
    "\n",
    "* Ideally, we end up with an image that looks like it came from the real data distribution."
   ]
  },
  {
   "cell_type": "markdown",
   "id": "ztxUVuxdtuyY",
   "metadata": {
    "id": "ztxUVuxdtuyY"
   },
   "source": [
    "The code below implements this."
   ]
  },
  {
   "cell_type": "code",
   "execution_count": 16,
   "id": "f7628fb3",
   "metadata": {
    "id": "f7628fb3"
   },
   "outputs": [],
   "source": [
    "@torch.no_grad()\n",
    "def p_sample(model, x, t, t_index):\n",
    "    betas_t = extract(betas, t, x.shape)\n",
    "    sqrt_one_minus_alphas_cumprod_t = extract(\n",
    "        sqrt_one_minus_alphas_cumprod, t, x.shape\n",
    "    )\n",
    "    sqrt_recip_alphas_t = extract(sqrt_recip_alphas, t, x.shape)\n",
    "    \n",
    "    # Equation 11 in the paper\n",
    "    # Use our model (noise predictor) to predict the mean\n",
    "    model_mean = sqrt_recip_alphas_t * (\n",
    "        x - betas_t * model(x, t) / sqrt_one_minus_alphas_cumprod_t\n",
    "    )\n",
    "\n",
    "    if t_index == 0:\n",
    "        return model_mean\n",
    "    else:\n",
    "        posterior_variance_t = extract(posterior_variance, t, x.shape)\n",
    "        noise = torch.randn_like(x)\n",
    "        # Algorithm 2 line 4:\n",
    "        return model_mean + torch.sqrt(posterior_variance_t) * noise \n",
    "\n",
    "# Algorithm 2 but save all images:\n",
    "@torch.no_grad()\n",
    "def p_sample_loop(model, shape):\n",
    "    device = next(model.parameters()).device\n",
    "\n",
    "    b = shape[0]\n",
    "    # start from pure noise (for each example in the batch)\n",
    "    img = torch.randn(shape, device=device)\n",
    "    imgs = []\n",
    "    \n",
    "    for i in tqdm(reversed(range(0, timesteps)), desc='sampling loop time step', total=timesteps):\n",
    "        img = p_sample(model, img, torch.full((b,), i, device=device, dtype=torch.long), i)\n",
    "        imgs.append(img.cpu().numpy())\n",
    "    return imgs\n",
    "\n",
    "\n",
    "@torch.no_grad()\n",
    "def sample(model, image_size, batch_size=16, channels=3):\n",
    "    return p_sample_loop(model, shape=(batch_size, channels, image_size, image_size))"
   ]
  },
  {
   "cell_type": "markdown",
   "id": "f70235f8",
   "metadata": {
    "id": "f70235f8"
   },
   "source": [
    "## Train the model\n",
    "\n",
    "Next, we train the model in regular PyTorch fashion.  \n",
    "Below, we define the model, and move it to the GPU. We also define a standard optimizer (Adam).\n"
   ]
  },
  {
   "cell_type": "code",
   "execution_count": 17,
   "id": "a5126e21",
   "metadata": {
    "id": "a5126e21"
   },
   "outputs": [],
   "source": [
    "from torch.optim import Adam\n",
    "from pathlib import Path\n",
    "\n",
    "device = \"cuda\" if torch.cuda.is_available() else \"cpu\"\n",
    "\n",
    "model = Unet(\n",
    "    dim=image_size,\n",
    "    channels=channels,\n",
    "    dim_mults=(1, 2, 4,)\n",
    ")\n",
    "model.to(device)\n",
    "\n",
    "optimizer = Adam(model.parameters(), lr=1e-3)"
   ]
  },
  {
   "cell_type": "markdown",
   "id": "f7444b0b",
   "metadata": {
    "id": "f7444b0b"
   },
   "source": [
    "Let's start training!"
   ]
  },
  {
   "cell_type": "code",
   "execution_count": 18,
   "id": "92b12ed1",
   "metadata": {
    "colab": {
     "base_uri": "https://localhost:8080/"
    },
    "executionInfo": {
     "elapsed": 102374,
     "status": "ok",
     "timestamp": 1669819417943,
     "user": {
      "displayName": "이민재",
      "userId": "14868486707690949019"
     },
     "user_tz": -540
    },
    "id": "92b12ed1",
    "outputId": "102e4062-4bba-4b70-9f4a-38aa76e8dc58",
    "scrolled": true
   },
   "outputs": [
    {
     "name": "stdout",
     "output_type": "stream",
     "text": [
      "\n",
      "epoch: 0\n",
      "\tLoss: 0.4548 / step:    0\n",
      "\tLoss: 0.1253 / step:  100\n",
      "\tLoss: 0.0772 / step:  200\n",
      "\tLoss: 0.0738 / step:  300\n",
      "\tLoss: 0.0582 / step:  400\n",
      "\n",
      "epoch: 1\n",
      "\tLoss: 0.0620 / step:    0\n",
      "\tLoss: 0.0563 / step:  100\n",
      "\tLoss: 0.0650 / step:  200\n",
      "\tLoss: 0.0546 / step:  300\n",
      "\tLoss: 0.0493 / step:  400\n",
      "\n",
      "epoch: 2\n",
      "\tLoss: 0.0496 / step:    0\n",
      "\tLoss: 0.0478 / step:  100\n",
      "\tLoss: 0.0449 / step:  200\n",
      "\tLoss: 0.0453 / step:  300\n",
      "\tLoss: 0.0563 / step:  400\n",
      "\n",
      "epoch: 3\n",
      "\tLoss: 0.0458 / step:    0\n",
      "\tLoss: 0.0523 / step:  100\n",
      "\tLoss: 0.0428 / step:  200\n",
      "\tLoss: 0.0476 / step:  300\n",
      "\tLoss: 0.0568 / step:  400\n",
      "\n",
      "epoch: 4\n",
      "\tLoss: 0.0385 / step:    0\n",
      "\tLoss: 0.0394 / step:  100\n",
      "\tLoss: 0.0420 / step:  200\n",
      "\tLoss: 0.0534 / step:  300\n",
      "\tLoss: 0.0531 / step:  400\n",
      "\n",
      "epoch: 5\n",
      "\tLoss: 0.0456 / step:    0\n",
      "\tLoss: 0.0443 / step:  100\n",
      "\tLoss: 0.0481 / step:  200\n",
      "\tLoss: 0.0456 / step:  300\n",
      "\tLoss: 0.0537 / step:  400\n",
      "\n",
      "epoch: 6\n",
      "\tLoss: 0.0461 / step:    0\n",
      "\tLoss: 0.0522 / step:  100\n",
      "\tLoss: 0.0410 / step:  200\n",
      "\tLoss: 0.0392 / step:  300\n",
      "\tLoss: 0.0376 / step:  400\n",
      "\n",
      "epoch: 7\n",
      "\tLoss: 0.0377 / step:    0\n",
      "\tLoss: 0.0499 / step:  100\n",
      "\tLoss: 0.0467 / step:  200\n",
      "\tLoss: 0.0433 / step:  300\n",
      "\tLoss: 0.0406 / step:  400\n",
      "\n",
      "epoch: 8\n",
      "\tLoss: 0.0404 / step:    0\n",
      "\tLoss: 0.0411 / step:  100\n",
      "\tLoss: 0.0396 / step:  200\n",
      "\tLoss: 0.0360 / step:  300\n",
      "\tLoss: 0.0408 / step:  400\n",
      "\n",
      "epoch: 9\n",
      "\tLoss: 0.0368 / step:    0\n",
      "\tLoss: 0.0398 / step:  100\n",
      "\tLoss: 0.0421 / step:  200\n",
      "\tLoss: 0.0439 / step:  300\n",
      "\tLoss: 0.0383 / step:  400\n"
     ]
    }
   ],
   "source": [
    "from torchvision.utils import save_image\n",
    "\n",
    "epochs = 10\n",
    "\n",
    "for epoch in range(epochs):\n",
    "    print(f'\\nepoch: {epoch}')\n",
    "    for step, batch in enumerate(dataloader):\n",
    "        optimizer.zero_grad()\n",
    "\n",
    "        batch_size = batch[\"pixel_values\"].shape[0]\n",
    "        batch = batch[\"pixel_values\"].to(device)\n",
    "\n",
    "        # Algorithm 1 line 3: sample t uniformally for every example in the batch\n",
    "        t = torch.randint(0, timesteps, (batch_size,), device=device).long()\n",
    "\n",
    "        loss = p_losses(model, batch, t, loss_type=\"huber\")\n",
    "\n",
    "        if step % 100 == 0:\n",
    "            print(f\"\\tLoss: {loss.item():.4f} / step: {step:4d}\")\n",
    "\n",
    "        loss.backward()\n",
    "        optimizer.step()"
   ]
  },
  {
   "cell_type": "markdown",
   "id": "a8337c82",
   "metadata": {
    "id": "a8337c82"
   },
   "source": [
    "## Sampling (inference)\n",
    "\n",
    "To sample from the model, we can just use our sample function defined above:\n"
   ]
  },
  {
   "cell_type": "code",
   "execution_count": 19,
   "id": "f3d8a814",
   "metadata": {
    "colab": {
     "base_uri": "https://localhost:8080/",
     "height": 49,
     "referenced_widgets": [
      "41731126767e4daabfafe2942cdf70c8",
      "31276187f7cd4a5aad1e12ed7505650c",
      "79081e50752e4b10b4056de3f988405c",
      "843e8b951c4441e5ac1fc159d172e402",
      "b4d983be7b144d3c8cfaa160c3f72b9d",
      "f01a1da8e686483bb1a929ba4f24c00e",
      "31a6d4ec5b0247c29e62c94f0ebfd3c5",
      "bd07487393cc49b08f83c06826325fdf",
      "e133854f33f34eb0a4a1c2cb41dd0859",
      "fb3e7d076c374bc89126f462caf1216b",
      "19935697193547afa4656ef3a77b9236"
     ]
    },
    "executionInfo": {
     "elapsed": 4575,
     "status": "ok",
     "timestamp": 1669819422514,
     "user": {
      "displayName": "이민재",
      "userId": "14868486707690949019"
     },
     "user_tz": -540
    },
    "id": "f3d8a814",
    "outputId": "5ba9c087-670e-44e8-a4b6-3b229d8f1274"
   },
   "outputs": [
    {
     "data": {
      "application/vnd.jupyter.widget-view+json": {
       "model_id": "a09346022e234876a183e6772e00b1b6",
       "version_major": 2,
       "version_minor": 0
      },
      "text/plain": [
       "sampling loop time step:   0%|          | 0/200 [00:00<?, ?it/s]"
      ]
     },
     "metadata": {},
     "output_type": "display_data"
    }
   ],
   "source": [
    "# sample 64 images\n",
    "sampling_batch_size = 64\n",
    "img_shape = (sampling_batch_size, channels, image_size, image_size)\n",
    "samples = p_sample_loop(model, shape=img_shape)"
   ]
  },
  {
   "cell_type": "code",
   "execution_count": 20,
   "id": "8967453c",
   "metadata": {},
   "outputs": [
    {
     "data": {
      "text/plain": [
       "<matplotlib.image.AxesImage at 0x7f1080107910>"
      ]
     },
     "execution_count": 20,
     "metadata": {},
     "output_type": "execute_result"
    },
    {
     "data": {
      "image/png": "[encoded data removed]",
      "text/plain": [
       "<Figure size 432x288 with 1 Axes>"
      ]
     },
     "metadata": {
      "needs_background": "light"
     },
     "output_type": "display_data"
    }
   ],
   "source": [
    "# show a random one\n",
    "random_index = 2\n",
    "plt.imshow(samples[-1][random_index].reshape(image_size, image_size, channels), cmap=\"gray\")"
   ]
  },
  {
   "cell_type": "markdown",
   "id": "0k4H1fmlKvzR",
   "metadata": {
    "id": "0k4H1fmlKvzR"
   },
   "source": [
    "Keep in mind that the dataset we trained on is pretty low-resolution (28x28)."
   ]
  },
  {
   "cell_type": "code",
   "execution_count": 21,
   "id": "ce9e9465",
   "metadata": {},
   "outputs": [
    {
     "data": {
      "image/png": "[encoded data removed]",
      "text/plain": [
       "<Figure size 1080x432 with 10 Axes>"
      ]
     },
     "metadata": {
      "needs_background": "light"
     },
     "output_type": "display_data"
    }
   ],
   "source": [
    "timesteps = len(samples)  \n",
    "image_size, channels = 28, 1 \n",
    "num_images_to_display = 10 \n",
    "\n",
    "indices = np.linspace(0, timesteps - 1, num_images_to_display, dtype=int)\n",
    "fig, axes = plt.subplots(nrows=2, ncols=5, figsize=(15, 6))\n",
    "\n",
    "for i, ax in enumerate(axes.flat):\n",
    "    img = samples[indices[i]][random_index].squeeze()\n",
    "    ax.imshow(img, cmap=\"gray\")\n",
    "    ax.axis('off') \n",
    "\n",
    "plt.tight_layout()\n",
    "plt.show()"
   ]
  },
  {
   "cell_type": "markdown",
   "id": "a591f8f1",
   "metadata": {
    "id": "a591f8f1"
   },
   "source": [
    "Seems like the model is capable of generating a nice T-shirt!\n",
    "\n",
    "<img src=\"https://drive.google.com/uc?id=1eyonQWhfmbQsTq8ndsNjw5QSRQ9em9Au\" width=\"500\" />"
   ]
  },
  {
   "cell_type": "markdown",
   "id": "b02eb802",
   "metadata": {
    "id": "b02eb802"
   },
   "source": [
    "# Follow-up reads\n",
    "\n",
    "Note that the DDPM paper showed that diffusion models are a promising direction for (un)conditional image generation. This has since then (immensely) been improved, most notably for text-conditional image generation. Below, we list some important (but far from exhaustive) follow-up works:\n",
    "\n",
    "### Papers\n",
    "- Improved Denoising Diffusion Probabilistic Models ([Nichol et al., 2021](https://arxiv.org/abs/2102.09672)): finds that learning the variance of the conditional distribution (besides the mean) helps in improving performance\n",
    "- Cascaded Diffusion Models for High Fidelity Image Generation ([Ho et al., 2021](https://arxiv.org/abs/2106.15282)): introduce cascaded diffusion, which comprises a pipeline of multiple diffusion models that generate images of increasing resolution for high-fidelity image synthesis\n",
    "- Diffusion Models Beat GANs on Image Synthesis ([Dhariwal et al., 2021](https://arxiv.org/abs/2105.05233)): show that diffusion models can achieve image sample quality superior to the current state-of-the-art generative models by improving the U-Net architecture, as well as introducing classifier guidance\n",
    "- Classifier-Free Diffusion Guidance ([Ho et al., 2021](https://openreview.net/pdf?id=qw8AKxfYbI)): shows that you don't need a classifier for guiding a diffusion model by jointly training a conditional and an unconditional diffusion model with a single neural network\n",
    "- Hierarchical Text-Conditional Image Generation with CLIP Latents (DALL-E 2) ([Ramesh et al., 2022](https://cdn.openai.com/papers/dall-e-2.pdf)): use a prior to turn a text caption into a CLIP image embedding, after which a diffusion model decodes it into an image\n",
    "- Photorealistic Text-to-Image Diffusion Models with Deep Language Understanding (ImageGen) ([Saharia et al., 2022](https://arxiv.org/abs/2205.11487)): shows that combining a large pre-trained language model (e.g. T5) with cascaded diffusion works well for text-to-image synthesis\n",
    "- GLIDE: Towards Photorealistic Image Generation and Editing with Text-Guided Diffusion Models([GLIDE](https://arxiv.org/abs/2112.10741))\n",
    "- High-Resolution Image Synthesis with Latent Diffusion Models: \n",
    "([Rombach et al., 2021](https://arxiv.org/abs/2112.10752))\n",
    "\n",
    "Note that this list only includes important works until the time of writing, which is June 7th, 2022.\n",
    "\n",
    "For now, it seems that the main (perhaps only) disadvantage of diffusion models is that they require multiple forward passes to generate an image (which is not the case for generative models like GANs). However, there's [research going on](https://arxiv.org/abs/2204.13902) that enables high-fidelity generation in as few as 10 denoising steps.\n",
    "\n",
    "### Other helpful materials (project page, article...)\n",
    "* [DALL-E 2](https://openai.com/dall-e-2/) by OpenAI\n",
    "* [Latent Diffusion](https://github.com/CompVis/latent-diffusion) by the University of Heidelberg\n",
    "* [ImageGen](https://imagen.research.google/) by Google Brain\n",
    "* [Diffusion models are autoencoders](https://benanne.github.io/2022/01/31/diffusion.html)\n",
    "* https://yang-song.net/blog/2021/score/\n",
    "* https://lilianweng.github.io/posts/2021-07-11-diffusion-models/\n",
    "\n"
   ]
  }
 ],
 "metadata": {
  "accelerator": "GPU",
  "colab": {
   "collapsed_sections": [
    "6fe49a34",
    "2d747688",
    "5153024b",
    "592aa765",
    "9ff47fbb",
    "51d9a24c",
    "9a8031b0"
   ],
   "provenance": []
  },
  "gpuClass": "standard",
  "jupytext": {
   "cell_metadata_filter": "-all",
   "main_language": "python",
   "notebook_metadata_filter": "-all"
  },
  "kernelspec": {
   "display_name": "Python 3 (ipykernel)",
   "language": "python",
   "name": "python3"
  },
  "language_info": {
   "codemirror_mode": {
    "name": "ipython",
    "version": 3
   },
   "file_extension": ".py",
   "mimetype": "text/x-python",
   "name": "python",
   "nbconvert_exporter": "python",
   "pygments_lexer": "ipython3",
   "version": "3.9.12"
  }
 },
 "nbformat": 4,
 "nbformat_minor": 5
}
