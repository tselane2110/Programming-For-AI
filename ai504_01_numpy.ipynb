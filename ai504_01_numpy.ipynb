{
 "cells": [
  {
   "cell_type": "code",
   "execution_count": 1,
   "metadata": {
    "id": "KAJ1rrCpauzn"
   },
   "outputs": [],
   "source": [
    "import numpy as np"
   ]
  },
  {
   "cell_type": "code",
   "execution_count": 2,
   "metadata": {
    "id": "sGZdtpTKauzo"
   },
   "outputs": [],
   "source": [
    "def print_obj(obj, name):\n",
    "    #print(\"%s:\\n%s\\n\" % (name, obj))\n",
    "    print(f\"{name}\\n{obj}\\n\")\n",
    "\n",
    "# check_each(a, b) → elementwise comparison → boolean array.\n",
    "def check_each(a, b):\n",
    "    return (a == b).astype('bool')\n",
    "\n",
    "# check_mean(a, b) → checks whether any element matches → single boolean.\n",
    "def check_mean(a, b):\n",
    "    return np.mean(a == b).astype('bool')"
   ]
  },
  {
   "cell_type": "markdown",
   "metadata": {
    "id": "T2Zt6bCSauzo"
   },
   "source": [
    "### Scalars, Vectors, Matrices"
   ]
  },
  {
   "cell_type": "code",
   "execution_count": 3,
   "metadata": {
    "id": "_j3G2H2Qauzp"
   },
   "outputs": [],
   "source": [
    "a = np.array(1.)\n",
    "b = np.array([1., 2., 3.])\n",
    "c = np.array([[1., 2., 3.], [4., 5., 6.]])"
   ]
  },
  {
   "cell_type": "code",
   "execution_count": 4,
   "metadata": {
    "id": "zBhNUT_hauzp"
   },
   "outputs": [
    {
     "name": "stdout",
     "output_type": "stream",
     "text": [
      "a\n",
      "1.0\n",
      "\n",
      "b\n",
      "[1. 2. 3.]\n",
      "\n",
      "c\n",
      "[[1. 2. 3.]\n",
      " [4. 5. 6.]]\n",
      "\n"
     ]
    }
   ],
   "source": [
    "print_obj(a, \"a\")\n",
    "print_obj(b, \"b\")\n",
    "print_obj(c, \"c\")"
   ]
  },
  {
   "cell_type": "code",
   "execution_count": 5,
   "metadata": {
    "id": "whR1NdkEauzp"
   },
   "outputs": [
    {
     "name": "stdout",
     "output_type": "stream",
     "text": [
      "a.ndim\n",
      "0\n",
      "\n",
      "b.ndim\n",
      "1\n",
      "\n",
      "c.ndim\n",
      "2\n",
      "\n"
     ]
    }
   ],
   "source": [
    "print_obj(a.ndim, \"a.ndim\")\n",
    "print_obj(b.ndim, \"b.ndim\")\n",
    "print_obj(c.ndim, \"c.ndim\")"
   ]
  },
  {
   "cell_type": "code",
   "execution_count": 6,
   "metadata": {
    "id": "Gjn1h8lSauzp"
   },
   "outputs": [
    {
     "name": "stdout",
     "output_type": "stream",
     "text": [
      "a.shape\n",
      "()\n",
      "\n",
      "b.shape\n",
      "(3,)\n",
      "\n",
      "c.shape\n",
      "(2, 3)\n",
      "\n"
     ]
    }
   ],
   "source": [
    "print_obj(a.shape, \"a.shape\")\n",
    "print_obj(b.shape, \"b.shape\")\n",
    "print_obj(c.shape, \"c.shape\")"
   ]
  },
  {
   "cell_type": "markdown",
   "metadata": {
    "id": "4iqFCL8_auzp"
   },
   "source": [
    "### Tensors (N-dimensional array)"
   ]
  },
  {
   "cell_type": "code",
   "execution_count": 7,
   "metadata": {
    "id": "2VXC-IRkauzp"
   },
   "outputs": [],
   "source": [
    "d = np.array([[[1., 2., 3.], [4., 5., 6.]], [[7., 8., 9.], [10., 11., 12.]]])\n",
    "e = np.array([[[[1., 2., 3.], [1., 2., 3.]], [[4., 5., 6.], [4., 5., 6.]]],\n",
    "              [[[7., 8., 9.], [7., 8., 9.]], [[10., 11., 12.], [10., 11., 12.]]]])"
   ]
  },
  {
   "cell_type": "code",
   "execution_count": 8,
   "metadata": {
    "id": "4pdtZcDcauzp"
   },
   "outputs": [
    {
     "name": "stdout",
     "output_type": "stream",
     "text": [
      "d\n",
      "[[[ 1.  2.  3.]\n",
      "  [ 4.  5.  6.]]\n",
      "\n",
      " [[ 7.  8.  9.]\n",
      "  [10. 11. 12.]]]\n",
      "\n",
      "d.ndim\n",
      "3\n",
      "\n",
      "d.shape\n",
      "(2, 2, 3)\n",
      "\n",
      "e\n",
      "[[[[ 1.  2.  3.]\n",
      "   [ 1.  2.  3.]]\n",
      "\n",
      "  [[ 4.  5.  6.]\n",
      "   [ 4.  5.  6.]]]\n",
      "\n",
      "\n",
      " [[[ 7.  8.  9.]\n",
      "   [ 7.  8.  9.]]\n",
      "\n",
      "  [[10. 11. 12.]\n",
      "   [10. 11. 12.]]]]\n",
      "\n",
      "e.ndim\n",
      "4\n",
      "\n",
      "e.shape\n",
      "(2, 2, 2, 3)\n",
      "\n"
     ]
    }
   ],
   "source": [
    "print_obj(d, \"d\")\n",
    "print_obj(d.ndim, \"d.ndim\")\n",
    "print_obj(d.shape, \"d.shape\")\n",
    "\n",
    "print_obj(e, \"e\")\n",
    "print_obj(e.ndim, \"e.ndim\")\n",
    "print_obj(e.shape, \"e.shape\")"
   ]
  },
  {
   "cell_type": "code",
   "execution_count": 9,
   "metadata": {
    "id": "gF_gCSbVauzp"
   },
   "outputs": [
    {
     "data": {
      "text/plain": [
       "(2, 3, 1)"
      ]
     },
     "execution_count": 9,
     "metadata": {},
     "output_type": "execute_result"
    }
   ],
   "source": [
    "# Quiz: What is the shape of [[[1], [2], [3]], [[4], [5], [6]]]?\n",
    "# Ans: 2, 3, 1\n",
    "# proof:\n",
    "test = np.array([[[1], [2], [3]], [[4], [5], [6]]])\n",
    "test.shape"
   ]
  },
  {
   "cell_type": "markdown",
   "metadata": {
    "id": "HYtFIXnhauzq"
   },
   "source": [
    "### Defining Numpy arrays"
   ]
  },
  {
   "cell_type": "code",
   "execution_count": 10,
   "metadata": {
    "id": "gTrrhxm2auzq"
   },
   "outputs": [
    {
     "data": {
      "text/plain": [
       "array([1., 1., 1., 1., 1., 1., 1., 1., 1., 1.])"
      ]
     },
     "execution_count": 10,
     "metadata": {},
     "output_type": "execute_result"
    }
   ],
   "source": [
    "a = np.ones(10)\n",
    "a"
   ]
  },
  {
   "cell_type": "code",
   "execution_count": 11,
   "metadata": {
    "id": "F17K3viFauzq"
   },
   "outputs": [
    {
     "data": {
      "text/plain": [
       "array([[0., 0., 0., 0., 0.],\n",
       "       [0., 0., 0., 0., 0.]])"
      ]
     },
     "execution_count": 11,
     "metadata": {},
     "output_type": "execute_result"
    }
   ],
   "source": [
    "a = np.zeros((2, 5))\n",
    "a"
   ]
  },
  {
   "cell_type": "code",
   "execution_count": 12,
   "metadata": {
    "id": "CxjujHBKauzq"
   },
   "outputs": [
    {
     "data": {
      "text/plain": [
       "array([[5, 5, 5, 5, 5],\n",
       "       [5, 5, 5, 5, 5]])"
      ]
     },
     "execution_count": 12,
     "metadata": {},
     "output_type": "execute_result"
    }
   ],
   "source": [
    "a = np.full((2,5), 5)\n",
    "a"
   ]
  },
  {
   "cell_type": "code",
   "execution_count": 13,
   "metadata": {
    "id": "yC0NSF-9auzq"
   },
   "outputs": [
    {
     "data": {
      "text/plain": [
       "array([[[0.0671185 , 0.39412296, 0.69022459, 0.79732717],\n",
       "        [0.85911306, 0.20482383, 0.81063036, 0.49597481],\n",
       "        [0.82240091, 0.57335111, 0.45210169, 0.90344698]],\n",
       "\n",
       "       [[0.91837543, 0.30606933, 0.36776961, 0.26614003],\n",
       "        [0.65780339, 0.45245931, 0.33571009, 0.98407025],\n",
       "        [0.70992466, 0.88291557, 0.9301362 , 0.09586386]]])"
      ]
     },
     "execution_count": 13,
     "metadata": {},
     "output_type": "execute_result"
    }
   ],
   "source": [
    "a = np.random.random((2, 3, 4))\n",
    "a"
   ]
  },
  {
   "cell_type": "code",
   "execution_count": 14,
   "metadata": {
    "id": "npzHaPL0auzq"
   },
   "outputs": [
    {
     "data": {
      "text/plain": [
       "array([0, 1, 2, 3, 4, 5, 6, 7, 8, 9])"
      ]
     },
     "execution_count": 14,
     "metadata": {},
     "output_type": "execute_result"
    }
   ],
   "source": [
    "a = np.arange(10)\n",
    "a"
   ]
  },
  {
   "cell_type": "code",
   "execution_count": 15,
   "metadata": {
    "id": "ie4NIEjpauzq"
   },
   "outputs": [
    {
     "data": {
      "text/plain": [
       "array([0., 1., 2., 3., 4., 5., 6., 7., 8., 9.])"
      ]
     },
     "execution_count": 15,
     "metadata": {},
     "output_type": "execute_result"
    }
   ],
   "source": [
    "a = np.arange(10).astype(float)\n",
    "a"
   ]
  },
  {
   "cell_type": "code",
   "execution_count": 16,
   "metadata": {
    "id": "kKFgHTJwauzq"
   },
   "outputs": [
    {
     "data": {
      "text/plain": [
       "array([[0, 1],\n",
       "       [2, 3],\n",
       "       [4, 5],\n",
       "       [6, 7],\n",
       "       [8, 9]])"
      ]
     },
     "execution_count": 16,
     "metadata": {},
     "output_type": "execute_result"
    }
   ],
   "source": [
    "a = np.arange(10).reshape((5,2))\n",
    "a"
   ]
  },
  {
   "cell_type": "code",
   "execution_count": 17,
   "metadata": {
    "id": "vA_wN5iHauzq"
   },
   "outputs": [
    {
     "data": {
      "text/plain": [
       "array([[[ 0,  1],\n",
       "        [ 2,  3],\n",
       "        [ 4,  5]],\n",
       "\n",
       "       [[ 6,  7],\n",
       "        [ 8,  9],\n",
       "        [10, 11]],\n",
       "\n",
       "       [[12, 13],\n",
       "        [14, 15],\n",
       "        [16, 17]],\n",
       "\n",
       "       [[18, 19],\n",
       "        [20, 21],\n",
       "        [22, 23]]])"
      ]
     },
     "execution_count": 17,
     "metadata": {},
     "output_type": "execute_result"
    }
   ],
   "source": [
    "# Quiz: Create a 4-by-3-by-2 tensor filled with 0.0 to 23.0\n",
    "a = np.arange(0, 24).reshape((4,3,2))\n",
    "a"
   ]
  },
  {
   "cell_type": "markdown",
   "metadata": {
    "id": "pYVZHt07auzq"
   },
   "source": [
    "### Indexing & Slicing"
   ]
  },
  {
   "cell_type": "code",
   "execution_count": 18,
   "metadata": {
    "id": "S8tSLByCauzq"
   },
   "outputs": [
    {
     "name": "stdout",
     "output_type": "stream",
     "text": [
      "a\n",
      "[0 1 2 3 4 5 6 7 8 9]\n",
      "\n",
      "a[0]\n",
      "0\n",
      "\n",
      "a[1]\n",
      "1\n",
      "\n",
      "a[-1]\n",
      "9\n",
      "\n",
      "a[-3]\n",
      "7\n",
      "\n",
      "a[0:10]\n",
      "[0 1 2 3 4 5 6 7 8 9]\n",
      "\n",
      "a[0:]\n",
      "[0 1 2 3 4 5 6 7 8 9]\n",
      "\n",
      "a[:10]\n",
      "[0 1 2 3 4 5 6 7 8 9]\n",
      "\n",
      "a[:]\n",
      "[0 1 2 3 4 5 6 7 8 9]\n",
      "\n",
      "a[7:]\n",
      "[7 8 9]\n",
      "\n",
      "a[:5]\n",
      "[0 1 2 3 4]\n",
      "\n",
      "a[2:5]\n",
      "[2 3 4]\n",
      "\n",
      "a[0:10:2]\n",
      "[0 2 4 6 8]\n",
      "\n",
      "a[0:10:3]\n",
      "[0 3 6 9]\n",
      "\n",
      "a[2:6:3]\n",
      "[2 5]\n",
      "\n",
      "a[::-1]\n",
      "[9 8 7 6 5 4 3 2 1 0]\n",
      "\n",
      "a[8:5:-1]\n",
      "[8 7 6]\n",
      "\n",
      "a[8:5]\n",
      "[]\n",
      "\n"
     ]
    }
   ],
   "source": [
    "# Indexing and slicing a vector\n",
    "a = np.arange(10)\n",
    "print_obj(a, \"a\")\n",
    "\n",
    "print_obj(a[0], \"a[0]\")\n",
    "print_obj(a[1], \"a[1]\")\n",
    "print_obj(a[-1], \"a[-1]\")\n",
    "print_obj(a[-3], \"a[-3]\")\n",
    "\n",
    "print_obj(a[0:10], \"a[0:10]\")\n",
    "print_obj(a[0:], \"a[0:]\")\n",
    "print_obj(a[:10], \"a[:10]\")\n",
    "print_obj(a[:], \"a[:]\")\n",
    "\n",
    "print_obj(a[7:], \"a[7:]\")\n",
    "print_obj(a[:5], \"a[:5]\")\n",
    "print_obj(a[2:5], \"a[2:5]\")\n",
    "\n",
    "# Quiz: What is a[-4:]?\n",
    "# A: [6, 7, 8, 9]\n",
    "# Quiz: What is a[:-8]?\n",
    "# A: [2, 3, 4, 5, 6, 7, 8, 9]\n",
    "\n",
    "print_obj(a[0:10:2], \"a[0:10:2]\")\n",
    "print_obj(a[0:10:3], \"a[0:10:3]\")\n",
    "print_obj(a[2:6:3], \"a[2:6:3]\")\n",
    "\n",
    "print_obj(a[::-1], \"a[::-1]\")\n",
    "print_obj(a[8:5:-1], \"a[8:5:-1]\")\n",
    "print_obj(a[8:5], \"a[8:5]\")\n",
    "\n",
    "# Quiz: Create [9, 6, 3] using a.\n",
    "# A: a[9: 0: -3]"
   ]
  },
  {
   "cell_type": "code",
   "execution_count": 19,
   "metadata": {},
   "outputs": [
    {
     "data": {
      "text/plain": [
       "(array([6, 7, 8, 9]), array([2, 3, 4, 5, 6, 7, 8, 9]), array([9, 6, 3]))"
      ]
     },
     "execution_count": 19,
     "metadata": {},
     "output_type": "execute_result"
    }
   ],
   "source": [
    "# testing my answers for the quiz\n",
    "a[-4:], a[-8:], a[9: 0: -3]"
   ]
  },
  {
   "cell_type": "markdown",
   "metadata": {},
   "source": [
    "# finished till here - 20 Aug 2025"
   ]
  },
  {
   "cell_type": "code",
   "execution_count": 39,
   "metadata": {
    "id": "bD13t4iEauzr"
   },
   "outputs": [
    {
     "name": "stdout",
     "output_type": "stream",
     "text": [
      "a\n",
      "[[0 1 2]\n",
      " [3 4 5]\n",
      " [6 7 8]]\n",
      "\n",
      "a[0][0]\n",
      "0\n",
      "\n",
      "a[0,0]\n",
      "0\n",
      "\n",
      "a[1,1]\n",
      "4\n",
      "\n",
      "a[-1]\n",
      "[6 7 8]\n",
      "\n",
      "a[: , 1]\n",
      "[1 4 7]\n",
      "\n",
      "a[-1:-3:-1, 2]\n",
      "[8 5]\n",
      "\n"
     ]
    }
   ],
   "source": [
    "# Indexing a matrix\n",
    "a = np.arange(9).reshape((3,3))\n",
    "print_obj(a, \"a\")\n",
    "print_obj(a[0][0], \"a[0][0]\")\n",
    "print_obj(a[0,0], \"a[0,0]\")\n",
    "print_obj(a[1,1], \"a[1,1]\")\n",
    "\n",
    "# Quiz: How to access the last row?\n",
    "print_obj(a[-1], \"a[-1]\")\n",
    "# Quiz: How to access the second column?\n",
    "print_obj(a[: , 1], \"a[: , 1]\")\n",
    "# Quiz: How to create [8, 5] using a?\n",
    "print_obj(a[-1:-3:-1, 2], \"a[-1:-3:-1, 2]\")"
   ]
  },
  {
   "cell_type": "code",
   "execution_count": 53,
   "metadata": {
    "id": "29gtF8Csauzr"
   },
   "outputs": [
    {
     "name": "stdout",
     "output_type": "stream",
     "text": [
      "a\n",
      "[[[ 0  1]\n",
      "  [ 2  3]\n",
      "  [ 4  5]]\n",
      "\n",
      " [[ 6  7]\n",
      "  [ 8  9]\n",
      "  [10 11]]\n",
      "\n",
      " [[12 13]\n",
      "  [14 15]\n",
      "  [16 17]]\n",
      "\n",
      " [[18 19]\n",
      "  [20 21]\n",
      "  [22 23]]]\n",
      "\n",
      "a[2, 1, 0]\n",
      "14\n",
      "\n",
      "a[0]\n",
      "[[0 1]\n",
      " [2 3]\n",
      " [4 5]]\n",
      "\n",
      "a[0, 1]\n",
      "[2 3]\n",
      "\n",
      "[[0, 2, 4], [6, 8, 10]]\n",
      "[[ 0  2  4]\n",
      " [ 6  8 10]]\n",
      "\n"
     ]
    }
   ],
   "source": [
    "# Indexing and slicing a 3D tensor\n",
    "a = np.arange(4*3*2).reshape((4, 3, 2))\n",
    "print_obj(a, \"a\")\n",
    "print_obj(a[2, 1, 0], \"a[2, 1, 0]\")\n",
    "\n",
    "# Quiz: What would be a[0]?\n",
    "# A: [[0 1]\n",
    "#     [2 3]]\n",
    "#     [ 4 5]\n",
    "print_obj(a[0], 'a[0]')\n",
    "# Quiz: What would be a[0, 1]?\n",
    "# [0 1]\n",
    "print_obj(a[0, 1], \"a[0, 1]\")\n",
    "# Quiz: Create [[0, 2, 4], [6, 8, 10]]\n",
    "print_obj(a[:2, :, 0], \"[[0, 2, 4], [6, 8, 10]]\")"
   ]
  },
  {
   "cell_type": "code",
   "execution_count": 74,
   "metadata": {
    "id": "PrwK-rpUauzr"
   },
   "outputs": [
    {
     "name": "stdout",
     "output_type": "stream",
     "text": [
      "a\n",
      "[[0 1]\n",
      " [2 3]\n",
      " [4 5]]\n",
      "\n",
      "[3, 4, 5]\n",
      "[3 4 5]\n",
      "\n"
     ]
    }
   ],
   "source": [
    "# Conditional indexing\n",
    "a = np.arange(3*2).reshape((3,2))\n",
    "print_obj(a, \"a\")\n",
    "\n",
    "# idx = a % 2 == 0\n",
    "# print_obj(idx, \"idx\")\n",
    "\n",
    "idx = a >= 3\n",
    "\n",
    "# Quiz: How would you create [3, 4, 5] using a?\n",
    "print_obj(a[idx], \"[3, 4, 5]\")"
   ]
  },
  {
   "cell_type": "code",
   "execution_count": 78,
   "metadata": {
    "id": "9KieCF8Dauzr"
   },
   "outputs": [
    {
     "name": "stdout",
     "output_type": "stream",
     "text": [
      "a\n",
      "[0 1 2 3 4 5 6 7 8 9]\n",
      "\n",
      "a[idx]\n",
      "[0 2 3]\n",
      "\n"
     ]
    }
   ],
   "source": [
    "# Taking specific elements from a vector\n",
    "a = np.arange(10)\n",
    "print_obj(a, 'a')\n",
    "idx = [0, 2, 3]\n",
    "print_obj(a[idx], \"a[idx]\")"
   ]
  },
  {
   "cell_type": "code",
   "execution_count": 81,
   "metadata": {
    "id": "d3xnhS6Kauzr"
   },
   "outputs": [
    {
     "name": "stdout",
     "output_type": "stream",
     "text": [
      "a\n",
      "[[ 0  1  2  3]\n",
      " [ 4  5  6  7]\n",
      " [ 8  9 10 11]\n",
      " [12 13 14 15]\n",
      " [16 17 18 19]\n",
      " [20 21 22 23]]\n",
      "\n",
      "a[:,[0, 2, 3]]\n",
      "[[ 0  2  3]\n",
      " [ 4  6  7]\n",
      " [ 8 10 11]\n",
      " [12 14 15]\n",
      " [16 18 19]\n",
      " [20 22 23]]\n",
      "\n",
      "a[[0, 2, 3], :]\n",
      "[[ 0  1  2  3]\n",
      " [ 8  9 10 11]\n",
      " [12 13 14 15]]\n",
      "\n",
      "tuple indexing\n",
      "[ 1  2  4 23]\n",
      "\n",
      "ndarray indexing\n",
      "[[[ 0  1  2  3]\n",
      "  [ 0  1  2  3]\n",
      "  [ 4  5  6  7]\n",
      "  [20 21 22 23]]\n",
      "\n",
      " [[ 4  5  6  7]\n",
      "  [ 8  9 10 11]\n",
      "  [ 0  1  2  3]\n",
      "  [12 13 14 15]]]\n",
      "\n"
     ]
    }
   ],
   "source": [
    "# Taking specific elements from a tensor\n",
    "a = np.arange(24).reshape((6,4))\n",
    "print_obj(a, \"a\")\n",
    "\n",
    "print_obj(a[:,[0, 2, 3]], \"a[:,[0, 2, 3]]\")\n",
    "print_obj(a[[0, 2, 3], :], \"a[[0, 2, 3], :]\")\n",
    "idx = ((0,0,1,5),(1,2,0,3))\n",
    "print_obj(a[idx], \"tuple indexing\")\n",
    "idx = np.array([[0,0,1,5],[1,2,0,3]])\n",
    "print_obj(a[idx], \"ndarray indexing\")"
   ]
  },
  {
   "cell_type": "code",
   "execution_count": 82,
   "metadata": {
    "id": "PSN-v2S1lPUZ"
   },
   "outputs": [
    {
     "name": "stdout",
     "output_type": "stream",
     "text": [
      "a.shape\n",
      "(2, 3, 2, 2, 4, 3)\n",
      "\n",
      "Plain indexing\n",
      "[[[[146 149 152 155]\n",
      "   [158 161 164 167]]\n",
      "\n",
      "  [[170 173 176 179]\n",
      "   [182 185 188 191]]]\n",
      "\n",
      "\n",
      " [[[194 197 200 203]\n",
      "   [206 209 212 215]]\n",
      "\n",
      "  [[218 221 224 227]\n",
      "   [230 233 236 239]]]\n",
      "\n",
      "\n",
      " [[[242 245 248 251]\n",
      "   [254 257 260 263]]\n",
      "\n",
      "  [[266 269 272 275]\n",
      "   [278 281 284 287]]]]\n",
      "\n",
      "Ellipsis\n",
      "[[[[146 149 152 155]\n",
      "   [158 161 164 167]]\n",
      "\n",
      "  [[170 173 176 179]\n",
      "   [182 185 188 191]]]\n",
      "\n",
      "\n",
      " [[[194 197 200 203]\n",
      "   [206 209 212 215]]\n",
      "\n",
      "  [[218 221 224 227]\n",
      "   [230 233 236 239]]]\n",
      "\n",
      "\n",
      " [[[242 245 248 251]\n",
      "   [254 257 260 263]]\n",
      "\n",
      "  [[266 269 272 275]\n",
      "   [278 281 284 287]]]]\n",
      "\n"
     ]
    }
   ],
   "source": [
    "# Ellipsis\n",
    "a = np.arange(288).reshape((2,3,2,2,4,-1))\n",
    "print_obj(a.shape, \"a.shape\")\n",
    "\n",
    "print_obj(a[1,:,:,:,:,2], \"Plain indexing\")\n",
    "print_obj(a[1,...,2], \"Ellipsis\")"
   ]
  },
  {
   "cell_type": "markdown",
   "metadata": {
    "id": "QWgT3Q4Yauzr"
   },
   "source": [
    "### Math Operations"
   ]
  },
  {
   "cell_type": "code",
   "execution_count": 83,
   "metadata": {
    "id": "7aIvGef4auzr"
   },
   "outputs": [
    {
     "name": "stdout",
     "output_type": "stream",
     "text": [
      "a\n",
      "[[0 1]\n",
      " [2 3]\n",
      " [4 5]]\n",
      "\n",
      "b\n",
      "[[1. 1.]\n",
      " [1. 1.]\n",
      " [1. 1.]]\n",
      "\n",
      "a+b\n",
      "[[1. 2.]\n",
      " [3. 4.]\n",
      " [5. 6.]]\n",
      "\n",
      "a-b\n",
      "[[-1.  0.]\n",
      " [ 1.  2.]\n",
      " [ 3.  4.]]\n",
      "\n",
      "a*b\n",
      "[[0. 1.]\n",
      " [2. 3.]\n",
      " [4. 5.]]\n",
      "\n",
      "a/b\n",
      "[[0. 1.]\n",
      " [2. 3.]\n",
      " [4. 5.]]\n",
      "\n"
     ]
    }
   ],
   "source": [
    "# Basic operations\n",
    "a = np.arange(6).reshape((3, 2))\n",
    "b = np.ones((3, 2))\n",
    "print_obj(a, \"a\")\n",
    "print_obj(b, \"b\")\n",
    "\n",
    "# +, -, *, /\n",
    "print_obj(a+b, \"a+b\")\n",
    "print_obj(a-b, \"a-b\")\n",
    "print_obj(a*b, \"a*b\")\n",
    "print_obj(a/b, \"a/b\")"
   ]
  },
  {
   "cell_type": "code",
   "execution_count": 84,
   "metadata": {
    "id": "6_nBg_mKauzr"
   },
   "outputs": [
    {
     "name": "stdout",
     "output_type": "stream",
     "text": [
      "a\n",
      "[[0 1]\n",
      " [2 3]\n",
      " [4 5]]\n",
      "\n",
      "a.sum()\n",
      "15\n",
      "\n",
      "a.sum(axis=0)\n",
      "[6 9]\n",
      "\n",
      "a.sum(axis=1)\n",
      "[1 5 9]\n",
      "\n",
      "a.mean()\n",
      "2.5\n",
      "\n",
      "a.max()\n",
      "5\n",
      "\n",
      "a.min()\n",
      "0\n",
      "\n"
     ]
    }
   ],
   "source": [
    "# Unary operations\n",
    "a = np.arange(6).reshape((3,2))\n",
    "print_obj(a, \"a\")\n",
    "\n",
    "print_obj(a.sum(), \"a.sum()\")\n",
    "print_obj(a.sum(axis=0), \"a.sum(axis=0)\")\n",
    "print_obj(a.sum(axis=1), \"a.sum(axis=1)\")\n",
    "\n",
    "print_obj(a.mean(), \"a.mean()\")\n",
    "print_obj(a.max(), \"a.max()\")\n",
    "print_obj(a.min(), \"a.min()\")\n",
    "\n",
    "# Quiz: Given a = np.arange(24).reshape((2,3,4)), what is the mean of the sum w.r.t to the last dimension?"
   ]
  },
  {
   "cell_type": "code",
   "execution_count": 85,
   "metadata": {
    "id": "pr8uosCxauzr"
   },
   "outputs": [
    {
     "name": "stdout",
     "output_type": "stream",
     "text": [
      "a\n",
      "[0. 1. 2.]\n",
      "\n",
      "b\n",
      "[1. 1. 1.]\n",
      "\n",
      "a dot b\n",
      "3.0\n",
      "\n"
     ]
    }
   ],
   "source": [
    "# Vector dot product\n",
    "a = np.arange(3).astype('float')\n",
    "b = np.ones(3)\n",
    "print_obj(a, \"a\")\n",
    "print_obj(b, \"b\")\n",
    "\n",
    "print_obj(np.dot(a, b), \"a dot b\")"
   ]
  },
  {
   "attachments": {
    "623f6cfe-8633-4bf0-80e8-5a272f73a184.png": {
     "image/png": "[encoded data removed]"
    }
   },
   "cell_type": "markdown",
   "metadata": {},
   "source": [
    "**Learn:** np.dot will perform dot product if inputs are vectors, if inputs are matrices then np.dot will perform matrix multiplication and if inputs are of higher dimensions, the rules will apply accordingly but it will still be using \"broadcasting\"\n",
    "\n",
    "![image.png](attachment:623f6cfe-8633-4bf0-80e8-5a272f73a184.png)"
   ]
  },
  {
   "cell_type": "code",
   "execution_count": 86,
   "metadata": {
    "id": "TPHTXs5oauzr"
   },
   "outputs": [
    {
     "name": "stdout",
     "output_type": "stream",
     "text": [
      "a\n",
      "[[0 1]\n",
      " [2 3]\n",
      " [4 5]]\n",
      "\n",
      "b\n",
      "[[1. 1. 1.]\n",
      " [1. 1. 1.]]\n",
      "\n",
      "a dot b\n",
      "[[1. 1. 1.]\n",
      " [5. 5. 5.]\n",
      " [9. 9. 9.]]\n",
      "\n",
      "a @ b\n",
      "[[1. 1. 1.]\n",
      " [5. 5. 5.]\n",
      " [9. 9. 9.]]\n",
      "\n"
     ]
    }
   ],
   "source": [
    "# Matrix dot product, matrix multiplication\n",
    "a = np.arange(6).reshape((3, 2))\n",
    "b = np.ones((2, 3))\n",
    "print_obj(a, \"a\")\n",
    "print_obj(b, \"b\")\n",
    "\n",
    "print_obj(np.dot(a,b), \"a dot b\")\n",
    "print_obj(a@b, \"a @ b\")"
   ]
  },
  {
   "cell_type": "markdown",
   "metadata": {},
   "source": [
    "## continue from here (24th aug 2025)"
   ]
  },
  {
   "cell_type": "code",
   "execution_count": 87,
   "metadata": {
    "id": "8ukdh-T6auzr"
   },
   "outputs": [
    {
     "name": "stdout",
     "output_type": "stream",
     "text": [
      "a\n",
      "[[[ 0  1]\n",
      "  [ 2  3]\n",
      "  [ 4  5]]\n",
      "\n",
      " [[ 6  7]\n",
      "  [ 8  9]\n",
      "  [10 11]]\n",
      "\n",
      " [[12 13]\n",
      "  [14 15]\n",
      "  [16 17]]\n",
      "\n",
      " [[18 19]\n",
      "  [20 21]\n",
      "  [22 23]]]\n",
      "\n",
      "b\n",
      "[[[1. 1. 1.]\n",
      "  [1. 1. 1.]]\n",
      "\n",
      " [[1. 1. 1.]\n",
      "  [1. 1. 1.]]\n",
      "\n",
      " [[1. 1. 1.]\n",
      "  [1. 1. 1.]]\n",
      "\n",
      " [[1. 1. 1.]\n",
      "  [1. 1. 1.]]]\n",
      "\n",
      "a dot b\n",
      "(4, 3, 4, 3)\n",
      "\n",
      "a @ b\n",
      "(4, 3, 3)\n",
      "\n"
     ]
    }
   ],
   "source": [
    "# Tensor dot product, tensor multiplication\n",
    "a = np.arange(24).reshape((4, 3, 2))\n",
    "b = np.ones((4, 2, 3))\n",
    "print_obj(a, \"a\")\n",
    "print_obj(b, \"b\")\n",
    "\n",
    "print_obj(np.dot(a,b).shape, \"a dot b\")\n",
    "print_obj((a@b).shape, \"a @ b\")\n",
    "\n",
    "# Quiz: what would happen if a.shape==(4,3,2) and b.shape==(2,3)?"
   ]
  },
  {
   "cell_type": "markdown",
   "metadata": {
    "id": "bfXb-wX5auzr"
   },
   "source": [
    "### Shape Manipulation"
   ]
  },
  {
   "cell_type": "code",
   "execution_count": 5,
   "metadata": {
    "id": "Jhm8SDVoauzs"
   },
   "outputs": [
    {
     "name": "stdout",
     "output_type": "stream",
     "text": [
      "a\n",
      "[[[ 0  1  2  3]\n",
      "  [ 4  5  6  7]\n",
      "  [ 8  9 10 11]]\n",
      "\n",
      " [[12 13 14 15]\n",
      "  [16 17 18 19]\n",
      "  [20 21 22 23]]]\n",
      "\n",
      "b\n",
      "[[ 0  1  2  3]\n",
      " [ 4  5  6  7]\n",
      " [ 8  9 10 11]\n",
      " [12 13 14 15]\n",
      " [16 17 18 19]\n",
      " [20 21 22 23]]\n",
      "\n",
      "c\n",
      "[[ 0  1  2  3]\n",
      " [ 4  5  6  7]\n",
      " [ 8  9 10 11]\n",
      " [12 13 14 15]\n",
      " [16 17 18 19]\n",
      " [20 21 22 23]]\n",
      "\n",
      "quiz\n",
      "[[[ 0]\n",
      "  [ 1]\n",
      "  [ 2]\n",
      "  [ 3]]\n",
      "\n",
      " [[ 4]\n",
      "  [ 5]\n",
      "  [ 6]\n",
      "  [ 7]]\n",
      "\n",
      " [[ 8]\n",
      "  [ 9]\n",
      "  [10]\n",
      "  [11]]\n",
      "\n",
      " [[12]\n",
      "  [13]\n",
      "  [14]\n",
      "  [15]]\n",
      "\n",
      " [[16]\n",
      "  [17]\n",
      "  [18]\n",
      "  [19]]\n",
      "\n",
      " [[20]\n",
      "  [21]\n",
      "  [22]\n",
      "  [23]]]\n",
      "\n"
     ]
    }
   ],
   "source": [
    "# Reshapes\n",
    "a = np.arange(24).reshape((2, 3, 4))\n",
    "print_obj(a, \"a\")\n",
    "\n",
    "b = a.reshape((6, 4))\n",
    "print_obj(b, \"b\")\n",
    "\n",
    "# when we use -1, it means that numpy will take care of that dimension\n",
    "c = a.reshape((6, -1))\n",
    "print_obj(c, \"c\")\n",
    "\n",
    "# Quiz: What would d=a.reshape((6, 4, -1)) look like?\n",
    "print_obj(a.reshape((6, 4, -1)), \"quiz\")"
   ]
  },
  {
   "cell_type": "code",
   "execution_count": 15,
   "metadata": {
    "id": "WIs2MWd6auzs"
   },
   "outputs": [
    {
     "name": "stdout",
     "output_type": "stream",
     "text": [
      "a\n",
      "[0 1 2]\n",
      "\n",
      "a[:, None]\n",
      "[[0]\n",
      " [1]\n",
      " [2]]\n",
      "\n",
      "shape of a[:, None] ->\n",
      "(3, 1)\n",
      "\n",
      "Quiz using reshape\n",
      "[[[[1. 1. 1. 1.]]]\n",
      "\n",
      "\n",
      " [[[1. 1. 1. 1.]]]\n",
      "\n",
      "\n",
      " [[[1. 1. 1. 1.]]]]\n",
      "\n",
      "Quiz using None\n",
      "[[[[1. 1. 1. 1.]]]\n",
      "\n",
      "\n",
      " [[[1. 1. 1. 1.]]]\n",
      "\n",
      "\n",
      " [[[1. 1. 1. 1.]]]]\n",
      "\n"
     ]
    }
   ],
   "source": [
    "# Adding an extra dimension\n",
    "a = np.arange(3)\n",
    "print_obj(a, \"a\")\n",
    "\n",
    "# here None will give us one extra dimension of length 1\n",
    "print_obj(a[:, None], \"a[:, None]\")\n",
    "print_obj(a[:, None].shape, \"shape of a[:, None] ->\")\n",
    "\n",
    "# Quiz: How to make a = np.ones((3,4)) into shape (3, 1, 1, 4) using reshape and None?\n",
    "a = np.ones((3, 4))\n",
    "print_obj(a.reshape((3, 1, 1, 4)), \"Quiz using reshape\")\n",
    "print_obj(a[:, None, None, :], \"Quiz using None\")"
   ]
  },
  {
   "cell_type": "code",
   "execution_count": 17,
   "metadata": {
    "id": "PHsTIJcYauzs"
   },
   "outputs": [
    {
     "name": "stdout",
     "output_type": "stream",
     "text": [
      "a\n",
      "[[1. 1.]\n",
      " [1. 1.]\n",
      " [1. 1.]]\n",
      "\n",
      "b\n",
      "[[0. 0.]\n",
      " [0. 0.]\n",
      " [0. 0.]]\n",
      "\n",
      "a,b vstack\n",
      "[[1. 1.]\n",
      " [1. 1.]\n",
      " [1. 1.]\n",
      " [0. 0.]\n",
      " [0. 0.]\n",
      " [0. 0.]]\n",
      "\n",
      "a,b hstack\n",
      "[[1. 1. 0. 0.]\n",
      " [1. 1. 0. 0.]\n",
      " [1. 1. 0. 0.]]\n",
      "\n",
      "a,b,a hstack\n",
      "[[1. 1. 0. 0. 1. 1.]\n",
      " [1. 1. 0. 0. 1. 1.]\n",
      " [1. 1. 0. 0. 1. 1.]]\n",
      "\n",
      "a,b concat axis=0\n",
      "[[1. 1.]\n",
      " [1. 1.]\n",
      " [1. 1.]\n",
      " [0. 0.]\n",
      " [0. 0.]\n",
      " [0. 0.]]\n",
      "\n",
      "a,b concat axis=1\n",
      "[[1. 1. 0. 0.]\n",
      " [1. 1. 0. 0.]\n",
      " [1. 1. 0. 0.]]\n",
      "\n"
     ]
    }
   ],
   "source": [
    "# Stack, concatenation\n",
    "a = np.ones((3,2))\n",
    "b = np.zeros((3,2))\n",
    "print_obj(a, \"a\")\n",
    "print_obj(b, \"b\")\n",
    "\n",
    "print_obj(np.vstack([a, b]), \"a,b vstack\")\n",
    "print_obj(np.hstack([a, b]), \"a,b hstack\")\n",
    "print_obj(np.hstack([a, b, a]), \"a,b,a hstack\")\n",
    "\n",
    "print_obj(np.concatenate([a, b], axis=0), \"a,b concat axis=0\") # axis 0 == row\n",
    "print_obj(np.concatenate([a, b], axis=1), \"a,b concat axis=1\") # axis 1 == column\n",
    "\n",
    "# Quiz: Would concatenating two tensors whose shapes are (4, 3, 2) and (5, 4, 2) on axis=2 work?"
   ]
  },
  {
   "cell_type": "code",
   "execution_count": 18,
   "metadata": {
    "id": "oB3csHX9auzs"
   },
   "outputs": [
    {
     "name": "stdout",
     "output_type": "stream",
     "text": [
      "a\n",
      "[[0 1]\n",
      " [2 3]\n",
      " [4 5]]\n",
      "\n",
      "a.T\n",
      "[[0 2 4]\n",
      " [1 3 5]]\n",
      "\n"
     ]
    }
   ],
   "source": [
    "# Matrix transpose\n",
    "a = np.arange(6).reshape((3, 2))\n",
    "print_obj(a, \"a\")\n",
    "\n",
    "print_obj(a.T, \"a.T\")"
   ]
  },
  {
   "cell_type": "code",
   "execution_count": 22,
   "metadata": {
    "id": "_QTVPk9Rauzs"
   },
   "outputs": [
    {
     "name": "stdout",
     "output_type": "stream",
     "text": [
      "a\n",
      "[[[ 0  1]\n",
      "  [ 2  3]\n",
      "  [ 4  5]]\n",
      "\n",
      " [[ 6  7]\n",
      "  [ 8  9]\n",
      "  [10 11]]\n",
      "\n",
      " [[12 13]\n",
      "  [14 15]\n",
      "  [16 17]]\n",
      "\n",
      " [[18 19]\n",
      "  [20 21]\n",
      "  [22 23]]]\n",
      "\n",
      "Swap axis 1 and 2\n",
      "[[[ 0  2  4]\n",
      "  [ 1  3  5]]\n",
      "\n",
      " [[ 6  8 10]\n",
      "  [ 7  9 11]]\n",
      "\n",
      " [[12 14 16]\n",
      "  [13 15 17]]\n",
      "\n",
      " [[18 20 22]\n",
      "  [19 21 23]]]\n",
      "\n",
      "b's shape\n",
      "(4, 2, 3)\n",
      "\n",
      "Swap axis 0 and 1\n",
      "[[[ 0  1]\n",
      "  [ 6  7]\n",
      "  [12 13]\n",
      "  [18 19]]\n",
      "\n",
      " [[ 2  3]\n",
      "  [ 8  9]\n",
      "  [14 15]\n",
      "  [20 21]]\n",
      "\n",
      " [[ 4  5]\n",
      "  [10 11]\n",
      "  [16 17]\n",
      "  [22 23]]]\n",
      "\n",
      "c's shape\n",
      "(3, 4, 2)\n",
      "\n"
     ]
    }
   ],
   "source": [
    "# Tensor transpose\n",
    "a = np.arange(24).reshape((4, 3, 2))\n",
    "print_obj(a, \"a\")\n",
    "\n",
    "# [0, 2, 1] == swapping the second and third axis\n",
    "# means that b's shape will be (4, 2, 3)\n",
    "# here 0, 2, 1 are indices of (4, 3, 2)\n",
    "b = np.transpose(a, [0, 2, 1])\n",
    "print_obj(b, \"Swap axis 1 and 2\")\n",
    "print_obj(b.shape, \"b's shape\")\n",
    "\n",
    "c = np.transpose(a, [1, 0, 2])\n",
    "print_obj(c, \"Swap axis 0 and 1\")\n",
    "print_obj(c.shape, \"c's shape\")"
   ]
  },
  {
   "cell_type": "markdown",
   "metadata": {
    "id": "lAhTkHeLauzt"
   },
   "source": [
    "### Broadcasting"
   ]
  },
  {
   "cell_type": "code",
   "execution_count": 23,
   "metadata": {
    "id": "wNEuAdQmauzt"
   },
   "outputs": [
    {
     "name": "stdout",
     "output_type": "stream",
     "text": [
      "a\n",
      "[0 1 2]\n",
      "\n",
      "a+b\n",
      "[2. 3. 4.]\n",
      "\n",
      "a-b\n",
      "[-2. -1.  0.]\n",
      "\n",
      "a*b\n",
      "[0. 2. 4.]\n",
      "\n",
      "a/b\n",
      "[0.  0.5 1. ]\n",
      "\n"
     ]
    }
   ],
   "source": [
    "# Vector and scalar\n",
    "a = np.arange(3)\n",
    "b = 2.\n",
    "print_obj(a, \"a\")\n",
    "\n",
    "print_obj(a+b, \"a+b\")\n",
    "print_obj(a-b, \"a-b\")\n",
    "print_obj(a*b, \"a*b\")\n",
    "print_obj(a/b, \"a/b\")"
   ]
  },
  {
   "cell_type": "code",
   "execution_count": 29,
   "metadata": {
    "id": "acxUC_tbauzt"
   },
   "outputs": [
    {
     "name": "stdout",
     "output_type": "stream",
     "text": [
      "a\n",
      "[[0 1]\n",
      " [2 3]\n",
      " [4 5]]\n",
      "\n",
      "b\n",
      "[0 1]\n",
      "\n",
      "c\n",
      "[1 2]\n",
      "\n",
      "a+b\n",
      "[[0 2]\n",
      " [2 4]\n",
      " [4 6]]\n",
      "\n",
      "a+c\n",
      "[[1 3]\n",
      " [3 5]\n",
      " [5 7]]\n",
      "\n",
      "Q1: [[0]\n",
      " [1]]\n",
      "Q2: [[0 1]]\n"
     ]
    }
   ],
   "source": [
    "# Matrix and vector\n",
    "a = np.arange(6).reshape((3,2))\n",
    "b = np.arange(2).reshape(2)\n",
    "c = np.arange(2).reshape(2) + 1\n",
    "print_obj(a, \"a\")\n",
    "print_obj(b, \"b\")\n",
    "print_obj(c, \"c\")\n",
    "\n",
    "print_obj(a+b, \"a+b\")\n",
    "print_obj(a+c, \"a+c\")\n",
    "\n",
    "# Quiz: What would happen if b were np.arange(2).reshape((2, 1))? How about np.arange(2).reshape((1, 2))?\n",
    "print(f\"Q1: {np.arange(2).reshape((2, 1))}\")\n",
    "print(f\"Q2: {np.arange(2).reshape((1, 2))}\")"
   ]
  },
  {
   "cell_type": "code",
   "execution_count": 30,
   "metadata": {
    "id": "9fYCpXWxauzt"
   },
   "outputs": [
    {
     "name": "stdout",
     "output_type": "stream",
     "text": [
      "a\n",
      "[[[ 0  1]\n",
      "  [ 2  3]\n",
      "  [ 4  5]]\n",
      "\n",
      " [[ 6  7]\n",
      "  [ 8  9]\n",
      "  [10 11]]]\n",
      "\n",
      "b\n",
      "[[0 1]\n",
      " [2 3]\n",
      " [4 5]]\n",
      "\n",
      "a+b\n",
      "[[[ 0  2]\n",
      "  [ 4  6]\n",
      "  [ 8 10]]\n",
      "\n",
      " [[ 6  8]\n",
      "  [10 12]\n",
      "  [14 16]]]\n",
      "\n"
     ]
    }
   ],
   "source": [
    "# Tensor and matrix\n",
    "a = np.arange(12).reshape((2,3,2))\n",
    "b = np.arange(6).reshape((3,2))\n",
    "print_obj(a, \"a\")\n",
    "print_obj(b, \"b\")\n",
    "\n",
    "print_obj(a+b, \"a+b\")\n",
    "\n",
    "#Quiz: How can we use None to do a+b?"
   ]
  },
  {
   "cell_type": "markdown",
   "metadata": {
    "id": "BPr0Tff7auzt"
   },
   "source": [
    "### Final Quiz"
   ]
  },
  {
   "cell_type": "code",
   "execution_count": 100,
   "metadata": {
    "id": "LzZUwykqauzt"
   },
   "outputs": [],
   "source": [
    "def sigmoid(x):\n",
    "    return 1./(1. + np.exp(-x))\n",
    "\n",
    "# Define a function that, given M of shape (m,n) and W of shape (4n, n), executes the following (assume m is an even number):\n",
    "# - Take the first half rows of M\n",
    "# - Take the second half rows of M\n",
    "# - Take the odd-numbered rows of M\n",
    "# - Take the even-numbered rows of M\n",
    "# - Append them horizontally in the listed order so that you obtain a matrix X of shape (?, 4n)\n",
    "# - Linearly transform X with W so that you obtain a matrix Y of shape (?, ?)\n",
    "# - Put Y through the sigmoid function\n",
    "# - Obtain the sum of the mean of each column\n",
    "def foo(M, W):\n",
    "    m, n = M.shape\n",
    "    print(M)\n",
    "    t1 = M[: int(m/2)]\n",
    "    t2 = M[int(m/2) :]\n",
    "    t3 = M[1::2]\n",
    "    t4 = M[::2]\n",
    "    print_obj(t1, \"t1\")\n",
    "    print_obj(t2, \"t2\")\n",
    "    print_obj(t3, \"t3\")\n",
    "    print_obj(t4, \"t4\")\n",
    "    X = np.hstack([t1, t2, t3, t4])\n",
    "    print_obj(X, \"X: \")\n",
    "    Y = X @ W\n",
    "    print_obj(Y, \"Y: \")\n",
    "    s = sigmoid(Y)\n",
    "    print(s)\n",
    "    m, n = s.shape\n",
    "    sum = 0\n",
    "    for i in range(n):\n",
    "        m = s[: , i].mean()\n",
    "        sum = sum + m\n",
    "        print_obj(s[: , i], f\"mean {m} at column: {i}\")\n",
    "    return sum\n"
   ]
  },
  {
   "cell_type": "markdown",
   "metadata": {},
   "source": [
    "## Test Example 1"
   ]
  },
  {
   "cell_type": "code",
   "execution_count": 101,
   "metadata": {},
   "outputs": [
    {
     "name": "stdout",
     "output_type": "stream",
     "text": [
      "[[ 0  1  2]\n",
      " [ 3  4  5]\n",
      " [ 6  7  8]\n",
      " [ 9 10 11]]\n",
      "t1\n",
      "[[0 1 2]\n",
      " [3 4 5]]\n",
      "\n",
      "t2\n",
      "[[ 6  7  8]\n",
      " [ 9 10 11]]\n",
      "\n",
      "t3\n",
      "[[ 3  4  5]\n",
      " [ 9 10 11]]\n",
      "\n",
      "t4\n",
      "[[0 1 2]\n",
      " [6 7 8]]\n",
      "\n",
      "X: \n",
      "[[ 0  1  2  6  7  8  3  4  5  0  1  2]\n",
      " [ 3  4  5  9 10 11  9 10 11  6  7  8]]\n",
      "\n",
      "Y: \n",
      "[[39. 39. 39.]\n",
      " [93. 93. 93.]]\n",
      "\n",
      "[[1. 1. 1.]\n",
      " [1. 1. 1.]]\n",
      "mean 1.0 at column: 0\n",
      "[1. 1.]\n",
      "\n",
      "mean 1.0 at column: 1\n",
      "[1. 1.]\n",
      "\n",
      "mean 1.0 at column: 2\n",
      "[1. 1.]\n",
      "\n"
     ]
    },
    {
     "data": {
      "text/plain": [
       "np.float64(3.0)"
      ]
     },
     "execution_count": 101,
     "metadata": {},
     "output_type": "execute_result"
    }
   ],
   "source": [
    "# Small M for inspection\n",
    "M = np.arange(12).reshape(4, 3)   # shape (4,3)\n",
    "\n",
    "W = np.ones((12, 3))              # shape (4n, n) = (12,3)\n",
    "\n",
    "foo(M, W)"
   ]
  },
  {
   "cell_type": "markdown",
   "metadata": {},
   "source": [
    "## Test Example 2"
   ]
  },
  {
   "cell_type": "code",
   "execution_count": 102,
   "metadata": {},
   "outputs": [
    {
     "name": "stdout",
     "output_type": "stream",
     "text": [
      "[[5 0]\n",
      " [3 3]\n",
      " [7 9]\n",
      " [3 5]\n",
      " [2 4]\n",
      " [7 6]]\n",
      "t1\n",
      "[[5 0]\n",
      " [3 3]\n",
      " [7 9]]\n",
      "\n",
      "t2\n",
      "[[3 5]\n",
      " [2 4]\n",
      " [7 6]]\n",
      "\n",
      "t3\n",
      "[[3 3]\n",
      " [3 5]\n",
      " [7 6]]\n",
      "\n",
      "t4\n",
      "[[5 0]\n",
      " [7 9]\n",
      " [2 4]]\n",
      "\n",
      "X: \n",
      "[[5 0 3 5 3 3 5 0]\n",
      " [3 3 2 4 3 5 7 9]\n",
      " [7 9 7 6 7 6 2 4]]\n",
      "\n",
      "Y: \n",
      "[[-13.49174206  17.6436984 ]\n",
      " [  4.16358974  30.58654   ]\n",
      " [-12.4494426   24.26172446]]\n",
      "\n",
      "[[1.38232534e-06 9.99999978e-01]\n",
      " [9.84686518e-01 1.00000000e+00]\n",
      " [3.91989175e-06 1.00000000e+00]]\n",
      "mean 0.32823060683078614 at column: 0\n",
      "[1.38232534e-06 9.84686518e-01 3.91989175e-06]\n",
      "\n",
      "mean 0.9999999927406327 at column: 1\n",
      "[0.99999998 1.         1.        ]\n",
      "\n"
     ]
    },
    {
     "data": {
      "text/plain": [
       "np.float64(1.3282305995714188)"
      ]
     },
     "execution_count": 102,
     "metadata": {},
     "output_type": "execute_result"
    }
   ],
   "source": [
    "np.random.seed(0)\n",
    "\n",
    "M = np.random.randint(0, 10, (6, 2))   # shape (6,2)\n",
    "W = np.random.randn(8, 2)              # shape (4n, n) = (8,2)\n",
    "\n",
    "foo(M, W)"
   ]
  },
  {
   "cell_type": "markdown",
   "metadata": {},
   "source": [
    "## Test Example 3"
   ]
  },
  {
   "cell_type": "code",
   "execution_count": 103,
   "metadata": {},
   "outputs": [
    {
     "name": "stdout",
     "output_type": "stream",
     "text": [
      "[[ 0.49671415 -0.1382643   0.64768854  1.52302986]\n",
      " [-0.23415337 -0.23413696  1.57921282  0.76743473]\n",
      " [-0.46947439  0.54256004 -0.46341769 -0.46572975]\n",
      " [ 0.24196227 -1.91328024 -1.72491783 -0.56228753]\n",
      " [-1.01283112  0.31424733 -0.90802408 -1.4123037 ]\n",
      " [ 1.46564877 -0.2257763   0.0675282  -1.42474819]\n",
      " [-0.54438272  0.11092259 -1.15099358  0.37569802]\n",
      " [-0.60063869 -0.29169375 -0.60170661  1.85227818]]\n",
      "t1\n",
      "[[ 0.49671415 -0.1382643   0.64768854  1.52302986]\n",
      " [-0.23415337 -0.23413696  1.57921282  0.76743473]\n",
      " [-0.46947439  0.54256004 -0.46341769 -0.46572975]\n",
      " [ 0.24196227 -1.91328024 -1.72491783 -0.56228753]]\n",
      "\n",
      "t2\n",
      "[[-1.01283112  0.31424733 -0.90802408 -1.4123037 ]\n",
      " [ 1.46564877 -0.2257763   0.0675282  -1.42474819]\n",
      " [-0.54438272  0.11092259 -1.15099358  0.37569802]\n",
      " [-0.60063869 -0.29169375 -0.60170661  1.85227818]]\n",
      "\n",
      "t3\n",
      "[[-0.23415337 -0.23413696  1.57921282  0.76743473]\n",
      " [ 0.24196227 -1.91328024 -1.72491783 -0.56228753]\n",
      " [ 1.46564877 -0.2257763   0.0675282  -1.42474819]\n",
      " [-0.60063869 -0.29169375 -0.60170661  1.85227818]]\n",
      "\n",
      "t4\n",
      "[[ 0.49671415 -0.1382643   0.64768854  1.52302986]\n",
      " [-0.46947439  0.54256004 -0.46341769 -0.46572975]\n",
      " [-1.01283112  0.31424733 -0.90802408 -1.4123037 ]\n",
      " [-0.54438272  0.11092259 -1.15099358  0.37569802]]\n",
      "\n",
      "X: \n",
      "[[ 0.49671415 -0.1382643   0.64768854  1.52302986 -1.01283112  0.31424733\n",
      "  -0.90802408 -1.4123037  -0.23415337 -0.23413696  1.57921282  0.76743473\n",
      "   0.49671415 -0.1382643   0.64768854  1.52302986]\n",
      " [-0.23415337 -0.23413696  1.57921282  0.76743473  1.46564877 -0.2257763\n",
      "   0.0675282  -1.42474819  0.24196227 -1.91328024 -1.72491783 -0.56228753\n",
      "  -0.46947439  0.54256004 -0.46341769 -0.46572975]\n",
      " [-0.46947439  0.54256004 -0.46341769 -0.46572975 -0.54438272  0.11092259\n",
      "  -1.15099358  0.37569802  1.46564877 -0.2257763   0.0675282  -1.42474819\n",
      "  -1.01283112  0.31424733 -0.90802408 -1.4123037 ]\n",
      " [ 0.24196227 -1.91328024 -1.72491783 -0.56228753 -0.60063869 -0.29169375\n",
      "  -0.60170661  1.85227818 -0.60063869 -0.29169375 -0.60170661  1.85227818\n",
      "  -0.54438272  0.11092259 -1.15099358  0.37569802]]\n",
      "\n",
      "Y: \n",
      "[[ -2.60549619   3.43615124  -2.98809017  -0.45930337]\n",
      " [  1.02275523  -3.54721515   5.12189921  -0.77455857]\n",
      " [  3.41355419   3.1453551   -2.93599848   4.89430621]\n",
      " [ -1.27169113   1.23966055   1.17682372 -10.16374059]]\n",
      "\n",
      "[[6.87855316e-02 9.68815446e-01 4.79668290e-02 3.87151097e-01]\n",
      " [7.35508937e-01 2.79982621e-02 9.94070683e-01 3.15493822e-01]\n",
      " [9.68125462e-01 9.58725309e-01 5.04024500e-02 9.92566566e-01]\n",
      " [2.18967895e-01 7.75504922e-01 7.64376220e-01 3.85413398e-05]]\n",
      "mean 0.49784695662713574 at column: 0\n",
      "[0.06878553 0.73550894 0.96812546 0.2189679 ]\n",
      "\n",
      "mean 0.6827609849291434 at column: 1\n",
      "[0.96881545 0.02799826 0.95872531 0.77550492]\n",
      "\n",
      "mean 0.46420404529412396 at column: 2\n",
      "[0.04796683 0.99407068 0.05040245 0.76437622]\n",
      "\n",
      "mean 0.4238125068585885 at column: 3\n",
      "[3.87151097e-01 3.15493822e-01 9.92566566e-01 3.85413398e-05]\n",
      "\n"
     ]
    },
    {
     "data": {
      "text/plain": [
       "np.float64(2.0686244937089917)"
      ]
     },
     "execution_count": 103,
     "metadata": {},
     "output_type": "execute_result"
    }
   ],
   "source": [
    "np.random.seed(42)\n",
    "\n",
    "M = np.random.randn(8, 4)   # shape (8,4)\n",
    "W = np.random.randn(16, 4)  # shape (4n=16, n=4)\n",
    "\n",
    "foo(M, W)"
   ]
  },
  {
   "cell_type": "code",
   "execution_count": null,
   "metadata": {},
   "outputs": [],
   "source": []
  }
 ],
 "metadata": {
  "colab": {
   "provenance": []
  },
  "kernelspec": {
   "display_name": "Python 3 (ipykernel)",
   "language": "python",
   "name": "python3"
  },
  "language_info": {
   "codemirror_mode": {
    "name": "ipython",
    "version": 3
   },
   "file_extension": ".py",
   "mimetype": "text/x-python",
   "name": "python",
   "nbconvert_exporter": "python",
   "pygments_lexer": "ipython3",
   "version": "3.12.4"
  }
 },
 "nbformat": 4,
 "nbformat_minor": 4
}
