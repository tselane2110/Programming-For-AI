{
  "cells": [
    {
      "cell_type": "markdown",
      "metadata": {
        "id": "uOREx9CI-W6F"
      },
      "source": [
        "# **Week 9: Word2Vec**"
      ]
    },
    {
      "cell_type": "markdown",
      "metadata": {
        "id": "Q1-e18vFcoxV"
      },
      "source": [
        "## Table of contetns\n",
        "### **1. word2vec (Skip-gram)**\n",
        "1-1.Tokenizer <br>\n",
        "1-2. Build Vocabulary <br>\n",
        "1-3. Skip-Gram <br>\n",
        "1-4. Skip-Gram w/ Negative Sampling <br>\n",
        "\n",
        "### **2. Sentencepiece**\n",
        "2-1. SentencePiece <br>\n",
        "2-2. Word2Vec and Visualization\n",
        "\n",
        "### **3.  Do it yourself at home**\n",
        "3-1. MosesTokenizer & BPE <br><br>\n",
        "\n",
        "If you have any questions, feel free to ask\n",
        "\n",
        "*   E-Mail Address : yeonsu.k@kaist.ac.kr\n"
      ]
    },
    {
      "cell_type": "markdown",
      "metadata": {
        "id": "YaWV0l6n7OxF"
      },
      "source": [
        "# **1. Word2Vec**\n"
      ]
    },
    {
      "cell_type": "markdown",
      "metadata": {
        "id": "V6ZGW2Uc9hfW"
      },
      "source": [
        "### i) Import python libraries"
      ]
    },
    {
      "cell_type": "code",
      "execution_count": null,
      "metadata": {
        "id": "kDU3NOtP9VWQ",
        "vscode": {
          "languageId": "python"
        }
      },
      "outputs": [],
      "source": [
        "from abc import ABC\n",
        "from typing import List, Dict, Tuple, Set\n",
        "import random\n",
        "import torch.nn.functional as F\n",
        "from typing import List, Dict, Tuple\n",
        "from random import randint\n",
        "import re\n",
        "import math\n",
        "from collections import Counter\n",
        "import torch\n",
        "import torch.nn as nn\n",
        "import numpy as np\n",
        "from torch.utils.data import Dataset, DataLoader\n",
        "from itertools import chain"
      ]
    },
    {
      "cell_type": "markdown",
      "metadata": {
        "id": "8ofIdNklK6UB"
      },
      "source": [
        "## **1-1. Implement tokenizer**"
      ]
    },
    {
      "cell_type": "markdown",
      "metadata": {
        "id": "ZRha9IZGAZsc"
      },
      "source": [
        "### i) Whitespace tokenizer\n",
        "\n",
        "\n",
        "In this section, you will implement a simplest tokenizer.\n",
        "\n",
        "Two functionality of tokenizer:\n",
        "+ Break sentence into words whenever it encounters a whitspace character. Return the list of words.\n",
        "+ 4 punctuation marks should be an independent token (e.g. \"Hi.\" &#8594; [\"Hi\", \".\"])"
      ]
    },
    {
      "cell_type": "code",
      "execution_count": null,
      "metadata": {
        "id": "D6KQkd4t_eMn",
        "vscode": {
          "languageId": "python"
        }
      },
      "outputs": [],
      "source": [
        "def tokenize(sentence):\n",
        "\n",
        "    ###################################################\n",
        "    # TODO: Separate a sentence into tokens . , ! ?   #\n",
        "    \n",
        "    ###################################################\n",
        "    if not isinstance(tokens, list):\n",
        "      raise TypeError(\"Invalid type for tokens.\")\n",
        "    return tokens"
      ]
    },
    {
      "cell_type": "markdown",
      "metadata": {
        "id": "gDh-SdQqKbpo"
      },
      "source": [
        "### ii) Test tokenizer"
      ]
    },
    {
      "cell_type": "code",
      "execution_count": null,
      "metadata": {
        "colab": {
          "base_uri": "https://localhost:8080/"
        },
        "id": "8XUY03dl_fcG",
        "outputId": "1afbf9fb-5e20-4ed2-a0ca-3c26fe8b86e3",
        "vscode": {
          "languageId": "python"
        }
      },
      "outputs": [
        {
          "name": "stdout",
          "output_type": "stream",
          "text": [
            "Tokenizer ouput :  ['This', 'sentence', 'should', 'be', 'tokenized', 'properly', '.']\n",
            "Test passed.\n",
            "Tokenizer ouput :  [\"Jhon's\", 'book', 'is', 'not', 'popular', ',', 'but', 'he', 'loves', 'his', 'book', '.']\n",
            "Test passed.\n",
            "Tokenizer ouput :  ['.', ',', '!', '?', ',', ',', \"'-4\", '.', '!']\n",
            "Test passed.\n"
          ]
        }
      ],
      "source": [
        "def test_tokenize(sentence, hypothesis):\n",
        "  tokens = tokenize(sentence)\n",
        "  print(\"Tokenizer ouput : \", tokens)\n",
        "  assert tokens == hypothesis, \\\n",
        "    \"Something is wrong. Please try to fix tokenizer.\"\n",
        "  print(\"Test passed.\")\n",
        "\n",
        "sentence1 = \"This sentence should be tokenized properly.\"\n",
        "answer1 = ['This', 'sentence', 'should', 'be', 'tokenized', 'properly', '.']\n",
        "\n",
        "sentence2 = \"Jhon's book is not popular, but he loves his book.\"\n",
        "answer2 = [\"Jhon's\", \"book\", \"is\", \"not\", \"popular\", \",\", \"but\", \"he\", \"loves\", \"his\", \"book\", \".\"]\n",
        "\n",
        "sentence3 = \"  .,! ?,,'-4.  ! \"\n",
        "answer3 = ['.', ',', '!', '?', ',', ',', \"'-4\", '.', '!']\n",
        "\n",
        "test_tokenize(sentence1, answer1)\n",
        "test_tokenize(sentence2, answer2)\n",
        "test_tokenize(sentence3, answer3)"
      ]
    },
    {
      "cell_type": "markdown",
      "metadata": {
        "id": "4NrYRlBTZLd-"
      },
      "source": [
        "## **1-2 Bulid Vocabulary**\n",
        "### i) Implement build_vocab\n",
        "In this section, you will build the vocabulary.\n",
        "\n",
        "+ Tips\n",
        "  + Please read the arguments section carefully.\n",
        "  + Rare words can cause over-fitting, so we will replace these words to \\<UNK> tokens.\n",
        "  + Counter in the _collection_ library would be helpful."
      ]
    },
    {
      "cell_type": "code",
      "execution_count": null,
      "metadata": {
        "id": "MPl_ycUd-vgh",
        "vscode": {
          "languageId": "python"
        }
      },
      "outputs": [],
      "source": [
        "'''\n",
        "    Arguments:\n",
        "    sentences -- The list of sentence to build vocab. Each sentence is a list of words.\n",
        "    min_freq -- The minimum frequency of a word. Words that have a frequency less than a threshold are excluded from a vocabulary.\n",
        "\n",
        "    Return:\n",
        "    idx2word -- A dictionary which maps an index to the word , key : index (int), value : word (str)   ex) {0:'<PAD>', 1:'<UNK>', 2:'This', 3:'sentence', ...}\n",
        "    word2idx -- A dictionary which maps the word to an index, key : word (str), value : index (int)   ex) {'<PAD>': 0, '<UNK>': 1, 'This': 2, 'sentence': 3, ...}\n",
        "    word_freq -- A dictionary which maps the word to its frequency, key : word (str), value : index (int)\n",
        "'''\n",
        "\n",
        "def build_vocab(sentences, min_freq) :\n",
        "    word2idx = {\"<UNK>\": 0}\n",
        "    idx2word = {0: \"<UNK>\"} \n",
        "    \n",
        "    ############################################################################\n",
        "    # TODO : Implement build_vocab\n",
        "\n",
        "    ############################################################################\n",
        "\n",
        "    return idx2word, word2idx, word_freq"
      ]
    },
    {
      "cell_type": "markdown",
      "metadata": {
        "id": "m-xaBI0gbxN-"
      },
      "source": [
        "### ii) Test build_vocab function"
      ]
    },
    {
      "cell_type": "code",
      "execution_count": null,
      "metadata": {
        "colab": {
          "base_uri": "https://localhost:8080/"
        },
        "id": "0WIu49sqbWCw",
        "outputId": "513dd27d-da8d-483e-84f7-94f357ead145",
        "vscode": {
          "languageId": "python"
        }
      },
      "outputs": [
        {
          "name": "stdout",
          "output_type": "stream",
          "text": [
            "****************************** Test 1 ******************************\n",
            "idx2word :  {0: '<UNK>', 1: 'This', 2: 'is', 3: 'a', 4: 'sentence', 5: '.', 6: 'Jhon', 7: \"'s\", 8: 'book', 9: 'not', 10: 'popular', 11: ',', 12: 'but', 13: 'he', 14: 'loves', 15: 'his'}\n",
            "word2idx :  {'<UNK>': 0, 'This': 1, 'is': 2, 'a': 3, 'sentence': 4, '.': 5, 'Jhon': 6, \"'s\": 7, 'book': 8, 'not': 9, 'popular': 10, ',': 11, 'but': 12, 'he': 13, 'loves': 14, 'his': 15}\n",
            "word_freq {'This': 1, 'is': 2, 'a': 1, 'sentence': 1, '.': 2, 'Jhon': 1, \"'s\": 1, 'book': 2, 'not': 1, 'popular': 1, ',': 1, 'but': 1, 'he': 1, 'loves': 1, 'his': 1, '<UNK>': 0}\n",
            "\n",
            "****************************** Test 2 ******************************\n",
            "idx2word :  {0: '<UNK>', 1: 'c', 2: 'd', 3: 'e', 4: 'g'}\n",
            "word2idx :  {'<UNK>': 0, 'c': 1, 'd': 2, 'e': 3, 'g': 4}\n",
            "word_freq {'c': 2, 'd': 3, 'e': 2, 'g': 2, '<UNK>': 4}\n"
          ]
        }
      ],
      "source": [
        "print(\"*\"*30, \"Test 1\",\"*\"*30)\n",
        "sentences = [[\"This\", \"is\", \"a\", \"sentence\", \".\"],\n",
        "              [\"Jhon\", \"'s\", \"book\", \"is\", \"not\", \"popular\", \",\", \"but\", \"he\", \"loves\", \"his\", \"book\", \".\"]]\n",
        "\n",
        "idx2word, word2idx, word_freq = build_vocab(sentences, min_freq=1)\n",
        "\n",
        "print(\"idx2word : \", idx2word)\n",
        "print(\"word2idx : \", word2idx)\n",
        "print(\"word_freq\", word_freq)\n",
        "print()\n",
        "\n",
        "print(\"*\"*30, \"Test 2\",\"*\"*30)\n",
        "sentences = [[\"a\", \"b\", \"c\", \"d\", \"e\"],\n",
        "              [\"c\", \"d\", \"f\", \"g\"],\n",
        "              [\"d\", \"e\", \"g\", \"h\"]]\n",
        "\n",
        "idx2word, word2idx, word_freq = build_vocab(sentences, min_freq=2)\n",
        "\n",
        "print(\"idx2word : \", idx2word)\n",
        "print(\"word2idx : \", word2idx)\n",
        "print(\"word_freq\", word_freq)"
      ]
    },
    {
      "cell_type": "markdown",
      "metadata": {
        "id": "dcjnnKYTdTcv"
      },
      "source": [
        "## **1-3 Skip-Gram**\n",
        "In this section, we will implement Skip-Gram. We also prepare the inputs for training Word2Vec.\n",
        "### i) Prepare training data.\n",
        "In this code block, we will implement the function which returns a (center_word, surrounding_words) pair for Skip-Gram.\n",
        "\n"
      ]
    },
    {
      "cell_type": "markdown",
      "metadata": {
        "id": "0MwyXjIk9a9r"
      },
      "source": [
        "![picture](https://drive.google.com/uc?id=1z3fcVn_S4HKj8TXf4Recs8ATOxK8yCh5)\n",
        "*   The window size (3 in this figure) is a hyperparameter.\n",
        "\n",
        "\n"
      ]
    },
    {
      "cell_type": "code",
      "execution_count": null,
      "metadata": {
        "id": "syZpTH2IZYQy",
        "vscode": {
          "languageId": "python"
        }
      },
      "outputs": [],
      "source": [
        "\"\"\" \n",
        "Argument:\n",
        "  tokens -- A sentence where the center word and the surrounding words come from (List[str])\n",
        "  win_size -- context window size (int)\n",
        "\n",
        "Return:\n",
        "  window_pairs -- List of (center word, surrounding_word) pairs. (List[Tuple])\n",
        "                  For example, # [\"Jhon's\", \"book\", \"is\", \"not\", \"popular\"] w/ win_size 2, -> [(\"Jhon's\", 'book'), (\"Jhon's\", 'is'), ('book', \"Jhon's\"), ('book', 'is'), ('book', 'not'), ('is', \"Jhon's\"), ('is', 'book'), ...]\n",
        "\"\"\"\n",
        "\n",
        "def get_window_pairs(tokens, win_size=4):\n",
        "    window_pairs = []\n",
        "    ################# Implement here. #############\n",
        "\n",
        "    ###############################################\n",
        "    return window_pairs"
      ]
    },
    {
      "cell_type": "markdown",
      "metadata": {
        "id": "n8g4h7JndIdQ"
      },
      "source": [
        "### ii) Test input data"
      ]
    },
    {
      "cell_type": "code",
      "execution_count": null,
      "metadata": {
        "colab": {
          "base_uri": "https://localhost:8080/"
        },
        "id": "gP6SoKi5ZYS5",
        "outputId": "149ae294-7294-40ae-d459-3eced7649ec0",
        "vscode": {
          "languageId": "python"
        }
      },
      "outputs": [
        {
          "name": "stdout",
          "output_type": "stream",
          "text": [
            "center word :  Jhon's\n",
            "surrounding_words :  book\n",
            "\n",
            "center word :  Jhon's\n",
            "surrounding_words :  is\n",
            "\n",
            "center word :  book\n",
            "surrounding_words :  Jhon's\n",
            "\n",
            "center word :  book\n",
            "surrounding_words :  is\n",
            "\n",
            "center word :  book\n",
            "surrounding_words :  not\n",
            "\n",
            "center word :  is\n",
            "surrounding_words :  Jhon's\n",
            "\n",
            "center word :  is\n",
            "surrounding_words :  book\n",
            "\n",
            "center word :  is\n",
            "surrounding_words :  not\n",
            "\n",
            "center word :  is\n",
            "surrounding_words :  popular\n",
            "\n",
            "center word :  not\n",
            "surrounding_words :  book\n",
            "\n"
          ]
        }
      ],
      "source": [
        "sentence = [\"Jhon's\", \"book\", \"is\", \"not\", \"popular\", \",\"]\n",
        "window_pairs = get_window_pairs(sentence, win_size=2)\n",
        "\n",
        "for idx in range(10):\n",
        "  print(\"center word : \", window_pairs[idx][0])\n",
        "  print(\"surrounding_words : \", window_pairs[idx][1])\n",
        "  print()"
      ]
    },
    {
      "cell_type": "markdown",
      "metadata": {
        "id": "TrpWotfdOmPJ"
      },
      "source": [
        "### iii) Prepare dataset\n",
        "In this section, we will implement the negative sampling function to improve Skip-Gram. \n",
        "\n",
        "![이미지 1.png](data:image/png;base64,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)"
      ]
    },
    {
      "cell_type": "code",
      "execution_count": null,
      "metadata": {
        "id": "1k7iOiL6Omcv",
        "vscode": {
          "languageId": "python"
        }
      },
      "outputs": [],
      "source": [
        "class SkipgramDataset(Dataset):\n",
        "    PAD_TOKEN = '<PAD>'\n",
        "    PAD_TOKEN_IDX = 0\n",
        "    UNK_TOKEN = '<UNK>'\n",
        "    UNK_TOKEN_IDX = 1\n",
        "\n",
        "    def __init__(self, document, window_size, min_freq, negative_sampling=False):\n",
        "        self._window_size = window_size\n",
        "\n",
        "        tokens = [tokenize(line.strip().lower()) for line in document]\n",
        "        idx2word, word2idx, word_freq = build_vocab(tokens, min_freq=min_freq)\n",
        "        \n",
        "        self._idx2word = idx2word\n",
        "        self._word2idx = word2idx\n",
        "        self._word_freq = word_freq\n",
        "        \n",
        "        if negative_sampling:\n",
        "          self.negative_sample_table = list()\n",
        "          self.prepare_negative_samples(power = 0.75)\n",
        "\n",
        "        self.prepare_data(tokens, negative_sampling)\n",
        "        \n",
        "    @property\n",
        "    def n_tokens(self):\n",
        "        return len(self._idx2word)\n",
        "    \n",
        "    def prepare_negative_samples(self, power):\n",
        "        \"\"\" \n",
        "        Arguments:\n",
        "        power -- (int)\n",
        "        _word_freq -- A dictionary which maps the word to its frequency, key : word (str), value : index (int)\n",
        "\n",
        "        Return:\n",
        "        self.negative_sample_table -- 1D numpy array which is filled with the vocabulary index. We desire that the random sampling from this array is equivalent to sample the index from the distribution above.\n",
        "        \"\"\"\n",
        "        ############################ TODO : implement the negative sampler##################################\n",
        "\n",
        "        ######################################################################################################\n",
        "\n",
        "    def negative_sampler(self, K=5):\n",
        "        indices = np.random.randint(low=0, high=len(self.negative_sample_table), size=K)\n",
        "        return [self.negative_sample_table[i] for i in indices]\n",
        "\n",
        "    def prepare_data(self, tokens, negative_sampling=False):\n",
        "      self.features = list()\n",
        "      for tokenized_sentence in tokens:\n",
        "          feature = [(self.word2idx(x),self.word2idx(y)) for x,y in get_window_pairs(tokenized_sentence, self._window_size)]\n",
        "          if negative_sampling:\n",
        "            feature = list()\n",
        "            for center, surrounding in get_window_pairs(tokenized_sentence, self._window_size):\n",
        "              negative_sample = self.negative_sampler(K=5)\n",
        "              feature.append((self.word2idx(center), [self.word2idx(surrounding),]+ negative_sample))\n",
        "          self.features.append(feature)\n",
        "      self.features = list(chain(*self.features))\n",
        "\n",
        "    def idx2word(self, index: int) -> str:\n",
        "        return self._idx2word[index]\n",
        "\n",
        "    def word2idx(self, word: str) -> int:\n",
        "        if word in self._word2idx:\n",
        "            return self._word2idx[word]\n",
        "        else:\n",
        "            return self._word2idx[\"<UNK>\"]\n",
        "\n",
        "    def __len__(self):\n",
        "        return len(self.features)\n",
        "\n",
        "    def __getitem__(self, i):\n",
        "        return self.features[i]"
      ]
    },
    {
      "cell_type": "code",
      "execution_count": null,
      "metadata": {
        "id": "saiWA_FeqrDI",
        "vscode": {
          "languageId": "python"
        }
      },
      "outputs": [],
      "source": [
        "document = [\n",
        "            \"Word2vec is a technique for natural language processing published in 2013.\",\n",
        "            \"The word2vec algorithm uses a neural network model to learn word associations from a large corpus of text.\",\n",
        "            \"Once trained, such a model can detect synonymous words or suggest additional words for a partial sentence.\"\n",
        "            ]"
      ]
    },
    {
      "cell_type": "markdown",
      "metadata": {
        "id": "g4NMOoT4aLQs"
      },
      "source": [
        "### iv) Skip-Gram without negative sampling\n",
        "In this section, you will implement the obejctive function of Skip-Gram.\n",
        "\n",
        "The objective function is the softmax over the entire vocabulary.\n",
        "\n",
        "![picture](https://drive.google.com/uc?id=1Krmu4OoPEwnkhaBSsShEMDzEWuMZvVxy)"
      ]
    },
    {
      "cell_type": "code",
      "execution_count": null,
      "metadata": {
        "id": "YSQ7CMdoPgBu",
        "vscode": {
          "languageId": "python"
        }
      },
      "outputs": [],
      "source": [
        "class Word2Vec(torch.nn.Module, ABC):\n",
        "    def __init__(self, n_tokens, embedding_dimension):\n",
        "        super().__init__()\n",
        "\n",
        "        self.input_embedding = torch.nn.Parameter(torch.empty([n_tokens, embedding_dimension]), requires_grad=True)\n",
        "        self.output_embedding = torch.nn.Parameter(torch.empty([n_tokens, embedding_dimension]), requires_grad=True)\n",
        "\n",
        "        self.init_weights()\n",
        "\n",
        "    def init_weights(self):\n",
        "        torch.nn.init.normal_(self.input_embedding.data)\n",
        "        torch.nn.init.normal_(self.output_embedding.data)\n",
        "    \n",
        "    def forward(self, input_feature):\n",
        "        \"\"\" \n",
        "        Arguments:\n",
        "        input_embedding -- Embedding matrix for the input, the center word in our case.\n",
        "        output_embedding -- Embedding matrix for the ouput, the surrounding words in our case.\n",
        "        input_feautres -- Tuple; \n",
        "                          (\n",
        "                            center word indeces, shape: [batch_size]\n",
        "                            surrounding word indeces, shape: [batch_size]\n",
        "                          ) \n",
        "\n",
        "        Return:\n",
        "        loss\n",
        "        \"\"\"\n",
        "        ############################################################################\n",
        "        ## TODO : Define loss function\n",
        "\n",
        "        ############################################################################\n",
        "        return loss"
      ]
    },
    {
      "cell_type": "markdown",
      "metadata": {
        "id": "NQf_yRbvUG-D"
      },
      "source": [
        "### v) Test softmax loss\n"
      ]
    },
    {
      "cell_type": "code",
      "execution_count": null,
      "metadata": {
        "colab": {
          "base_uri": "https://localhost:8080/"
        },
        "id": "6E18o9AFPp3G",
        "outputId": "8e65632b-2b6f-48ce-e416-2a30659d4543",
        "vscode": {
          "languageId": "python"
        }
      },
      "outputs": [
        {
          "name": "stdout",
          "output_type": "stream",
          "text": [
            "epoch: 0, loss: 1124.036211490631\n",
            "epoch: 1, loss: 1111.8959074020386\n",
            "epoch: 2, loss: 1100.1118307113647\n",
            "epoch: 3, loss: 1088.64253282547\n",
            "epoch: 4, loss: 1077.4600100517273\n",
            "epoch: 5, loss: 1066.5463843345642\n",
            "epoch: 6, loss: 1055.890989780426\n",
            "epoch: 7, loss: 1045.4878330230713\n",
            "epoch: 8, loss: 1035.333519935608\n",
            "epoch: 9, loss: 1025.4256596565247\n"
          ]
        }
      ],
      "source": [
        "# Prepare data\n",
        "db = SkipgramDataset(document, window_size=3, min_freq=1)\n",
        "data_loader = DataLoader(db, batch_size=4)\n",
        "# Prepare model & optimizer\n",
        "model = Word2Vec(n_tokens=len(db._idx2word),embedding_dimension=64)\n",
        "optimizer = torch.optim.SGD(model.parameters(), lr=1e-3)\n",
        "\n",
        "for epoch in range(10):\n",
        "  epoch_loss = 0\n",
        "  for batch in data_loader:\n",
        "    optimizer.zero_grad()\n",
        "    # forward\n",
        "    loss = model(batch)\n",
        "    epoch_loss += loss.item()\n",
        "    # backward\n",
        "    loss.backward()\n",
        "    optimizer.step()\n",
        "  print(f\"epoch: {epoch}, loss: {epoch_loss}\")"
      ]
    },
    {
      "cell_type": "markdown",
      "metadata": {
        "id": "pEAb0RWaJtDX"
      },
      "source": [
        "## **1-4 Skip-Gram with Negative Sampling**\n",
        "\n",
        "In this section, you will implement the obejctive function of Skip-Gram.\n",
        "\n",
        "The objective function is the softmax over the positive sample and negative samples.\n",
        "\n",
        "![다운로드.png](data:image/png;base64,iVBORw0KGgoAAAANSUhEUgAAAXEAAAA7CAYAAACNM7oaAAAgAElEQVR4Ae3dd5B0RdUGcP9QMKCUGcWcUQEz5oQKRswiKmLOOWGOYAQVzDkRTICIKGLOijnnnAPmHPqrX3/1vNV1a3Z3ZnZmdt53u6u67p2+3adPn3P66dPh3jlN6aFLYIQE/vOf/5R//vOf5Q9/+EN5xSteUU466aTywx/+sHzjG98of/3rX0eU6EldAl0CGyGB02xEpb3O5ZfAf//73/KPf/yj/OIXvyi3uMUtyote9KLy9re/vfzpT38q//rXvwqQ/9///lfk66FLoEtg4yTQQXzjZL/UNQfEP/3pT5dddtml7L///uVBD3pQ+e1vf1vB3XNALvbQJdAlsHES6CC+cbJf6poD4i984QvLfe973/KBD3ygHHDAAeX9739/9cZ56Tzyf//730vdjs5cl8C2LoEO4tu6hqdsHxD/+9//Xu50pzvVpZTvf//75YlPfGJ55jOfWb72ta/VtXIgLvbQJdAlsHES6CC+cbJf6potk/z5z38u97nPfcpnPvOZusnJG3/Ywx5W3ve+99Vn8nRPfKnV2JnbBBLoIL4JlDxNE3nYPPG//e1vNQJsp1KsibsCb5HH3kOXQJfAxkmgg/jGyX6pa3a8EEhn3Tv3wFzMxmYH8aVWY2duE0igg/gmUPI0TQTOOUKYa9L8buM09HuZLoEugdlIoIP4bOTYqXQJdAl0CWyIBDqIb4jYe6VdAl0CXQKzkUAH8dnIcauhYhnE+rY1bxuXznu7z3HBSa/Kiuigl6gOdfXQJdAlMF8JdBCfr3yXiroNSWD7tKc9rZz73OcuZz7zmcuOO+5Yznve85YLX/jC5SIXuUi56EUvWqPfq8ULXehC5YIXvGDZeeedK62zn/3sZYcddihnOtOZylnOcpZ6ttwplr7xuVQm0JnZBiXQQXwbVOpKTQKovObPfvazZffddy9nOMMZyjnOcY7yqEc9qr7A8+Mf/7iIP/rRj+r1Jz/5SRkVPfchLK/kn3DCCRWwH/KQh5SrXvWqFdiB+G1uc5vy1a9+tXr9K/HT07sEugTWL4EO4uuX4VZDwfKG5ZK//OUv5cgjjyznOc95yhnPeMay2267lWOPPbae/86RwhwlHHXNcUN526WUX/3qV+VNb3pTufWtb10HiaOPPrp/8XCrsY7O6NYqgTVBvD1KlnseXY6bLXPD8YvPFnSWhe8AKiAElJFtrvOQK9pkoT5fI+SBn/WsZ61LILe61a3KF77whbrcMoqf8JVr5Ogqf67WxL/5zW/WV/Sf8IQnlJ///Of1meeJLY2krVSn5/JvxqDd5PLrX/+6GCBPPfXULbKOXCLLZZdPq2c2YvBP2rLzPgv+6El79ff0+aEOLXX+7ne/K7/85S+rruUbx/bXBHEVpZOm8oCiZ8sc8EkwgMQSgs6QNowjnHm2jezw8+Uvf7kqLjLOdZ51o62e733ve3XZ43SnO10517nOVR7zmMfUb4aPazyjeCRXtH/wgx+Upz/96eUrX/lK3ezUaSN7baebpEVPyiUmj2fSNlpfo9o67zTtBtyHH354/aa7pSsAyKbJrpXVvHlZD326o3t8/+Y3vymnnHJK7ZN+0+9mCHRFBkD6i1/8Yv32EB3Gvj332Wc6fslLXlKOOOKIKivpa4U1QVwlKuO5WQf91Kc+Ve+lLTuIE5rXxI855pjyrne9q/zxj3+sgtSmjQYF9ZOprwKKeKMwvC1Cruq3rPLe9763XOEKV6je+MUudrHymte8phrYOMYzyrjQVdbr+jqrdXP3Oix9+GOJF7/4xeWggw4qz3jGM+oHtVxzLx34i89+9rPLl770pVpuo/U1qq3zTmMLP/vZz8pjH/vY+qccZEGWbOVb3/pW+cQnPlE7Prkus3zwlr74tre9rbzjHe+oYJaBaN5yXAb6+jQZ6PMf/vCHy7vf/e7y+9//vqZJp2t/wMKpO+qoo6r9248apx+OBeK8Kv/uctOb3rR+ltRouiiwmVYBDMfpCIb+3Oc+t478eE7caKNXP1500sMOO6yOzrwsyh5Hca1cpm2LeujypS99aTnf+c5Xtt9++3Kta12rykwHmybgX7uUJ3/03cdQzT5OPPHEYqlFvdbi73GPe2wZaF/72teWhz/84cXyzt3udrdy8skn17LTtnGaNixLGXL86U9/Wu2XB0eO5Kcv3v72ty93vetd6wxTvmWWD94M4nT5rGc9q3z3u9/dAl6T2vqy6GZSPshAWzOY6fNWB/R5aekfrmavhxxySD1UMI5DtyaII8Jj+/rXv15ucIMblJvd7GZ1fU66iLFR99LaoBHSMKkMw3Ndy/hSTt7UlbT26r6N8pqePPrRj67CUm/7vOVtI+7xgkfG/clPfrKOvDpq5DIuT4DSGpormpME+mBEBmmnS5xWcbLkLne5Sz2hQmby4HOSEDkrK+a3q/b5OuKb3/zm8sEPfrB6lMDcjEk6bwRwvfOd76z/KPSGN7yhymjStk3C77LmJTs2bEaS9XCeuOm4P+m4znWuUz7+8Y9X+UbWrvQlklnk37ZRWoC/LbeWjD0X04fzO9e2jvCAPhs3czj44IPLW9/61jqbSBnXzRLSZrLxOef73e9+VRZDbPLs0EMPrf1gHPmMBeIUzqPaZ599yk1ucpMKGojHADynqHhcMaBWOVGqK6aVaY2hzdveq0cZ+dEXsy7oyqhdRXkS3FtC4c3hDa/LFLQrMsD7Pe95z9ohJ+VV53AKxPo2OU0S8BCZWia78Y1vXEHc+fEXvOAFFVDxQ0+zCqmTB/6Rj3yk+E65kzIAXF0ipwFoAS/Tb/JZNv3NSh6r0dFmAzQ5mHqzF9Hs7cEPfnC5xjWuUT72sY9VEvJ65iqmjyWtrYed0IM8yZdybb7hffKwmeiKbtIHk+aaPOry/LjjjqufNeYwzNKehjxuDb/J3rKKf8qiP/KQlhAQp+c2Pc+H17FBnKfkvxaHIM5IoiheFOYobQgofjMCz3RSnTbAuxqjyqgDXRuUlkde//rX182exz/+8fWExYEHHlge97jH1e9eayB6jMi3sN/4xjfWe3SWKeCHTERKfPnLX147pg4wlN1qfJshkcd3vvOdWm41WQ7pRCfkSy8Gg0tf+tLFRqfjhzzlUboc0pnkd3QTEDe1tokTe3BO/dWvfnXV9+c+97nqwZHJJO2ahJ9lzstGhiBOZ2Yqo0A8NqVfWTfXH/U1+m0DGiK7y+xHGWmryRl9/Qptp2Xoh+78/6rlMbNeUX+0z0Nv6tAGex6WNSe175bvbeWejMnBbJM3Tket3BcO4qbxNqtskL3sZS+rm1b+UNeIi1GKxyBD4k34gwFTaXl1ZIbgSJpRJyOS/KKyjMxLI7yRa1/72uUSl7hEfbPQ0bgLXOAC9a1CG3JeNLFZoBxj5MkBJOtL6g4fLW35GKRZBt5MXRknPtqQMrkOn+kANiF4xRSSzhADJofwZTAEXNolH97ks6RymctcZstmR1vHavcUbh3529/+9pZ6V8vfPlM/uYh40Omf/OQn17cwvXl5latcpepWx03bXdcTlEevBXFny8mfTCwPOCXDrsgmMlpvvevheVTZVh7D+1H527Q2f5s+vKeXIYiTCWfG8lc8cfTIiZ15BkBf9apXVXC1ScY2yFMeedFg95Zl6MFpCDMeG9FsWF8c9hflDOho2Zi2tKovesP3nOc8Z91TyRu++qO+qF+wK7NE+x76vbrRGhVWSh+VV5r2aAeevYCW9oXX7CP4jRf59L8230p1Sl8tomcwJQ8Oprxkhjb5Bfu01z4GPIQNkat0+fR52CE9YeYgjjmK0Pjhcop00/D73//+5ZWvfGXt8Ly3O9zhDnXTxTOKj9FQPu8YsJpeAeXzn//85ba3vW01OGAqL0GkzHve855ywxvesAKypRHHrdS1xx571OkIY+Vto0cYyuHLVN1LLBSJnijdc5GQDQ7KGnT8Ww0Ae9KTnlTpRKAxFkJWDp02oGlJwGkK9aGjw6BPyc5i85aVpUSey1577VVnFKGDts568YtfvMoTTXJPiIG0V/eiNgDxeOIxEtfcJ2/ojbrKi0cD6r777ltfx7dG7v81AQOeEtGbNigbELdLj2//4+kUC9k5iWFWBdCXOdAveZGJqza5so/V5EPOyiT/WnlbEI8d6/ytJx6ZskObwj6rQI8f/ehH63Kiv9jzr0zABg12ePzxx9d/aeJUAf299967Dt50//znP39Lv5U/7TPAwoBLXepS1UZszvHCvZ1rOZBjZlaoT7EZZbVXfzeDx09sstWtNDH5tWelmLyuGfRtxu+3334VqNEgW7ZlcALufrte7WpXq4cIgklpG1ptSHqu0XF+u3JcnaSCQzCKjNgEfRmw1AfoOSdmlmRkFQGt0MEHniz7tjwsFMQ1xA656ROQ1wgjo9MHBAsAeJ2EiLFdd921vO51r6t55Oddm7bbbU95wtAgtHgK3v4DbnZrgSIDZIyWH250oxtVY+R1S0/HcmVcNmFjuAQX4eGHQd797nevAmYMBhADhEEGr21Ip0PXfRv8VrdBg2eiLehJc7Tx8pe/fN2VV6fyjomRi86ToL34vPKVr1zLy9t27hg0/mMEaY8O4lggL8OzAInn6KZsSy/1tlfPlWVYOjUvnDfumyg6Kxmn/a3BtTTGuVeP9vEAP/ShD1X7MBUne5t1lshs6pDfMgey0g4dVccln9juarKmF2UsGymzmiw9GwfE5QMWHIbrX//61fNTBxkCTgDNUeI1Sgewd7zjHeu+h/4qTf8yszUrMiOl69iYe4Otvu57ORwWAwn6+q3NSiBlE9pMdjiL0jc4YmjgdSif1qZb+0397TV50ZFXXexml1122VIv/v0f7J3vfOfal5UhHw4ah0F7pZl5wrChw+AZ2totb+w+vLlKB8rq5VRKIw8zHysAsMtvEchzdDkqoS2/vkZu9p+0MWGhIG56hOG8Xo0xTPKIH/rQh9apls5KCDavHGPjOWNeB6B8UzDA53caqEGEbiT1cSZgazCQHgGanlzveterR9F4o21Z9CmR505ByjAcipePx+KIlhETeIYmOpY1pCUoRxGmmg7imxq1AU/qQ/Nyl7tceepTn1rL+/285z2vXPKSl9yyI6+NOhBvRQdOwBc+bSw6goVea+ju8a1uAxkaiYCQEeDbM53LM1cdLG1Ho6WZunP1TF5Rexmmj2Rtv/32dYah7fjCB36nDeohh4C4jm1Adj7WFNxsiCeOh2UOsRmghe92FrmanGMv9MU7HgJI22ZyHgfE0WSfnAiyY79kHF0+4hGPqLokc3I14Ou37AYYycfxuuIVr1iXStInpKMNKDkKbJlH7X0RdiAqH4DnVAEqfIvK6/ucGeXYpfRWPu7JIPYc+83v4ZU8tAGd8MZmOIMwAy2y5SiZ8XKW8IFP59ODFXjnUHFQRjltZKAtdKvOyFOd6QNm2JZx/Xm4dA6VQYIerEiQmz4D0Hnj+q+y8oqeHXDAAdXm/U5YKIjzpIGspQwMh0H3vKnTn/70tYNSpEV8I71pYEZ/AjJCW86I4ilVgyjzXve6V11u4SUQahqvHgIhAFM7HgBFiZ4Rjj/0feADH1iVKj1KZwCWdaxFmXLhraWb3xEofizJoHfzm9+8etx55oouBRv9eTyMB++8WdPKq1/96rU+bdYGo7cOh88ENBifgcUxLPy3hu65jsNLMuC10aBBDsq16YDR4Mrji2xamqk7V89EdUW+j3zkI+uxQ2ueNqzwRVbyTBvUERAnf+ullpjSAS3B8fR0uugldeZ3+MRH+8zv9fIW2itdUx+Zksdb3vKW2nnJTIytKZ+YtPDrN2DQsemVzY3iXdq4IG6GC8h4m2wtfKIBWPS95zznOdUGTfWB+L3vfe860OObx85WrY3rv8rhEx26MVtiBwBL38szvLN99nG2s52t2qgyifTIbs2KDXTSySXBvRMaZMFxYLetHbf3nhtMzKLRwYP69WdvHJtpcGQMGmbiQFy72JvBFgalfysvr1kCGbch/dkKw+1ud7vKnzT1RU/4ZrvenYEN2mYg1O+9PMcu9GnevjRtVKfyyrpnPzx0Myi/ExYK4job4REuxWtklGt97LSnPW31pgmAdw7grBsbpXiJzgfboDGSt0FDTXOsrRvV4r1L19iAjPPM1tQZaer1DC/WVu38EmSEryxlWvezMcP48CY9ws01/PjNiAEiwOTFtMFzdWqPKarlH0rTGRzmN0gpx/CV5Q2Ep9BBQ5qyBsYhiKOPb16E75vwIBIZLPoM1IifdFeeggFIeW1sO0/qHnWVj7EzUstBdOZFjQDruHRWok3mvEIdyAzLLM3gir4ZCnAnAzykY6ZubYmuXUfFUfWOk6ZddJEY2rERMkyURp88Oby3PA3tCc/a0ubRPvZh/TlLMZ63AR/jgri+pC9ykthSqyMAb7PRLA/AswmnRWyM0oP+AkQ5TdqEX+XTDvzZbPbFS30dMOWZdumrBgR7KOhERvj33Iwd2LHhlEs75VE+tptra8fDe4MQWSlLDwDTAGZWqj+Y1aVO+yxsB8CmnLLKJeKpDdK1mXPBOWKD0tTXBvT0WfsB6jGz4jRZiuR40oNBGnbAkDbgAV9kDqtaHhYK4gzHGplRWKPTwSjO6Oib07xsDDMUSwxGHhsCRljAoxPL3wYGBGABPJBm6OkoaMlPgLxpAiO8GIcr4QBDa2KMVhnpovpM+3ivgBfPlNPGtgO4Vx8lMEK026AcGtpPmZZUtJ0xGrgskWiHUZ9ijdjotQbhnpcO8HUCBtPygH9R3crmtyuDNcgBbOXaZ2mzNPctzbYNw3v5gIwlFJ1fhyBH7ZyEzpCu32jjcyUQ10bGr346tyRlTVGatqf9+Ehb8SWi6/m0AW90gS56qQ9dfLXyxR8b08HlUw5PLX/SRGnoRX/oiNr0gAc8oIKY38q3QdlxQfykk06q3rYlRraqbALgpUd9EQ/kqh848mcTlPfLubAZqp+Gb1c84dMAsNNOO1VPnA3j13P0Pv/5z1ev14CPD2VCgyw5ALxifdaz1g7dkw96kVP0Ory2MvQMLeUAKBC3PGQJlq0C7Vve8pYVY4A7YNQ25bTfqThLrpxN7WuDPOiSI+eLrtPeNh/A5qnvueee9XAB+cl7zWtes5jFmpEb5F3RbAP5yMvxy3JMns8NxDXGOXGgBGAxYYT01hjgwmgay/CMLhjUMA0gQIYAbDwHiIBPOuW0ikWboIGHPx0A/AyAkmOEGSRshMUzUE8UyxM2PQSO6OcZwVv2APCMEc+eo02ZlNXyQrBRIBp4a4PfyuMBWFvjz1ojj8duvrV5HYZnGxm1dNwzGBu/porqaXlw33YMvxMp3BSTnNNB8izlpI/ivW1H7pWRl5Ff9rKXrQOETkEGora2vKfcOFe0laVDgKJzAUHTbXVIj37Jk4dlwAXiBkHLdtY40xkNwplNmaFYkyRfdbQywJs0ckj0vA3hTdvlYc9mjPZt1AEUeHlsl62wK6c+3Csjsie8AjXpZEVmdKNdBnXLacrK77klDnXExlqe8NyCeOpBx4siPGnLBfhVt01NTlVeIJGujDVja9L4UI/6zRbpIGvObFW658qpO1FbLH06SWGD1MyZDsia3mzmGSR468GG0HClGzNfeOH3UPatbvDb6m54H7m5ooVfMrWsy6HL0Wa6s4TDk+bkaZ8y8msPnjhdHFG6aQN+6Cb6Uy71tbyzSasBlqb0wfRtgwfMMshz5tSJZhvQk9+ga9m1fT5zEFeZRhIOT1FkDBgAtEZxjSAMhiQaGRk4IE3DGIGlESOUkSdrtkCLUaqD0KJ896ZZ1rWdTuG5ExojMbKjZWNSffLGEFwJDb/KZU1YurYABzQBlLVpncQABRwYvzytQFvBj7pPvQYkMxLf/MA3OgYFp12udKUrVY8AnzECV2XDl2kXfgETGYwbDIo2SnlWk/A9pK8s/ugLsJr+6pQBnPA9LDfJb3WgDyBN8R2tskSko5ml0S19sQkDIv1ab7RRRb6Oz3EO8AR8tDvLAd5TsKknnzoStSl6J2MAq57YG1sR5c9AEj4tU3FarNPzVDkxbJeO2CweYy/KGIgBpjzsCtDhkXeIZ8sneHQNX6bsyrS2EZmiOQRxfNK5mSTQ0m716IuWpzgRli05SSKQl1dfTPvwzmt2qiOeuIHUoOpZBsnwxB61zQYpsLTezKmiR3UCaHUCd/yRSWsvdMuRoW+02mdp6zRX8qFHeORfqciZLtUP2DkA+rr+2PYpeYC89hvMtHOaQDdsAJDDG3TQJgunVsg8g/ywzXg3sMAxS1h+J8wcxDUes0DXyM+LdR/Pm9J4EtJ5FTxkYGYqDjA91zCGZwBgeDx3wK8BNiaNiBiXT1SnSCg6no5sOmYDwGaDDUbTFJ0pnYiQCEJUlnKV4UGhE3r4MTo6LuV4jw5nuYYylSF0eccN8oo6qWWNrO/iS2cAUIyLLFpFtfzKa9bBy5m0fnIDiLMCcZ2TF2E/gd7JDn+zCOTEDoCx/Q4DXDaMAYRo9sbOdEB2wZvRSQ2IvB0dht6Bkw4EJIGTDmEqD2wAGr1nPdQzZW36GQSU47XTCZ2LBhNgjVZ0hz8DCZrAzXqz5Q8zKvkBMnulS5FtsYGnPOUpdVDCt/KWD9kHMAEenAZ1iHh2kit0WjmzlxbE5cELfRtkvWdhuYnOPGNvHBGzTDNUfdGSgYHO4Ma25EPTiS97HWZ/liX1Q1E/5jGj1fYnvAIq/U+9BnibneoC6hwstEU2Qx4JBhP9gA7QaftB8kxzZU/qM6Bb1tBGaehbZqQHA5N2t3WyD+9WwIA4edPUTxfomIloc9pPJ2TCrqLntn6ywRPM0efZRvt85iCOOQrl8eoMIuYZLAY9d48RIwqDkj+dQ8MwbMTmTesAvF6eOS9EJwTOjJlw0RMpw1V56TqRkd6o7ncEpPFilJff6mTEOi060sOvskBBpwJ+OrN6UndrgGspV73oKg9cyMFv6dIY96hlGnWEV/nIwNol3qSPG1pPXJ2T8N7WoazOzTMDlEAKXyK5zCLEeNlQZm2tXUnXEfPcNbJjYzrkda973ToQGCx1FufL5WNT5B9+2YuonKNivHt6Rk8Hj6PBntgATzRLWWQBzA0mBlc02bZOTz545ggACbLRLlFdABPQ4ZVNO6WlLn1GPYAdfZGdAHWDSui0cmYHLYizaZGMtDWyYzN4zFX/ALjsWzuUiW3Lo/0A1UzUrMASkHaa1nNqRGXwFxt1laZvs2nyMGNj79qNrjq0Cy+tHXpuKSonZyax71Yew3t01KlubVVv+NVuMy51D2VLplYEzIC0Cc/TBOXoQl3uI2MYR0757VlbB9mwQwNhvPVWXnMB8YASpggJQ64qFiM4+dooP8ECX56DKQ7mCVZkbAQA4HUKDU+DU4draOY+15aH8JKrMurlCTFofEhTFl+hEUGnDdLRGDe05dyrI2mu6OXa0lSHZ/jSIXh9AMXvSepnkDqjDq2eSYJ6whtvifdAXgCIfjxLnJbuUL7oxS6iV7/DR65kkyiNXHjPzioHcJ1KcsqC52iNk22hpRNZB9VBlQM28bjQlMdv5c2StBuoAYLoBE1v42XGSSbeCgTSQMPgCazRD8/q4/2bwtsDkUd+yxnqwz+blz9lzFh1ZjwN9S4PIDIbMVC19ju0M3xEXrlGviknXX+ztGHfBi/0jG9X8iM78kUvPMVO8CMNndDMb2lpk/s2yGtGrU4DpTLyJrZ5J7nHl7pSd+jlt3qT1tKlZwMy/ZsVDflt8652P6p+tNQrtnILH67ywCazUfXHhpInIG6wRGOtsOYHsNYisNLzNACDOpQpm+myex4So2bkPHLLMZkSasgsgvoNCkY6Hi7jjcHNqo718IkH/PAO7ZDbtNORKHgcxa2n7pRVF/2QDc/W0UubXTrztDLCe+gaPA0wwGI9Hg9+0WQjTiFYzuMBkpvOyJM0CGkLgLVnYkko3mE88LQptsmLArrWlVuQV84ej+UT9aCtTh6qNnluCm/Aazuge46KJSGAZYA1Q7CM6AqQ6Vz9oo5uOh7PN/xFP57ryA4EGKRjv67DvCkz6pr2KmNG4My4abzpPMdBW4AKWeiLnIr16qvlQ/1sm5wNENpCVqK2LDrAH7MfIO6enOcdyF5bRf3LEi5Zwyj1S8/VYM9+6J7drxXmCuKYoihGYpPIa+U53ud8pKmpaRww19HTkLWYHuc5w0FP5+RlOXuMFzxN0gHGqWuaPAE602lrnOng0hfFn7oYlIHV+rPBLuu15DdNwDu6ANKRSrR14Mh+GprKoAmA2A8gBTIGHmDNfgCrOqQDCsCYOpVN1C4xfCqnTPKyDzLhJZluAzkbcuqyFJIBSR6b967KoI+GQUs56+s6KK/PaQV01MMmU79y1svRV3aod8+BjL5jKSbLReoa5l1NrmmzK12YJTjJYkPS7ILuLXVY3sygi0/1zCKoFz2gZFnFySdyjMxnUcckNMgAD5aVMvufpPw0eemLPtVN35aWM5hJF/EizWyFjsYdYOYG4mGaIWCQAgGWTQCbPzkuFg+KkuVznVXAA2OJxw/QGc6sjHM9fOJBxzQTcdXBtR/P4rxDOpZp7v7771+9PbrAA948nyTILyrPGO11oAv4InPPpg1kgg5vUUdgJ4DRaRPeMvnh29XxO7YWm0qbXNHBZ3t13+ZhJ04X2Dy1vKANBll5RHSBvzV5g1Tqlm75hSebfRb2xzsnE88jW3VKs7GrPs+ktUFe9QJZTo+Ore3Sh3nbcsP76Ea6sgZqG6AGJg4OR8pvvIfPyGpIa5rfsQsyA0yWptSlzeKiQ/jRRjY1iSyn5VWdZM+evB9jcNf22BM+LPtxfCx3GVTJSJm1wtxAXMUxnjQA04yQ90KhMZQ2n/tZBbQoiIDUqbOlrlnVMS0dfJABvsgFn7Ns+yi+Io8YL9B22gKQZOoWPiKnca4MTRsAgAHJhp8TSN7o5T22NKnWc8UAAATXSURBVEbxNW4aOgFM9+ql29iR30DTjE97gPuwPSvVFXra4Qt/NlAtM2mTOtBu2yHNIGLjXJ14iFyjT3WLfrfl3esHPC5AGm8e/Tb4rawOb7kjOhrma8usda+s+tHFA95dw2Mrr7VoTfJcvWirW3vJT9p62jJJ/cO8qXuR9asrfZ6ttDy4pwc6pusMcuPwN1cQHwqu/95YCehAIgMCcI6fOa7JaHQsBjZOZGzATVSOZ8drRc/54x133LG+/GGtGujOOwQstU0n8AIabw9AeTZuUB6/juc59qd9wC0drqWDLiCyrmmtVzn5RuUdllMPuVlG44VnYJqE15Zmv9/cEuggvon0DySAUjZT/bGGN/lM1Z2O8f2LcaL8PtbFW3VaZIcddqifrfXBs+22267+M5Az+JaxgNq8QzyatM/LQQYjIDtJ/fLi2Yapo4tOvJCXOARYaegbDL1ZatNVeQA9zNu2PzxaMzd9xmfoT8JrS7Pfb24JdBDfRPoHIIDHcU4vbFjy8LIH73n33XevL394AWScKL+3XtuIlt9e5HKaw0YkUJt3aEE8IAkQA6rj1p+yZhrANYAsXWyDZ8BX3oC53+pcbQrsmfy8/AB4aA3raOvr910CK0mgg/hKktkG04EEwLADzgucRbSJ10abgOg6nbIWoC2riDMoLCt/na8ugVYCHcRbaWzj98AJiANXXqP7WceWdvcst3GD6s1bCgl0EF8KNSyGiXiY8cjze9ZX9EV0e+gS6BKYrwQ6iM9XvktFfQjWvHBpAd0Ab67jMh86rimbusal0fN1CXQJTCeBDuLTyW2bKAV0LX+0IB4gnqSBoZMlmknK9rxdAl0C65NAB/H1yW+rLg28ATDwdWJCDKiPuxQin3POXoxxXtyRux66BLoEFieBDuKLk/XS1QSwgbhvkfhuirPLSZsExIG370X7Doe3GHvoEugSWJwEOogvTtZLVxMPXAS8/tszIJ517XEYBva+Pe5cuI9TOV7YQ5dAl8DiJNBBfHGyXrqaLJ94WcXr6V4+8XvSNXEgjobX3P1hrHPiPXQJdAksTgIdxBcn66WqKWvZPhPsM73+4QWATwPi3jz0xx5AvHviS6XmzswmkEAH8U2g5JWayPP2/WifjPVtd+vh1scBsk+5rhR53f7wIJuglmR8AKt74itJuqd3CcxPAh3E5yfbpafM67Ye7uNX/kjBb/8q4st8vvvuM6mjog8+KZfviwBz36P2RwNewe+hS6BLYHES6CC+OFkvVU2WU4Cv/5LcZ5996t+HAXHr275y6MjgStExwnz4ySZoB/GlUm1nZpNJoIP4JlN4mpsNSR63z8ZaHrEs4r8g/e+jv49aLdrAbD1xyyndE490+7VLYHES6CC+OFkvVU08aF8a9E/r/szBP4nwsHnhNjtXi/4yzGmWHEX0sk9AHLgbIDzj2bvvoUugS2B+EuggPj/ZLjVlIOslHX/w4J+/2z+SBr7jhnj0hx12WNljjz3qf04qz6u3zNJBfFxJ9nxdAtNJoIP4dHLb6ksBV38RZkPy5JNPrp418AXuk4AvOmiccMIJ5dhjjy0nnnhi3fQE4t0T3+rNpDdgK5BAB/GtQEnzYhFgW9e2HCICb2mTeM/yAmx0HFlEB3hnQJgX751ul0CXwP9L4P8AtfTiXWEC8a4AAAAASUVORK5CYII=)\n"
      ]
    },
    {
      "cell_type": "code",
      "execution_count": null,
      "metadata": {
        "id": "vBVbfbYYJr-i",
        "vscode": {
          "languageId": "python"
        }
      },
      "outputs": [],
      "source": [
        "class NCEWord2Vec(torch.nn.Module, ABC):\n",
        "    def __init__(self, n_tokens, embedding_dimension):\n",
        "        super().__init__()\n",
        "\n",
        "        self.input_embedding = nn.Embedding(n_tokens, embedding_dimension)\n",
        "        self.output_embedding = nn.Embedding(n_tokens, embedding_dimension)\n",
        "\n",
        "        self.init_weights()\n",
        "\n",
        "    def init_weights(self):\n",
        "        torch.nn.init.normal_(self.input_embedding.weight.data)\n",
        "        torch.nn.init.normal_(self.output_embedding.weight.data)\n",
        "    \n",
        "    def forward(self, input_feature):\n",
        "        \"\"\" \n",
        "        Arguments:\n",
        "        input_embedding -- Embedding matrix for the input, the center word in our case.\n",
        "        output_embedding -- Embedding matrix for the ouput, the surrounding words in our case.\n",
        "        input_feautres -- Tuple; \n",
        "                          (\n",
        "                            center word indeces, shape: [batch_size]\n",
        "                            surrounding word & negative sample indeces, shape: [batch_size, K]\n",
        "                          ) \n",
        "\n",
        "        Return:\n",
        "        loss\n",
        "        \"\"\"\n",
        "        ############################################################################\n",
        "        ## TODO : Define loss function\n",
        "\n",
        "        ############################################################################\n",
        "        return loss"
      ]
    },
    {
      "cell_type": "markdown",
      "metadata": {
        "id": "nbBbEy4GkcRl"
      },
      "source": [
        "### ii) Test Skip-Gram w/ Negative Sampling.\n"
      ]
    },
    {
      "cell_type": "code",
      "execution_count": null,
      "metadata": {
        "colab": {
          "base_uri": "https://localhost:8080/"
        },
        "id": "T0UEqnVQRw6P",
        "outputId": "34db3a9a-b230-4d20-f92a-42209acde8e5",
        "vscode": {
          "languageId": "python"
        }
      },
      "outputs": [
        {
          "name": "stdout",
          "output_type": "stream",
          "text": [
            "epoch: 0, loss: 716.7459259033203\n",
            "epoch: 1, loss: 712.3140096664429\n",
            "epoch: 2, loss: 707.9008028507233\n",
            "epoch: 3, loss: 703.5062708854675\n",
            "epoch: 4, loss: 699.130481004715\n",
            "epoch: 5, loss: 694.773473739624\n",
            "epoch: 6, loss: 690.4353003501892\n",
            "epoch: 7, loss: 686.1159868240356\n",
            "epoch: 8, loss: 681.8156373500824\n",
            "epoch: 9, loss: 677.5343039035797\n"
          ]
        }
      ],
      "source": [
        "# Prepare data\n",
        "db = SkipgramDataset(document, window_size=3, min_freq=1, negative_sampling=True)\n",
        "data_loader = DataLoader(db, batch_size=4)\n",
        "# Prepare model & optimizer\n",
        "model = NCEWord2Vec(n_tokens=len(db._idx2word),embedding_dimension=64)\n",
        "optimizer = torch.optim.SGD(model.parameters(), lr=1e-3)\n",
        "\n",
        "for epoch in range(10):\n",
        "  epoch_loss = 0\n",
        "  for batch in data_loader:\n",
        "    # batchfy negative samples\n",
        "    batch[-1] = torch.stack(batch[-1]).transpose(0,1)\n",
        "    optimizer.zero_grad()\n",
        "    # forward\n",
        "    loss = model(batch)\n",
        "    epoch_loss += loss.item()\n",
        "    # backward\n",
        "    loss.backward()\n",
        "    optimizer.step()\n",
        "  print(f\"epoch: {epoch}, loss: {epoch_loss}\")"
      ]
    },
    {
      "cell_type": "markdown",
      "metadata": {
        "id": "ewaNKoCQiA-k"
      },
      "source": [
        "## **2. SentencePiece and Word2Vec**"
      ]
    },
    {
      "cell_type": "markdown",
      "metadata": {
        "id": "bJx8NlVQD4zH"
      },
      "source": [
        "### **1) Setup**"
      ]
    },
    {
      "cell_type": "code",
      "execution_count": null,
      "metadata": {
        "id": "oWlm-clIiRLx",
        "vscode": {
          "languageId": "python"
        }
      },
      "outputs": [],
      "source": [
        "!pip install sentencepiece\n",
        "import nltk\n",
        "nltk.download('movie_reviews')\n",
        "!wget https://www.dropbox.com/s/8w9n3cim0b32k2y/train.txt\n",
        "!wget https://www.dropbox.com/s/pwhn9gyjgvg39v5/pos_train.txt\n",
        "!wget https://www.dropbox.com/s/7h8aa1xe270fnfy/neg_train.txt"
      ]
    },
    {
      "cell_type": "markdown",
      "metadata": {
        "id": "JDdjz1TnEL7x"
      },
      "source": [
        "### **2) Import required packages**"
      ]
    },
    {
      "cell_type": "code",
      "execution_count": null,
      "metadata": {
        "id": "QxIzuDafh1oO",
        "vscode": {
          "languageId": "python"
        }
      },
      "outputs": [],
      "source": [
        "import os\n",
        "import random\n",
        "import numpy as np\n",
        "from gensim.models import word2vec #  word2vec library  \n",
        "import nltk\n",
        "from nltk.corpus import movie_reviews # For Corpus \n",
        "from sklearn.manifold import TSNE # For TSNE\n",
        "from sklearn.metrics import accuracy_score # for calculating accuracy score \n",
        "import matplotlib as mpl\n",
        "import matplotlib.pyplot as plt\n",
        "import sentencepiece as spm # For sentencepiece model"
      ]
    },
    {
      "cell_type": "markdown",
      "metadata": {
        "id": "BEdutHDFEegO"
      },
      "source": [
        "### **3) Set Parameter**"
      ]
    },
    {
      "cell_type": "code",
      "execution_count": null,
      "metadata": {
        "id": "XCgQGXX3iNVB",
        "vscode": {
          "languageId": "python"
        }
      },
      "outputs": [],
      "source": [
        "# Parameters for learning skip-gram and cbow model\n",
        "num_features = 300 # Embedding Vector Size\n",
        "negative = 10 # words for negative sampling\n",
        "min_word_count = 10 # minimum words in one sentence\n",
        "window = 5 # context window size\n",
        "downsampling = 0.75 # Lower frequency for high-frequency words \n",
        "epoch = 5"
      ]
    },
    {
      "cell_type": "markdown",
      "metadata": {
        "id": "45Ljebr6EiaX"
      },
      "source": [
        "### **4) Prepare data & Use SentencePiece**"
      ]
    },
    {
      "cell_type": "code",
      "execution_count": null,
      "metadata": {
        "id": "2r2BvxdciWJ3",
        "vscode": {
          "languageId": "python"
        }
      },
      "outputs": [],
      "source": [
        "# preparing data\n",
        "sentences_for_SP = []\n",
        "sentences_naive = []\n",
        "pos_data = open(\"./pos_train.txt\").readlines()\n",
        "neg_data = open(\"./neg_train.txt\").readlines()\n",
        "data_ = pos_data + neg_data"
      ]
    },
    {
      "cell_type": "code",
      "execution_count": null,
      "metadata": {
        "id": "xGB73P1UJ6Uz",
        "vscode": {
          "languageId": "python"
        }
      },
      "outputs": [],
      "source": [
        "for line in data_:\n",
        "    sentences_naive.append(line.strip().split(' '))"
      ]
    },
    {
      "cell_type": "code",
      "execution_count": null,
      "metadata": {
        "id": "A-bJwzM1K2Gs",
        "vscode": {
          "languageId": "python"
        }
      },
      "outputs": [],
      "source": [
        "%%time\n",
        "\n",
        "spm.SentencePieceTrainer.train(input=\"./train.txt\", model_prefix='m', vocab_size=10000, user_defined_symbols=['[CLS]', '[SEP]'])\n",
        "sp = spm.SentencePieceProcessor(model_file='./m.model')\n",
        "\n",
        "for line in data_:\n",
        "  sentences_for_SP.append(sp.encode(line, out_type=str))"
      ]
    },
    {
      "cell_type": "markdown",
      "metadata": {
        "id": "eokZ-Rt3EqXq"
      },
      "source": [
        "### **5) Training**"
      ]
    },
    {
      "cell_type": "code",
      "execution_count": null,
      "metadata": {
        "id": "bqidhMsOiY5f",
        "vscode": {
          "languageId": "python"
        }
      },
      "outputs": [],
      "source": [
        "%%time\n",
        "\n",
        "# skip-gram model training with naive splitted data\n",
        "naive_model = word2vec.Word2Vec(sentences_naive,\n",
        "                                sg = 1, # CBOW = 0, skip-gram = 1\n",
        "                                negative=negative,\n",
        "                                vector_size=num_features,\n",
        "                                min_count=min_word_count,\n",
        "                                window=window,\n",
        "                                sample=downsampling,\n",
        "                                epochs=epoch)\n",
        "\n",
        "# skip-gram model training with sentencepiece data\n",
        "model_with_SP = word2vec.Word2Vec(sentences_for_SP,\n",
        "                                  sg = 1, # CBOW = 0, skip-gram = 1\n",
        "                                  negative=negative,\n",
        "                                  vector_size=num_features,\n",
        "                                  min_count=min_word_count,\n",
        "                                  window=window,\n",
        "                                  sample=downsampling,\n",
        "                                  epochs=epoch)"
      ]
    },
    {
      "cell_type": "markdown",
      "metadata": {
        "id": "Xue_IQctitM5"
      },
      "source": [
        "### **6) Training Result**"
      ]
    },
    {
      "cell_type": "code",
      "execution_count": null,
      "metadata": {
        "id": "EKeXK14Siyx7",
        "vscode": {
          "languageId": "python"
        }
      },
      "outputs": [],
      "source": [
        "naive_model.wv.most_similar(\"man\") # most similarity word with 'man' in naive skip-gram"
      ]
    },
    {
      "cell_type": "code",
      "execution_count": null,
      "metadata": {
        "id": "-15i2_xv2J0r",
        "vscode": {
          "languageId": "python"
        }
      },
      "outputs": [],
      "source": [
        "print(naive_model.wv.key_to_index)"
      ]
    },
    {
      "cell_type": "code",
      "execution_count": null,
      "metadata": {
        "id": "ug6f8XKEi0Io",
        "vscode": {
          "languageId": "python"
        }
      },
      "outputs": [],
      "source": [
        "vector = naive_model.wv[\"king\"] - naive_model.wv[\"man\"] + naive_model.wv[\"queen\"]\n",
        "\n",
        "print(naive_model.wv.similar_by_vector(vector, topn=10, restrict_vocab=None))"
      ]
    },
    {
      "cell_type": "markdown",
      "metadata": {
        "id": "kEcu8RQUH7pJ"
      },
      "source": [
        "![picture](https://drive.google.com/uc?id=1AF-ADZSgqG8NcsO8LgfmF9JXL6F_uQoP)"
      ]
    },
    {
      "cell_type": "code",
      "execution_count": null,
      "metadata": {
        "id": "xiBD5VtpH75t",
        "vscode": {
          "languageId": "python"
        }
      },
      "outputs": [],
      "source": [
        "print(naive_model.wv.similarity(w1 = 'man', w2 = 'woman'))\n",
        "print(naive_model.wv.similarity(w1 = 'uncle', w2 = 'aunt'))\n",
        "print(naive_model.wv.similarity(w1 = 'king', w2 = 'queen'))"
      ]
    },
    {
      "cell_type": "markdown",
      "metadata": {
        "id": "ZI2TP2OmMtyW"
      },
      "source": [
        "### **7) Visualization**"
      ]
    },
    {
      "cell_type": "code",
      "execution_count": null,
      "metadata": {
        "id": "rruQpY_Xlv5i",
        "vscode": {
          "languageId": "python"
        }
      },
      "outputs": [],
      "source": [
        "def render_TSNE(vocab, word_emb):\n",
        "    \"\"\"\n",
        "    args:\n",
        "        vocab    - vocab list\n",
        "        word_emb - word embeddings\n",
        "    \"\"\"\n",
        "    tsne = TSNE(perplexity=15, n_components=2, init='pca', n_iter=3500, random_state=32) # initialization\n",
        "    _tsne = tsne.fit_transform(word_emb) \n",
        "    x_coordinate = _tsne[:,0] # x \n",
        "    y_coordinate = _tsne[:,1] # y\n",
        "\n",
        "    # scatter plot initialization\n",
        "    fig, ax = plt.subplots()\n",
        "    fig.set_size_inches(40, 20)\n",
        "    ax.scatter(x_coordinate, y_coordinate)\n",
        "\n",
        "    for i, word in enumerate(random_vocab):\n",
        "        ax.annotate(word,(x_coordinate[i], y_coordinate[i]), fontsize=30) # word labeling for each scatters\n",
        "\n",
        "    plt.show()"
      ]
    },
    {
      "cell_type": "code",
      "execution_count": null,
      "metadata": {
        "id": "Ewq33LY0MuL5",
        "vscode": {
          "languageId": "python"
        }
      },
      "outputs": [],
      "source": [
        "vocab = list(naive_model.wv.index_to_key)  # Load vocab list\n",
        "random_vocab = random.sample(vocab, k=50)  # Random sampling of 50 words\n",
        "word_emb = np.array([naive_model.wv[word] for word in random_vocab])  # Convert the list of embeddings to a numpy array\n",
        "\n",
        "render_TSNE(random_vocab, word_emb)"
      ]
    },
    {
      "cell_type": "code",
      "execution_count": null,
      "metadata": {
        "id": "JUN-S6ydOS1_",
        "vscode": {
          "languageId": "python"
        }
      },
      "outputs": [],
      "source": [
        "vocab = list(model_with_SP.wv.index_to_key)  # Load vocab list\n",
        "random_vocab = random.sample(vocab, k=50)  # Random sampling of 50 words\n",
        "word_emb = np.array([model_with_SP.wv[word] for word in random_vocab])  # Convert the list of embeddings to a numpy array\n",
        "\n",
        "render_TSNE(random_vocab, word_emb)"
      ]
    }
  ],
  "metadata": {
    "accelerator": "GPU",
    "colab": {
      "collapsed_sections": [],
      "name": "AI504_Word2Vec.ipynb의 사본",
      "provenance": []
    },
    "kernelspec": {
      "display_name": "Python 3",
      "name": "python3"
    }
  },
  "nbformat": 4,
  "nbformat_minor": 0
}
