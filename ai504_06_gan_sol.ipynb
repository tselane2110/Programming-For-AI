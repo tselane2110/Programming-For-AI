{
 "cells": [
  {
   "cell_type": "markdown",
   "metadata": {
    "id": "Lf1wDSp10VC8"
   },
   "source": [
    "# Week 6: Generative adversarial network (GAN) "
   ]
  },
  {
   "cell_type": "markdown",
   "metadata": {
    "id": "IeX2sxyD0VC9"
   },
   "source": [
    "- We will cover basic concepts of GAN & implement vanilla GAN \\[[Goodfellow et al., NIPS 2014](https://papers.nips.cc/paper/5423-generative-adversarial-nets.pdf)\\]\n",
    "- We will give basic skeletone code which include (1) training structure (2) sample visualization (3) FID evaluation\n",
    "- You should implement (1) ***generator & discriminator architecture*** (2) ***noise sampling***  (3) ***GAN loss*** \n",
    "- Additionally, will give you [DCGAN](https://arxiv.org/abs/1511.06434) (basic GAN architecture) code that you can enjoy by your-self \n",
    "\n",
    "If you have any questions, feel free to ask"
   ]
  },
  {
   "cell_type": "markdown",
   "metadata": {
    "id": "GDpMzP6s0VC9"
   },
   "source": [
    "## 0. Preliminary"
   ]
  },
  {
   "cell_type": "markdown",
   "metadata": {
    "id": "yeGSWgoL0VC9"
   },
   "source": [
    "### 0.1. Prelim step 1: Load packages & GPU setup"
   ]
  },
  {
   "cell_type": "code",
   "execution_count": 1,
   "metadata": {
    "colab": {
     "base_uri": "https://localhost:8080/"
    },
    "id": "Pd_zIwr40VC-",
    "outputId": "f861f2d0-1e4f-43c2-8ddc-af0a354e2287"
   },
   "outputs": [
    {
     "name": "stdout",
     "output_type": "stream",
     "text": [
      "Wed Oct  4 21:42:33 2023       \n",
      "+-----------------------------------------------------------------------------+\n",
      "| NVIDIA-SMI 470.141.03   Driver Version: 470.141.03   CUDA Version: 11.4     |\n",
      "|-------------------------------+----------------------+----------------------+\n",
      "| GPU  Name        Persistence-M| Bus-Id        Disp.A | Volatile Uncorr. ECC |\n",
      "| Fan  Temp  Perf  Pwr:Usage/Cap|         Memory-Usage | GPU-Util  Compute M. |\n",
      "|                               |                      |               MIG M. |\n",
      "|===============================+======================+======================|\n",
      "|   0  NVIDIA GeForce ...  On   | 00000000:01:00.0 Off |                  N/A |\n",
      "| 30%   29C    P8    13W / 350W |   2012MiB / 24268MiB |      0%      Default |\n",
      "|                               |                      |                  N/A |\n",
      "+-------------------------------+----------------------+----------------------+\n",
      "|   1  NVIDIA GeForce ...  On   | 00000000:25:00.0 Off |                  N/A |\n",
      "| 30%   31C    P8    18W / 350W |      3MiB / 24268MiB |      0%      Default |\n",
      "|                               |                      |                  N/A |\n",
      "+-------------------------------+----------------------+----------------------+\n",
      "|   2  NVIDIA GeForce ...  On   | 00000000:41:00.0 Off |                  N/A |\n",
      "| 30%   29C    P8    22W / 350W |      3MiB / 24268MiB |      0%      Default |\n",
      "|                               |                      |                  N/A |\n",
      "+-------------------------------+----------------------+----------------------+\n",
      "|   3  NVIDIA GeForce ...  On   | 00000000:61:00.0 Off |                  N/A |\n",
      "| 30%   27C    P8    20W / 350W |      3MiB / 24268MiB |      0%      Default |\n",
      "|                               |                      |                  N/A |\n",
      "+-------------------------------+----------------------+----------------------+\n",
      "|   4  NVIDIA GeForce ...  On   | 00000000:81:00.0 Off |                  N/A |\n",
      "| 30%   28C    P8    26W / 350W |      3MiB / 24268MiB |      0%      Default |\n",
      "|                               |                      |                  N/A |\n",
      "+-------------------------------+----------------------+----------------------+\n",
      "|   5  NVIDIA GeForce ...  On   | 00000000:A1:00.0 Off |                  N/A |\n",
      "| 30%   29C    P8    19W / 350W |      3MiB / 24268MiB |      0%      Default |\n",
      "|                               |                      |                  N/A |\n",
      "+-------------------------------+----------------------+----------------------+\n",
      "|   6  NVIDIA GeForce ...  On   | 00000000:C1:00.0 Off |                  N/A |\n",
      "| 30%   28C    P8    15W / 350W |      3MiB / 24268MiB |      0%      Default |\n",
      "|                               |                      |                  N/A |\n",
      "+-------------------------------+----------------------+----------------------+\n",
      "|   7  NVIDIA GeForce ...  On   | 00000000:E1:00.0 Off |                  N/A |\n",
      "| 30%   26C    P8    19W / 350W |      3MiB / 24268MiB |      0%      Default |\n",
      "|                               |                      |                  N/A |\n",
      "+-------------------------------+----------------------+----------------------+\n",
      "                                                                               \n",
      "+-----------------------------------------------------------------------------+\n",
      "| Processes:                                                                  |\n",
      "|  GPU   GI   CI        PID   Type   Process name                  GPU Memory |\n",
      "|        ID   ID                                                   Usage      |\n",
      "|=============================================================================|\n",
      "|    0   N/A  N/A    122262      C   ...a3/envs/dialog/bin/python     2009MiB |\n",
      "+-----------------------------------------------------------------------------+\n"
     ]
    }
   ],
   "source": [
    "# visualize current GPU usages in your server\n",
    "!nvidia-smi "
   ]
  },
  {
   "cell_type": "code",
   "execution_count": 2,
   "metadata": {
    "id": "kQbHeIUn0VC_"
   },
   "outputs": [],
   "source": [
    "# set gpu by number \n",
    "import os\n",
    "import random\n",
    "os.environ['CUDA_VISIBLE_DEVICES'] = '0'  # setting gpu number"
   ]
  },
  {
   "cell_type": "code",
   "execution_count": 3,
   "metadata": {
    "id": "WD3OhGRX0VC_"
   },
   "outputs": [],
   "source": [
    "# load packages\n",
    "import numpy as np\n",
    "import matplotlib.pyplot as plt\n",
    "import matplotlib.animation as animation\n",
    "import imageio #### install with \"pip install imageio\"\n",
    "from IPython.display import HTML\n",
    "\n",
    "import torch\n",
    "import torch.nn as nn\n",
    "import torch.nn.parallel\n",
    "import torch.backends.cudnn as cudnn\n",
    "import torch.optim as optim\n",
    "import torch.utils.data\n",
    "import torchvision.datasets as dset\n",
    "import torchvision.transforms as transforms\n",
    "import torchvision.utils as vutils\n",
    "from torchvision.utils import make_grid"
   ]
  },
  {
   "cell_type": "code",
   "execution_count": 4,
   "metadata": {
    "id": "_LKooV2s0VDA"
   },
   "outputs": [],
   "source": [
    "# Create folders\n",
    "if not os.path.exists('./checkpoint'):\n",
    "    os.mkdir('./checkpoint')\n",
    "    \n",
    "if not os.path.exists('./dataset'):\n",
    "    os.mkdir('./dataset')\n",
    "    \n",
    "if not os.path.exists('./img'):\n",
    "    os.mkdir('./img')\n",
    "    \n",
    "if not os.path.exists('./img/real'):\n",
    "    os.mkdir('./img/real')\n",
    "\n",
    "if not os.path.exists('./img/fake'):\n",
    "    os.mkdir('./img/fake')"
   ]
  },
  {
   "cell_type": "markdown",
   "metadata": {
    "id": "D_KmS2wL0VDA"
   },
   "source": [
    "### 0.2. Prelim step 2: Define visualization & image saving code"
   ]
  },
  {
   "cell_type": "code",
   "execution_count": 5,
   "metadata": {
    "id": "oIs_yyhI0VDB"
   },
   "outputs": [],
   "source": [
    "# visualize the first image from the torch tensor\n",
    "def vis_image(image):\n",
    "    plt.imshow(image[0].detach().cpu().numpy(),cmap='gray')\n",
    "    plt.show()"
   ]
  },
  {
   "cell_type": "code",
   "execution_count": 6,
   "metadata": {
    "id": "0ghBUM2D0VDB"
   },
   "outputs": [],
   "source": [
    "def save_gif(training_progress_images, images):\n",
    "    '''\n",
    "        training_progress_images: list of training images generated each iteration\n",
    "        images: image that is generated in this iteration\n",
    "    '''\n",
    "    img_grid = make_grid(images.data)\n",
    "    img_grid = np.transpose(img_grid.detach().cpu().numpy(), (1, 2, 0))\n",
    "    img_grid = 255. * img_grid \n",
    "    img_grid = img_grid.astype(np.uint8)\n",
    "    training_progress_images.append(img_grid)\n",
    "    imageio.mimsave('./img/training_progress.gif', training_progress_images)\n",
    "    return training_progress_images"
   ]
  },
  {
   "cell_type": "code",
   "execution_count": 7,
   "metadata": {
    "id": "9bJZfj1g0VDB"
   },
   "outputs": [],
   "source": [
    "# visualize gif file\n",
    "def vis_gif(training_progress_images):\n",
    "    fig = plt.figure()\n",
    "    \n",
    "    ims = []\n",
    "    for i in range(len(training_progress_images)):\n",
    "        im = plt.imshow(training_progress_images[i], animated=True)\n",
    "        ims.append([im])\n",
    "\n",
    "    ani = animation.ArtistAnimation(fig, ims, interval=50, blit=True, repeat_delay=1000)\n",
    "    \n",
    "    html = ani.to_html5_video()\n",
    "    HTML(html)"
   ]
  },
  {
   "cell_type": "code",
   "execution_count": 8,
   "metadata": {
    "id": "SgIFVWhS0VDC"
   },
   "outputs": [],
   "source": [
    "# visualize gif file\n",
    "def plot_gif(training_progress_images, plot_length=10):\n",
    "    plt.close()\n",
    "    fig = plt.figure()\n",
    "    \n",
    "    total_len = len(training_progress_images)\n",
    "    for i in range(plot_length):\n",
    "        im = plt.imshow(training_progress_images[int(total_len/plot_length)*i])\n",
    "        plt.show()"
   ]
  },
  {
   "cell_type": "code",
   "execution_count": 9,
   "metadata": {
    "id": "xFk-3KTU0VDC"
   },
   "outputs": [],
   "source": [
    "def save_image_list(dataset, real):\n",
    "    if real:\n",
    "        base_path = './img/real'\n",
    "    else:\n",
    "        base_path = './img/fake'\n",
    "    \n",
    "    dataset_path = []\n",
    "    \n",
    "    for i in range(len(dataset)):\n",
    "        save_path =  f'{base_path}/image_{i}.png'\n",
    "        dataset_path.append(save_path)\n",
    "        vutils.save_image(dataset[i], save_path)\n",
    "    \n",
    "    return base_path"
   ]
  },
  {
   "cell_type": "markdown",
   "metadata": {
    "id": "YUHchXYf0VDC"
   },
   "source": [
    "### 0.3. Prelim step 3: Load dataset, define dataloader"
   ]
  },
  {
   "cell_type": "markdown",
   "metadata": {
    "id": "jgQi4Ox70VDC"
   },
   "source": [
    "<img src=\"https://drive.google.com/uc?id=1AlT2XoubKWg5yVW3QhSyVGaRd9EI3dYa\" width=\"640\" height=\"640\">"
   ]
  },
  {
   "cell_type": "markdown",
   "metadata": {
    "id": "QDk61H3L0VDC"
   },
   "source": [
    "\n",
    "In this class we will use **MNIST** (or you can use **Fashion-MNIST**) due to the time constraint :( \\\n",
    "You can practice with CIFAR-10 by your-self since dataset is already implemented inside PyTorch!\n",
    "- Simply use `dataset=dset.CIFAR10(.)` function in PyTorch.\n",
    "- If you are using CIFAR dataset, please note that the resolution is different to MNIST and should change model input dimension."
   ]
  },
  {
   "cell_type": "code",
   "execution_count": 10,
   "metadata": {
    "colab": {
     "base_uri": "https://localhost:8080/",
     "height": 489,
     "referenced_widgets": [
      "1d48546f6e694b55800c40dcbdc4f647",
      "0ee2af672e774b55968ca7ba89f67277",
      "acd63eb3c8e34683b8fbc7c5c82511fe",
      "6710264c47854815b7e0279e73f12182",
      "bcbf18269fb24dd99e52852538004013",
      "5cecc6c1b2ad4d50ac2f4b176988ab68",
      "df50d13094324e0f908b2a419f8f1950",
      "68b47f16ae064fc5993e7f26e63bd2c6",
      "d220fa568d324c519316c1a71ce3f332",
      "46f16e3e4aa9413fbcebd1b0fbd45921",
      "ebe51c95b80047a2890f371bd6fc3607",
      "cf909c2f22c74ab79d9f0748fad92cc8",
      "7bd1a1344e104f86ac290281fa986d6a",
      "5e7f37a5ac3f49e4959d799c26ce095e",
      "9219d49b9b5a4913986de9b8d14919b6",
      "63251ee0e57a4b58a7b3b8cdb6aa45da",
      "a15c278bb24d4655880f7706f60a5fc9",
      "1d74fd1dcbc54e67b64a4916097405ef",
      "c6aa92525157470da43a2eb9be825f97",
      "80fc0e1b30ad486787526717ef3e161a",
      "37613a06528047ef9d06d9faaad6369b",
      "ae01aed865f44779a8f36c0fa4f03b62",
      "33212016b5944c8fba51c77e785fa749",
      "d35b0962865e443299fc682119a01e4e",
      "9f72a3cf22e0498ab91b67589efa9ff8",
      "184a9aab8b4b49ab9020d787d02e9ed4",
      "fde7be78c8cb4047806ad6ec6c331510",
      "35a831a27cb94988bd031b1d050bedf0",
      "45997127df2b4a1eaddd086a2895df3f",
      "782c7c3163ef450cad7e5bd5ea410ec3",
      "9bd8e73468874dbc9a6733f7d9d2a06e",
      "9670ad0b299f442dae4b9ae7c1f49b20",
      "b257747bb3804356b59b5be37b17920f",
      "f2ccfcbaafcc4e8a815b13f058ae184a",
      "b4942a342c234f53839c17614418c2da",
      "5c08f2f456334674999a0946469a44e1",
      "c582151ba06e40a69a54780f0223a82d",
      "67dba3ce5583496da846416cf1c95882",
      "d61086efe4cd41d2a509fca4345ac669",
      "4df66c97e86d4ea5b87395f885457a65",
      "407ed7389f93415ab37b2dc51e498fa3",
      "26d626d7a54b49889db4f2d86ff61d44",
      "dacab51e49444fb69e489582ee673f95",
      "fb3d926652a94728a52e0294c1f8f3a9"
     ]
    },
    "id": "nkJiP4Jm0VDC",
    "outputId": "ebdbe208-3e04-4314-d27f-78020f7e4171"
   },
   "outputs": [
    {
     "name": "stdout",
     "output_type": "stream",
     "text": [
      "Downloading http://yann.lecun.com/exdb/mnist/train-images-idx3-ubyte.gz\n",
      "Downloading http://yann.lecun.com/exdb/mnist/train-images-idx3-ubyte.gz to ./dataset/MNIST/raw/train-images-idx3-ubyte.gz\n"
     ]
    },
    {
     "data": {
      "application/vnd.jupyter.widget-view+json": {
       "model_id": "9e90af6f6d0245b08b97a65335fb29c9",
       "version_major": 2,
       "version_minor": 0
      },
      "text/plain": [
       "  0%|          | 0/9912422 [00:00<?, ?it/s]"
      ]
     },
     "metadata": {},
     "output_type": "display_data"
    },
    {
     "name": "stdout",
     "output_type": "stream",
     "text": [
      "Extracting ./dataset/MNIST/raw/train-images-idx3-ubyte.gz to ./dataset/MNIST/raw\n",
      "\n",
      "Downloading http://yann.lecun.com/exdb/mnist/train-labels-idx1-ubyte.gz\n",
      "Downloading http://yann.lecun.com/exdb/mnist/train-labels-idx1-ubyte.gz to ./dataset/MNIST/raw/train-labels-idx1-ubyte.gz\n"
     ]
    },
    {
     "data": {
      "application/vnd.jupyter.widget-view+json": {
       "model_id": "4609755370574f208b25a20794eb6bc5",
       "version_major": 2,
       "version_minor": 0
      },
      "text/plain": [
       "  0%|          | 0/28881 [00:00<?, ?it/s]"
      ]
     },
     "metadata": {},
     "output_type": "display_data"
    },
    {
     "name": "stdout",
     "output_type": "stream",
     "text": [
      "Extracting ./dataset/MNIST/raw/train-labels-idx1-ubyte.gz to ./dataset/MNIST/raw\n",
      "\n",
      "Downloading http://yann.lecun.com/exdb/mnist/t10k-images-idx3-ubyte.gz\n",
      "Downloading http://yann.lecun.com/exdb/mnist/t10k-images-idx3-ubyte.gz to ./dataset/MNIST/raw/t10k-images-idx3-ubyte.gz\n"
     ]
    },
    {
     "data": {
      "application/vnd.jupyter.widget-view+json": {
       "model_id": "71b24580cbb9433098e81a02610f2c23",
       "version_major": 2,
       "version_minor": 0
      },
      "text/plain": [
       "  0%|          | 0/1648877 [00:00<?, ?it/s]"
      ]
     },
     "metadata": {},
     "output_type": "display_data"
    },
    {
     "name": "stdout",
     "output_type": "stream",
     "text": [
      "Extracting ./dataset/MNIST/raw/t10k-images-idx3-ubyte.gz to ./dataset/MNIST/raw\n",
      "\n",
      "Downloading http://yann.lecun.com/exdb/mnist/t10k-labels-idx1-ubyte.gz\n",
      "Downloading http://yann.lecun.com/exdb/mnist/t10k-labels-idx1-ubyte.gz to ./dataset/MNIST/raw/t10k-labels-idx1-ubyte.gz\n"
     ]
    },
    {
     "data": {
      "application/vnd.jupyter.widget-view+json": {
       "model_id": "7d487bd3f8d046bcb3a40b39ee689d52",
       "version_major": 2,
       "version_minor": 0
      },
      "text/plain": [
       "  0%|          | 0/4542 [00:00<?, ?it/s]"
      ]
     },
     "metadata": {},
     "output_type": "display_data"
    },
    {
     "name": "stdout",
     "output_type": "stream",
     "text": [
      "Extracting ./dataset/MNIST/raw/t10k-labels-idx1-ubyte.gz to ./dataset/MNIST/raw\n",
      "\n"
     ]
    }
   ],
   "source": [
    "dataset = dset.MNIST(root=\"./dataset\", download=True,\n",
    "                                   transform=transforms.Compose([\n",
    "                                   transforms.ToTensor(),\n",
    "                ]))\n",
    "# If you want to download FMNIST use dset.FashionMNIST\n",
    "# dataset = dset.FashionMNIST(.)\n",
    "\n",
    "dataloader = torch.utils.data.DataLoader(dataset, batch_size=128, shuffle=True, num_workers=2)"
   ]
  },
  {
   "cell_type": "markdown",
   "metadata": {
    "id": "Yk-wVR8u0VDD"
   },
   "source": [
    "## 1. Define your generator & discriminator"
   ]
  },
  {
   "cell_type": "markdown",
   "metadata": {},
   "source": [
    "<img src=\"https://drive.google.com/uc?id=14LaqEwPamsXYUpzaYyyf_iTaTlPNZH3b\" width=\"640\" height=\"245\">"
   ]
  },
  {
   "cell_type": "markdown",
   "metadata": {
    "id": "QaFklS6z0VDD"
   },
   "source": [
    "### 1.1. Define generator module"
   ]
  },
  {
   "cell_type": "code",
   "execution_count": 11,
   "metadata": {
    "id": "nIuwOuwC0VDD"
   },
   "outputs": [],
   "source": [
    "class Generator(nn.Module):\n",
    "    def __init__(self):\n",
    "        super(Generator, self).__init__()\n",
    "        self.main = nn.Sequential(\n",
    "            #########################\n",
    "            # Define your own generator #\n",
    "            #########################\n",
    "            \n",
    "            nn.Linear(100, 256),\n",
    "            nn.ReLU(),\n",
    "            nn.Linear(256, 256),\n",
    "            nn.ReLU(),\n",
    "            nn.Linear(256, 784),\n",
    "            nn.Sigmoid(), # 0 - 1\n",
    "            \n",
    "            #########################\n",
    "        )\n",
    "\n",
    "    def forward(self, input):\n",
    "        #####################################\n",
    "        # Change the shape of output if necessary #\n",
    "        \n",
    "        # input shape = batch_size, 100\n",
    "        #####################################\n",
    "        \n",
    "        output = self.main(input)\n",
    "        \n",
    "        #####################################\n",
    "        # Change the shape of output if necessary #\n",
    "        \n",
    "        # output shape = batch_size, 1, 28, 28\n",
    "        output = output.view(-1, 1, 28, 28)\n",
    "        \n",
    "        #####################################\n",
    "        return output"
   ]
  },
  {
   "cell_type": "markdown",
   "metadata": {
    "id": "N5gzqmu20VDD"
   },
   "source": [
    "### 1.2. Define discriminator module"
   ]
  },
  {
   "cell_type": "code",
   "execution_count": 12,
   "metadata": {
    "id": "c043JJ3Z0VDD"
   },
   "outputs": [],
   "source": [
    "class Discriminator(nn.Module):\n",
    "    def __init__(self):\n",
    "        super(Discriminator, self).__init__()\n",
    "        self.main = nn.Sequential(\n",
    "            ############################\n",
    "            # Define your own discriminator #\n",
    "            ############################\n",
    "            \n",
    "            nn.Linear(28*28, 256),\n",
    "            nn.LeakyReLU(0.2),\n",
    "            nn.Linear(256, 256),\n",
    "            nn.LeakyReLU(0.2),\n",
    "            nn.Linear(256, 1),\n",
    "            nn.Sigmoid(),\n",
    "            \n",
    "            ############################\n",
    "        )\n",
    "\n",
    "    def forward(self, input):\n",
    "        #####################################\n",
    "        # Change the shape of output if necessary #\n",
    "        input = input.view(-1, 28*28)\n",
    "        #####################################\n",
    "        \n",
    "        output = self.main(input)\n",
    "        \n",
    "        #####################################\n",
    "        # Change the shape of output if necessary # (batch_size, 1) -> (batch_size, )\n",
    "        output = output.squeeze(dim=1)\n",
    "        #####################################\n",
    "        \n",
    "        return output"
   ]
  },
  {
   "cell_type": "code",
   "execution_count": 13,
   "metadata": {
    "colab": {
     "base_uri": "https://localhost:8080/"
    },
    "id": "GzJrnoqtF_sv",
    "outputId": "bc9029ee-0e19-49fe-a549-5781e5aae2b7"
   },
   "outputs": [
    {
     "data": {
      "text/plain": [
       "torch.Size([60000, 28, 28])"
      ]
     },
     "execution_count": 13,
     "metadata": {},
     "output_type": "execute_result"
    }
   ],
   "source": [
    "dataset.data.shape  # B, W, H"
   ]
  },
  {
   "cell_type": "markdown",
   "metadata": {
    "id": "aTa7qm9J0VDD"
   },
   "source": [
    "### 1.3. Upload on GPU, define optimizer"
   ]
  },
  {
   "cell_type": "code",
   "execution_count": 14,
   "metadata": {
    "id": "wJBarRnc0VDD"
   },
   "outputs": [],
   "source": [
    "netG = Generator().cuda()\n",
    "netD = Discriminator().cuda()\n",
    "\n",
    "optimizerD = optim.Adam(netD.parameters(), lr=0.0002)\n",
    "optimizerG = optim.Adam(netG.parameters(), lr=0.0002)"
   ]
  },
  {
   "cell_type": "markdown",
   "metadata": {
    "id": "YmYk_DpA0VDE"
   },
   "source": [
    "## 2. Noise sampling"
   ]
  },
  {
   "cell_type": "code",
   "execution_count": 15,
   "metadata": {
    "id": "ZI5TYfCv0VDE"
   },
   "outputs": [],
   "source": [
    "#### Implement here ####\n",
    "noise = torch.randn(128, 100).cuda()"
   ]
  },
  {
   "cell_type": "markdown",
   "metadata": {
    "id": "L-sNstd20VDE"
   },
   "source": [
    "## 3. Train GAN\n",
    "### Objective\n",
    "<img src=\"https://drive.google.com/uc?id=1IK3Ue30Q0t1Wy1G17wtU_LECd2e-0BZx\" width=\"640\" height=\"328\">\n",
    "\n",
    "### Pseudo-code\n",
    "<img src=\"https://drive.google.com/uc?id=1hXMydkYE1vuLVVF7Hm8YlEzMysrYczg4\" width=\"640\" height=\"418\">"
   ]
  },
  {
   "cell_type": "markdown",
   "metadata": {
    "id": "Z0E58Z-T0VDE"
   },
   "source": [
    "Implement GAN by filling out the following blankes!"
   ]
  },
  {
   "cell_type": "code",
   "execution_count": 16,
   "metadata": {
    "colab": {
     "base_uri": "https://localhost:8080/"
    },
    "id": "S2CNajv30VDE",
    "outputId": "716f5c9f-650a-48f0-96c5-d359a25da20e"
   },
   "outputs": [
    {
     "name": "stdout",
     "output_type": "stream",
     "text": [
      "[0/200] Loss_D: 0.0160 Loss_G: 5.5904 D(x): 0.9898 D(G(z)): 0.0052 / 0.0038\n",
      "[1/200] Loss_D: 0.0026 Loss_G: 7.1990 D(x): 0.9984 D(G(z)): 0.0010 / 0.0008\n",
      "[2/200] Loss_D: 0.0031 Loss_G: 7.1020 D(x): 0.9992 D(G(z)): 0.0023 / 0.0008\n",
      "[3/200] Loss_D: 0.0064 Loss_G: 7.3076 D(x): 0.9961 D(G(z)): 0.0020 / 0.0007\n",
      "[4/200] Loss_D: 0.0013 Loss_G: 7.8091 D(x): 0.9996 D(G(z)): 0.0008 / 0.0007\n",
      "[5/200] Loss_D: 0.0260 Loss_G: 8.4332 D(x): 0.9905 D(G(z)): 0.0065 / 0.0008\n",
      "[6/200] Loss_D: 0.0170 Loss_G: 6.3332 D(x): 0.9927 D(G(z)): 0.0047 / 0.0029\n",
      "[7/200] Loss_D: 0.0058 Loss_G: 7.4113 D(x): 0.9989 D(G(z)): 0.0046 / 0.0015\n",
      "[8/200] Loss_D: 0.0058 Loss_G: 7.5498 D(x): 0.9962 D(G(z)): 0.0015 / 0.0011\n",
      "[9/200] Loss_D: 0.0067 Loss_G: 7.4819 D(x): 0.9988 D(G(z)): 0.0054 / 0.0016\n",
      "[10/200] Loss_D: 0.0108 Loss_G: 8.2893 D(x): 0.9952 D(G(z)): 0.0053 / 0.0009\n",
      "[11/200] Loss_D: 0.0406 Loss_G: 8.3461 D(x): 0.9825 D(G(z)): 0.0032 / 0.0014\n",
      "[12/200] Loss_D: 0.0140 Loss_G: 8.0275 D(x): 0.9998 D(G(z)): 0.0130 / 0.0031\n",
      "[13/200] Loss_D: 0.0107 Loss_G: 9.8149 D(x): 0.9939 D(G(z)): 0.0017 / 0.0017\n",
      "[14/200] Loss_D: 0.0107 Loss_G: 7.6050 D(x): 0.9959 D(G(z)): 0.0056 / 0.0027\n",
      "[15/200] Loss_D: 0.0052 Loss_G: 7.3348 D(x): 0.9975 D(G(z)): 0.0026 / 0.0020\n",
      "[16/200] Loss_D: 0.0055 Loss_G: 9.8264 D(x): 0.9999 D(G(z)): 0.0046 / 0.0018\n",
      "[17/200] Loss_D: 0.0106 Loss_G: 10.7975 D(x): 0.9944 D(G(z)): 0.0028 / 0.0005\n",
      "[18/200] Loss_D: 0.0096 Loss_G: 9.5556 D(x): 0.9946 D(G(z)): 0.0034 / 0.0007\n",
      "[19/200] Loss_D: 0.0033 Loss_G: 10.4200 D(x): 0.9974 D(G(z)): 0.0005 / 0.0002\n",
      "[20/200] Loss_D: 0.1537 Loss_G: 9.2395 D(x): 0.9666 D(G(z)): 0.0097 / 0.0070\n",
      "[21/200] Loss_D: 0.0146 Loss_G: 9.9545 D(x): 0.9954 D(G(z)): 0.0082 / 0.0032\n",
      "[22/200] Loss_D: 0.0565 Loss_G: 9.2099 D(x): 0.9692 D(G(z)): 0.0011 / 0.0009\n",
      "[23/200] Loss_D: 0.0090 Loss_G: 7.8924 D(x): 0.9994 D(G(z)): 0.0082 / 0.0024\n",
      "[24/200] Loss_D: 0.0314 Loss_G: 9.1931 D(x): 0.9945 D(G(z)): 0.0171 / 0.0032\n",
      "[25/200] Loss_D: 0.0246 Loss_G: 6.9202 D(x): 0.9953 D(G(z)): 0.0162 / 0.0092\n",
      "[26/200] Loss_D: 0.0620 Loss_G: 6.6759 D(x): 0.9641 D(G(z)): 0.0085 / 0.0147\n",
      "[27/200] Loss_D: 0.0404 Loss_G: 7.4467 D(x): 0.9925 D(G(z)): 0.0254 / 0.0111\n",
      "[28/200] Loss_D: 0.0795 Loss_G: 6.3969 D(x): 0.9791 D(G(z)): 0.0257 / 0.0195\n",
      "[29/200] Loss_D: 0.0560 Loss_G: 8.7449 D(x): 0.9858 D(G(z)): 0.0127 / 0.0024\n",
      "[30/200] Loss_D: 0.1119 Loss_G: 6.4638 D(x): 0.9668 D(G(z)): 0.0330 / 0.0168\n",
      "[31/200] Loss_D: 0.1013 Loss_G: 5.7504 D(x): 0.9941 D(G(z)): 0.0691 / 0.0231\n",
      "[32/200] Loss_D: 0.0365 Loss_G: 5.7316 D(x): 0.9981 D(G(z)): 0.0308 / 0.0216\n",
      "[33/200] Loss_D: 0.0536 Loss_G: 7.8786 D(x): 0.9722 D(G(z)): 0.0085 / 0.0074\n",
      "[34/200] Loss_D: 0.0606 Loss_G: 6.8075 D(x): 0.9862 D(G(z)): 0.0277 / 0.0199\n",
      "[35/200] Loss_D: 0.1736 Loss_G: 5.5675 D(x): 0.9323 D(G(z)): 0.0335 / 0.0349\n",
      "[36/200] Loss_D: 0.2882 Loss_G: 4.7806 D(x): 0.9678 D(G(z)): 0.0822 / 0.0642\n",
      "[37/200] Loss_D: 0.0921 Loss_G: 6.1326 D(x): 0.9640 D(G(z)): 0.0274 / 0.0200\n",
      "[38/200] Loss_D: 0.1144 Loss_G: 6.1025 D(x): 0.9647 D(G(z)): 0.0283 / 0.0164\n",
      "[39/200] Loss_D: 0.1994 Loss_G: 4.8362 D(x): 0.9545 D(G(z)): 0.0712 / 0.0514\n",
      "[40/200] Loss_D: 0.1547 Loss_G: 5.2689 D(x): 0.9624 D(G(z)): 0.0391 / 0.0341\n",
      "[41/200] Loss_D: 0.1407 Loss_G: 4.2104 D(x): 0.9668 D(G(z)): 0.0550 / 0.0378\n",
      "[42/200] Loss_D: 0.4104 Loss_G: 3.7893 D(x): 0.8975 D(G(z)): 0.1201 / 0.0945\n",
      "[43/200] Loss_D: 0.2186 Loss_G: 3.6519 D(x): 0.9373 D(G(z)): 0.0742 / 0.0633\n",
      "[44/200] Loss_D: 0.1745 Loss_G: 4.0666 D(x): 0.9503 D(G(z)): 0.0743 / 0.0621\n",
      "[45/200] Loss_D: 0.3256 Loss_G: 3.7112 D(x): 0.8799 D(G(z)): 0.0911 / 0.0751\n",
      "[46/200] Loss_D: 0.3217 Loss_G: 3.1256 D(x): 0.9386 D(G(z)): 0.1648 / 0.1085\n",
      "[47/200] Loss_D: 0.3003 Loss_G: 3.4144 D(x): 0.9233 D(G(z)): 0.1272 / 0.0970\n",
      "[48/200] Loss_D: 0.4452 Loss_G: 3.2616 D(x): 0.8807 D(G(z)): 0.1144 / 0.0885\n",
      "[49/200] Loss_D: 0.5387 Loss_G: 2.8799 D(x): 0.8280 D(G(z)): 0.1103 / 0.1261\n",
      "[50/200] Loss_D: 0.3953 Loss_G: 2.8851 D(x): 0.8670 D(G(z)): 0.1209 / 0.1157\n",
      "[51/200] Loss_D: 0.4742 Loss_G: 3.0545 D(x): 0.8720 D(G(z)): 0.1251 / 0.1054\n",
      "[52/200] Loss_D: 0.3632 Loss_G: 2.9982 D(x): 0.8788 D(G(z)): 0.0998 / 0.1015\n",
      "[53/200] Loss_D: 0.4953 Loss_G: 3.0531 D(x): 0.8415 D(G(z)): 0.1132 / 0.0863\n",
      "[54/200] Loss_D: 0.4952 Loss_G: 2.7569 D(x): 0.8298 D(G(z)): 0.1100 / 0.1053\n",
      "[55/200] Loss_D: 0.4170 Loss_G: 2.6398 D(x): 0.8912 D(G(z)): 0.1578 / 0.1160\n",
      "[56/200] Loss_D: 0.6232 Loss_G: 2.2848 D(x): 0.8126 D(G(z)): 0.1798 / 0.1642\n",
      "[57/200] Loss_D: 0.4438 Loss_G: 2.6620 D(x): 0.8514 D(G(z)): 0.1314 / 0.1077\n",
      "[58/200] Loss_D: 0.3654 Loss_G: 2.7718 D(x): 0.8938 D(G(z)): 0.1331 / 0.1080\n",
      "[59/200] Loss_D: 0.3763 Loss_G: 2.8569 D(x): 0.8708 D(G(z)): 0.1203 / 0.1046\n",
      "[60/200] Loss_D: 0.4992 Loss_G: 2.4162 D(x): 0.8370 D(G(z)): 0.1596 / 0.1568\n",
      "[61/200] Loss_D: 0.3861 Loss_G: 2.6723 D(x): 0.8438 D(G(z)): 0.1177 / 0.1048\n",
      "[62/200] Loss_D: 0.5532 Loss_G: 2.5963 D(x): 0.8831 D(G(z)): 0.2001 / 0.1435\n",
      "[63/200] Loss_D: 0.5334 Loss_G: 2.2742 D(x): 0.8098 D(G(z)): 0.1439 / 0.1461\n",
      "[64/200] Loss_D: 0.5891 Loss_G: 2.3462 D(x): 0.8421 D(G(z)): 0.1973 / 0.1516\n",
      "[65/200] Loss_D: 0.4731 Loss_G: 2.6054 D(x): 0.8475 D(G(z)): 0.1472 / 0.1170\n",
      "[66/200] Loss_D: 0.4534 Loss_G: 2.2302 D(x): 0.8866 D(G(z)): 0.2074 / 0.1702\n",
      "[67/200] Loss_D: 0.5708 Loss_G: 2.5549 D(x): 0.8204 D(G(z)): 0.1496 / 0.1402\n",
      "[68/200] Loss_D: 0.5522 Loss_G: 2.2401 D(x): 0.8470 D(G(z)): 0.2070 / 0.1681\n",
      "[69/200] Loss_D: 0.5448 Loss_G: 2.6218 D(x): 0.8131 D(G(z)): 0.1450 / 0.1331\n",
      "[70/200] Loss_D: 0.6284 Loss_G: 2.1190 D(x): 0.7654 D(G(z)): 0.1753 / 0.1760\n",
      "[71/200] Loss_D: 0.5545 Loss_G: 2.2034 D(x): 0.8268 D(G(z)): 0.1589 / 0.1643\n",
      "[72/200] Loss_D: 0.5443 Loss_G: 1.9648 D(x): 0.8369 D(G(z)): 0.1888 / 0.1842\n",
      "[73/200] Loss_D: 0.5275 Loss_G: 2.3172 D(x): 0.8273 D(G(z)): 0.1505 / 0.1503\n",
      "[74/200] Loss_D: 0.5565 Loss_G: 2.1885 D(x): 0.8390 D(G(z)): 0.2074 / 0.1751\n",
      "[75/200] Loss_D: 0.4611 Loss_G: 2.2542 D(x): 0.8682 D(G(z)): 0.1685 / 0.1576\n",
      "[76/200] Loss_D: 0.5639 Loss_G: 2.2630 D(x): 0.8242 D(G(z)): 0.1836 / 0.1540\n",
      "[77/200] Loss_D: 0.5956 Loss_G: 2.0666 D(x): 0.8041 D(G(z)): 0.1689 / 0.1826\n",
      "[78/200] Loss_D: 0.6930 Loss_G: 2.2913 D(x): 0.7935 D(G(z)): 0.1957 / 0.1668\n",
      "[79/200] Loss_D: 0.6693 Loss_G: 1.9012 D(x): 0.8627 D(G(z)): 0.2714 / 0.2236\n",
      "[80/200] Loss_D: 0.5201 Loss_G: 2.3506 D(x): 0.8454 D(G(z)): 0.1936 / 0.1456\n",
      "[81/200] Loss_D: 0.6437 Loss_G: 2.2857 D(x): 0.8279 D(G(z)): 0.2060 / 0.1723\n",
      "[82/200] Loss_D: 0.6402 Loss_G: 2.0853 D(x): 0.7899 D(G(z)): 0.1817 / 0.1800\n",
      "[83/200] Loss_D: 0.5317 Loss_G: 2.4353 D(x): 0.8405 D(G(z)): 0.1759 / 0.1287\n",
      "[84/200] Loss_D: 0.5657 Loss_G: 2.0897 D(x): 0.8374 D(G(z)): 0.2131 / 0.1793\n",
      "[85/200] Loss_D: 0.5148 Loss_G: 1.9255 D(x): 0.8594 D(G(z)): 0.2057 / 0.1835\n",
      "[86/200] Loss_D: 0.6058 Loss_G: 1.9111 D(x): 0.8351 D(G(z)): 0.2273 / 0.2121\n",
      "[87/200] Loss_D: 0.7712 Loss_G: 1.6373 D(x): 0.7961 D(G(z)): 0.2688 / 0.2696\n",
      "[88/200] Loss_D: 0.6112 Loss_G: 1.9351 D(x): 0.7655 D(G(z)): 0.1671 / 0.1974\n",
      "[89/200] Loss_D: 0.5194 Loss_G: 2.4937 D(x): 0.8201 D(G(z)): 0.1529 / 0.1346\n",
      "[90/200] Loss_D: 0.5334 Loss_G: 2.2280 D(x): 0.8293 D(G(z)): 0.1856 / 0.1554\n",
      "[91/200] Loss_D: 0.7517 Loss_G: 2.1976 D(x): 0.7244 D(G(z)): 0.1580 / 0.1591\n",
      "[92/200] Loss_D: 0.5891 Loss_G: 2.0936 D(x): 0.8770 D(G(z)): 0.2399 / 0.1945\n",
      "[93/200] Loss_D: 0.4741 Loss_G: 2.4018 D(x): 0.8155 D(G(z)): 0.1416 / 0.1249\n",
      "[94/200] Loss_D: 0.7127 Loss_G: 2.0005 D(x): 0.8136 D(G(z)): 0.2303 / 0.1968\n",
      "[95/200] Loss_D: 0.8381 Loss_G: 2.1224 D(x): 0.7270 D(G(z)): 0.1798 / 0.1735\n",
      "[96/200] Loss_D: 0.6719 Loss_G: 2.1328 D(x): 0.7466 D(G(z)): 0.1789 / 0.1750\n",
      "[97/200] Loss_D: 0.8477 Loss_G: 2.3835 D(x): 0.7033 D(G(z)): 0.1894 / 0.1447\n",
      "[98/200] Loss_D: 0.6670 Loss_G: 2.4004 D(x): 0.7380 D(G(z)): 0.1469 / 0.1257\n",
      "[99/200] Loss_D: 0.5741 Loss_G: 2.1871 D(x): 0.8001 D(G(z)): 0.1735 / 0.1595\n",
      "[100/200] Loss_D: 0.6860 Loss_G: 2.3496 D(x): 0.7700 D(G(z)): 0.2026 / 0.1617\n",
      "[101/200] Loss_D: 0.6712 Loss_G: 2.0875 D(x): 0.7986 D(G(z)): 0.2230 / 0.1754\n",
      "[102/200] Loss_D: 0.5267 Loss_G: 2.0294 D(x): 0.8398 D(G(z)): 0.1851 / 0.1718\n",
      "[103/200] Loss_D: 0.6403 Loss_G: 1.9075 D(x): 0.7970 D(G(z)): 0.1999 / 0.2054\n",
      "[104/200] Loss_D: 0.7031 Loss_G: 1.6190 D(x): 0.8147 D(G(z)): 0.2786 / 0.2702\n",
      "[105/200] Loss_D: 0.6749 Loss_G: 1.9492 D(x): 0.7630 D(G(z)): 0.1876 / 0.1914\n",
      "[106/200] Loss_D: 0.6703 Loss_G: 2.0377 D(x): 0.7783 D(G(z)): 0.2085 / 0.1867\n"
     ]
    },
    {
     "name": "stdout",
     "output_type": "stream",
     "text": [
      "[107/200] Loss_D: 0.6586 Loss_G: 1.8472 D(x): 0.7638 D(G(z)): 0.2017 / 0.2169\n",
      "[108/200] Loss_D: 0.6660 Loss_G: 2.0386 D(x): 0.7945 D(G(z)): 0.2148 / 0.1977\n",
      "[109/200] Loss_D: 0.5817 Loss_G: 1.8794 D(x): 0.8316 D(G(z)): 0.2121 / 0.2123\n",
      "[110/200] Loss_D: 0.6165 Loss_G: 1.9723 D(x): 0.8343 D(G(z)): 0.2096 / 0.2040\n",
      "[111/200] Loss_D: 0.6471 Loss_G: 2.0492 D(x): 0.7950 D(G(z)): 0.1972 / 0.1957\n",
      "[112/200] Loss_D: 0.5977 Loss_G: 1.9808 D(x): 0.8343 D(G(z)): 0.2205 / 0.1924\n",
      "[113/200] Loss_D: 0.6048 Loss_G: 2.2050 D(x): 0.7742 D(G(z)): 0.1680 / 0.1572\n",
      "[114/200] Loss_D: 0.6039 Loss_G: 2.0902 D(x): 0.8011 D(G(z)): 0.1797 / 0.1716\n",
      "[115/200] Loss_D: 0.7435 Loss_G: 1.9991 D(x): 0.7480 D(G(z)): 0.1994 / 0.1986\n",
      "[116/200] Loss_D: 0.6595 Loss_G: 1.7967 D(x): 0.8198 D(G(z)): 0.2314 / 0.2211\n",
      "[117/200] Loss_D: 0.6482 Loss_G: 2.2175 D(x): 0.8103 D(G(z)): 0.1744 / 0.1629\n",
      "[118/200] Loss_D: 0.6842 Loss_G: 1.8134 D(x): 0.7763 D(G(z)): 0.2302 / 0.2181\n",
      "[119/200] Loss_D: 0.7863 Loss_G: 2.0682 D(x): 0.6913 D(G(z)): 0.1473 / 0.1741\n",
      "[120/200] Loss_D: 0.7263 Loss_G: 1.6192 D(x): 0.8185 D(G(z)): 0.2955 / 0.2707\n",
      "[121/200] Loss_D: 0.8018 Loss_G: 1.9118 D(x): 0.7934 D(G(z)): 0.2457 / 0.2305\n",
      "[122/200] Loss_D: 0.6471 Loss_G: 1.9526 D(x): 0.7885 D(G(z)): 0.1956 / 0.2048\n",
      "[123/200] Loss_D: 0.7078 Loss_G: 2.2581 D(x): 0.6997 D(G(z)): 0.1242 / 0.1599\n",
      "[124/200] Loss_D: 0.6719 Loss_G: 2.0211 D(x): 0.7566 D(G(z)): 0.1837 / 0.1789\n",
      "[125/200] Loss_D: 0.6789 Loss_G: 2.0956 D(x): 0.8005 D(G(z)): 0.2220 / 0.1885\n",
      "[126/200] Loss_D: 0.7232 Loss_G: 2.1326 D(x): 0.7837 D(G(z)): 0.2132 / 0.1765\n",
      "[127/200] Loss_D: 0.6232 Loss_G: 1.9101 D(x): 0.8160 D(G(z)): 0.2356 / 0.2100\n",
      "[128/200] Loss_D: 0.6367 Loss_G: 2.0138 D(x): 0.7810 D(G(z)): 0.1969 / 0.1861\n",
      "[129/200] Loss_D: 0.5982 Loss_G: 2.1238 D(x): 0.7785 D(G(z)): 0.1677 / 0.1658\n",
      "[130/200] Loss_D: 0.7235 Loss_G: 2.1132 D(x): 0.7777 D(G(z)): 0.2187 / 0.1856\n",
      "[131/200] Loss_D: 0.6552 Loss_G: 2.0562 D(x): 0.7624 D(G(z)): 0.1601 / 0.1855\n",
      "[132/200] Loss_D: 0.6669 Loss_G: 1.9921 D(x): 0.7955 D(G(z)): 0.2175 / 0.2012\n",
      "[133/200] Loss_D: 0.6021 Loss_G: 1.8987 D(x): 0.8221 D(G(z)): 0.2306 / 0.1927\n",
      "[134/200] Loss_D: 0.7040 Loss_G: 1.8959 D(x): 0.8184 D(G(z)): 0.2676 / 0.2121\n",
      "[135/200] Loss_D: 0.6701 Loss_G: 1.8748 D(x): 0.7712 D(G(z)): 0.2242 / 0.2165\n",
      "[136/200] Loss_D: 0.5712 Loss_G: 2.0166 D(x): 0.7911 D(G(z)): 0.1722 / 0.1756\n",
      "[137/200] Loss_D: 0.5535 Loss_G: 2.0743 D(x): 0.8263 D(G(z)): 0.1863 / 0.1754\n",
      "[138/200] Loss_D: 0.6331 Loss_G: 2.1767 D(x): 0.7887 D(G(z)): 0.1861 / 0.1656\n",
      "[139/200] Loss_D: 0.6218 Loss_G: 1.8739 D(x): 0.8207 D(G(z)): 0.2297 / 0.2121\n",
      "[140/200] Loss_D: 0.5825 Loss_G: 1.7911 D(x): 0.8377 D(G(z)): 0.2496 / 0.2351\n",
      "[141/200] Loss_D: 0.7002 Loss_G: 1.8502 D(x): 0.7831 D(G(z)): 0.2203 / 0.2155\n",
      "[142/200] Loss_D: 0.5839 Loss_G: 2.1081 D(x): 0.7984 D(G(z)): 0.1810 / 0.1684\n",
      "[143/200] Loss_D: 0.6388 Loss_G: 1.9408 D(x): 0.7744 D(G(z)): 0.1943 / 0.1982\n",
      "[144/200] Loss_D: 0.6544 Loss_G: 1.6395 D(x): 0.7984 D(G(z)): 0.2155 / 0.2495\n",
      "[145/200] Loss_D: 0.6695 Loss_G: 1.9269 D(x): 0.7689 D(G(z)): 0.1900 / 0.1957\n",
      "[146/200] Loss_D: 0.7064 Loss_G: 2.1304 D(x): 0.7608 D(G(z)): 0.1917 / 0.1788\n",
      "[147/200] Loss_D: 0.6248 Loss_G: 1.7560 D(x): 0.8336 D(G(z)): 0.2487 / 0.2472\n",
      "[148/200] Loss_D: 0.7037 Loss_G: 1.4939 D(x): 0.7957 D(G(z)): 0.2768 / 0.2831\n",
      "[149/200] Loss_D: 0.8218 Loss_G: 1.7327 D(x): 0.7384 D(G(z)): 0.2303 / 0.2479\n",
      "[150/200] Loss_D: 0.6149 Loss_G: 1.8022 D(x): 0.8449 D(G(z)): 0.2327 / 0.2310\n",
      "[151/200] Loss_D: 0.6518 Loss_G: 1.8130 D(x): 0.8201 D(G(z)): 0.2371 / 0.2184\n",
      "[152/200] Loss_D: 0.6944 Loss_G: 1.8601 D(x): 0.7739 D(G(z)): 0.2145 / 0.2109\n",
      "[153/200] Loss_D: 0.7331 Loss_G: 1.9096 D(x): 0.8020 D(G(z)): 0.2494 / 0.2201\n",
      "[154/200] Loss_D: 0.6394 Loss_G: 1.8299 D(x): 0.7876 D(G(z)): 0.1962 / 0.2068\n",
      "[155/200] Loss_D: 0.6965 Loss_G: 2.0559 D(x): 0.7505 D(G(z)): 0.1972 / 0.1850\n",
      "[156/200] Loss_D: 0.6155 Loss_G: 1.8481 D(x): 0.8108 D(G(z)): 0.2284 / 0.2079\n",
      "[157/200] Loss_D: 0.6672 Loss_G: 1.8493 D(x): 0.7800 D(G(z)): 0.2323 / 0.2316\n",
      "[158/200] Loss_D: 0.5847 Loss_G: 1.8322 D(x): 0.8324 D(G(z)): 0.2293 / 0.2075\n",
      "[159/200] Loss_D: 0.7524 Loss_G: 1.8988 D(x): 0.7177 D(G(z)): 0.1531 / 0.1908\n",
      "[160/200] Loss_D: 0.7419 Loss_G: 2.0724 D(x): 0.7916 D(G(z)): 0.2088 / 0.1959\n",
      "[161/200] Loss_D: 0.6505 Loss_G: 1.9623 D(x): 0.8011 D(G(z)): 0.2319 / 0.1984\n",
      "[162/200] Loss_D: 0.7241 Loss_G: 1.9864 D(x): 0.7244 D(G(z)): 0.1858 / 0.1969\n",
      "[163/200] Loss_D: 0.7026 Loss_G: 2.1602 D(x): 0.7661 D(G(z)): 0.1645 / 0.1565\n",
      "[164/200] Loss_D: 0.7213 Loss_G: 2.0672 D(x): 0.7859 D(G(z)): 0.2114 / 0.2043\n",
      "[165/200] Loss_D: 0.6002 Loss_G: 2.0555 D(x): 0.7858 D(G(z)): 0.1739 / 0.1757\n",
      "[166/200] Loss_D: 0.7109 Loss_G: 2.0446 D(x): 0.8184 D(G(z)): 0.2409 / 0.1994\n",
      "[167/200] Loss_D: 0.6108 Loss_G: 2.0113 D(x): 0.8037 D(G(z)): 0.1895 / 0.1985\n",
      "[168/200] Loss_D: 0.6469 Loss_G: 2.3709 D(x): 0.7758 D(G(z)): 0.1827 / 0.1498\n",
      "[169/200] Loss_D: 0.9631 Loss_G: 1.7068 D(x): 0.7310 D(G(z)): 0.2552 / 0.2479\n",
      "[170/200] Loss_D: 0.5318 Loss_G: 2.0484 D(x): 0.8614 D(G(z)): 0.2238 / 0.1952\n",
      "[171/200] Loss_D: 0.5079 Loss_G: 2.3075 D(x): 0.7913 D(G(z)): 0.1499 / 0.1508\n",
      "[172/200] Loss_D: 0.6227 Loss_G: 1.7391 D(x): 0.8230 D(G(z)): 0.2370 / 0.2339\n",
      "[173/200] Loss_D: 0.7752 Loss_G: 2.1381 D(x): 0.7687 D(G(z)): 0.2134 / 0.2058\n",
      "[174/200] Loss_D: 0.7613 Loss_G: 1.6990 D(x): 0.7610 D(G(z)): 0.2520 / 0.2388\n",
      "[175/200] Loss_D: 0.6291 Loss_G: 2.0637 D(x): 0.8087 D(G(z)): 0.2032 / 0.1782\n",
      "[176/200] Loss_D: 0.5510 Loss_G: 2.1325 D(x): 0.8138 D(G(z)): 0.1782 / 0.1748\n",
      "[177/200] Loss_D: 0.6332 Loss_G: 1.8176 D(x): 0.8275 D(G(z)): 0.2468 / 0.2369\n",
      "[178/200] Loss_D: 0.5184 Loss_G: 1.8046 D(x): 0.8231 D(G(z)): 0.1845 / 0.2086\n",
      "[179/200] Loss_D: 0.6599 Loss_G: 1.8839 D(x): 0.7838 D(G(z)): 0.2001 / 0.2031\n",
      "[180/200] Loss_D: 0.6731 Loss_G: 2.2587 D(x): 0.7706 D(G(z)): 0.1982 / 0.1634\n",
      "[181/200] Loss_D: 0.6687 Loss_G: 1.7307 D(x): 0.7560 D(G(z)): 0.1859 / 0.2176\n",
      "[182/200] Loss_D: 0.6083 Loss_G: 1.9122 D(x): 0.8108 D(G(z)): 0.2073 / 0.2054\n",
      "[183/200] Loss_D: 0.6734 Loss_G: 2.0174 D(x): 0.7659 D(G(z)): 0.2037 / 0.1880\n",
      "[184/200] Loss_D: 0.5508 Loss_G: 2.0475 D(x): 0.8204 D(G(z)): 0.1940 / 0.1846\n",
      "[185/200] Loss_D: 0.6745 Loss_G: 1.8191 D(x): 0.8068 D(G(z)): 0.2177 / 0.2278\n",
      "[186/200] Loss_D: 0.6014 Loss_G: 2.2300 D(x): 0.7999 D(G(z)): 0.1791 / 0.1664\n",
      "[187/200] Loss_D: 0.5903 Loss_G: 2.0541 D(x): 0.8009 D(G(z)): 0.1796 / 0.1978\n",
      "[188/200] Loss_D: 0.6061 Loss_G: 2.0608 D(x): 0.8071 D(G(z)): 0.1921 / 0.1794\n",
      "[189/200] Loss_D: 0.6724 Loss_G: 2.0152 D(x): 0.7812 D(G(z)): 0.2057 / 0.1818\n",
      "[190/200] Loss_D: 0.6138 Loss_G: 1.9350 D(x): 0.8014 D(G(z)): 0.2012 / 0.2041\n",
      "[191/200] Loss_D: 0.6390 Loss_G: 2.0638 D(x): 0.8146 D(G(z)): 0.2292 / 0.1831\n",
      "[192/200] Loss_D: 0.6837 Loss_G: 1.8820 D(x): 0.8374 D(G(z)): 0.2656 / 0.2240\n",
      "[193/200] Loss_D: 0.7002 Loss_G: 2.0890 D(x): 0.7621 D(G(z)): 0.1987 / 0.1873\n",
      "[194/200] Loss_D: 0.4695 Loss_G: 2.1619 D(x): 0.8499 D(G(z)): 0.1852 / 0.1561\n",
      "[195/200] Loss_D: 0.7565 Loss_G: 2.2104 D(x): 0.7925 D(G(z)): 0.2313 / 0.1897\n",
      "[196/200] Loss_D: 0.7292 Loss_G: 1.8956 D(x): 0.7419 D(G(z)): 0.2028 / 0.2168\n",
      "[197/200] Loss_D: 0.6158 Loss_G: 2.0165 D(x): 0.7569 D(G(z)): 0.1590 / 0.1767\n",
      "[198/200] Loss_D: 0.6221 Loss_G: 1.7174 D(x): 0.8226 D(G(z)): 0.2505 / 0.2339\n",
      "[199/200] Loss_D: 0.6106 Loss_G: 1.8376 D(x): 0.8282 D(G(z)): 0.2451 / 0.2297\n"
     ]
    }
   ],
   "source": [
    "fixed_noise = torch.randn(128, 100).cuda()\n",
    "\n",
    "criterion = nn.BCELoss()\n",
    "\n",
    "n_epoch = 200\n",
    "training_progress_images_list = []\n",
    "for epoch in range(n_epoch):\n",
    "    for i, (data, _) in enumerate(dataloader):\n",
    "        ####################################################\n",
    "        # (1) Update D network: maximize log(D(x)) + log(1 - D(G(z))) #\n",
    "        ###################################################\n",
    "        # train with real\n",
    "        netD.zero_grad()\n",
    "        data = data.cuda()\n",
    "        batch_size = data.size(0)\n",
    "        label = torch.ones((batch_size,)).cuda() # real label = 1\n",
    "        output = netD(data)\n",
    "        errD_real = criterion(output, label)\n",
    "        D_x = output.mean().item()\n",
    "\n",
    "        # train with fake\n",
    "        noise = torch.randn(batch_size, 100).cuda()\n",
    "        fake = netG(noise)\n",
    "        label = torch.zeros((batch_size,)).cuda() # fake label = 1\n",
    "        output = netD(fake.detach())\n",
    "        errD_fake = criterion(output, label)\n",
    "        D_G_z1 = output.mean().item()\n",
    "        \n",
    "        # Loss backward\n",
    "        errD = errD_real + errD_fake\n",
    "        errD.backward()\n",
    "        optimizerD.step()\n",
    "\n",
    "        ########################################\n",
    "        # (2) Update G network: maximize log(D(G(z))) #\n",
    "        ########################################\n",
    "        netG.zero_grad()\n",
    "        label = torch.ones((batch_size,)).cuda()  # fake labels are real for generator cost\n",
    "        output = netD(fake)\n",
    "        errG = criterion(output, label)\n",
    "        D_G_z2 = output.mean().item()\n",
    "\n",
    "        errG.backward()\n",
    "        optimizerG.step()\n",
    "        \n",
    "    print('[%d/%d] Loss_D: %.4f Loss_G: %.4f D(x): %.4f D(G(z)): %.4f / %.4f' \n",
    "              % (epoch, n_epoch, errD.item(), errG.item(), D_x, D_G_z1, D_G_z2))\n",
    "    \n",
    "    #save the output\n",
    "    fake = netG(fixed_noise)\n",
    "    training_progress_images_list = save_gif(training_progress_images_list, fake)  # Save fake image while training!\n",
    "    \n",
    "    # Check pointing for every epoch\n",
    "    torch.save(netG.state_dict(), './checkpoint/netG_epoch_%d.pth' % (epoch))\n",
    "    torch.save(netD.state_dict(), './checkpoint/netD_epoch_%d.pth' % (epoch))"
   ]
  },
  {
   "cell_type": "markdown",
   "metadata": {
    "id": "YDr1OAe00VDE"
   },
   "source": [
    "## 4. Visualize/Plot your generated samples"
   ]
  },
  {
   "cell_type": "code",
   "execution_count": 17,
   "metadata": {
    "colab": {
     "base_uri": "https://localhost:8080/",
     "height": 1000
    },
    "id": "JJ70lVw30VDE",
    "outputId": "8f53610b-8ec8-4a62-f1f7-65256798d13b"
   },
   "outputs": [
    {
     "data": {
      "image/png": "[encoded data removed]",
      "text/plain": [
       "<Figure size 432x288 with 1 Axes>"
      ]
     },
     "metadata": {
      "needs_background": "light"
     },
     "output_type": "display_data"
    },
    {
     "data": {
      "image/png": "[encoded data removed]",
      "text/plain": [
       "<Figure size 432x288 with 1 Axes>"
      ]
     },
     "metadata": {
      "needs_background": "light"
     },
     "output_type": "display_data"
    },
    {
     "data": {
      "image/png": "[encoded data removed]",
      "text/plain": [
       "<Figure size 432x288 with 1 Axes>"
      ]
     },
     "metadata": {
      "needs_background": "light"
     },
     "output_type": "display_data"
    },
    {
     "data": {
      "image/png": "[encoded data removed]",
      "text/plain": [
       "<Figure size 432x288 with 1 Axes>"
      ]
     },
     "metadata": {
      "needs_background": "light"
     },
     "output_type": "display_data"
    },
    {
     "data": {
      "image/png": "[encoded data removed]",
      "text/plain": [
       "<Figure size 432x288 with 1 Axes>"
      ]
     },
     "metadata": {
      "needs_background": "light"
     },
     "output_type": "display_data"
    },
    {
     "data": {
      "image/png": "[encoded data removed]",
      "text/plain": [
       "<Figure size 432x288 with 1 Axes>"
      ]
     },
     "metadata": {
      "needs_background": "light"
     },
     "output_type": "display_data"
    },
    {
     "data": {
      "image/png": "[encoded data removed]",
      "text/plain": [
       "<Figure size 432x288 with 1 Axes>"
      ]
     },
     "metadata": {
      "needs_background": "light"
     },
     "output_type": "display_data"
    },
    {
     "data": {
      "image/png": "[encoded data removed]",
      "text/plain": [
       "<Figure size 432x288 with 1 Axes>"
      ]
     },
     "metadata": {
      "needs_background": "light"
     },
     "output_type": "display_data"
    },
    {
     "data": {
      "image/png": "[encoded data removed]",
      "text/plain": [
       "<Figure size 432x288 with 1 Axes>"
      ]
     },
     "metadata": {
      "needs_background": "light"
     },
     "output_type": "display_data"
    },
    {
     "data": {
      "image/png": "[encoded data removed]",
      "text/plain": [
       "<Figure size 432x288 with 1 Axes>"
      ]
     },
     "metadata": {
      "needs_background": "light"
     },
     "output_type": "display_data"
    }
   ],
   "source": [
    "# vis_gif(training_progress_images_list)\n",
    "plot_gif(training_progress_images_list)"
   ]
  },
  {
   "cell_type": "markdown",
   "metadata": {
    "id": "3eKSVhTT0VDE"
   },
   "source": [
    "## 5. Evaluate your model: Fréchet Inception Distance (FID) score\n",
    "\n",
    "<img src=\"https://drive.google.com/uc?id=1sL6p6kZmS3BYTZPD9wjMNGsPIWJcCs5X\" width=\"640\" height=\"360\">"
   ]
  },
  {
   "cell_type": "markdown",
   "metadata": {
    "id": "tbOb6Oyv0VDF"
   },
   "source": [
    "How to evaluate the equality of your generated sample?\\\n",
    "Maybe **training loss...? No!**\n",
    "Papers have shown that training loss might not be the best metric!\n",
    "\n",
    "There are many evaluation metric that has been proposed and most famous metric is as follows: [**Inception score**](https://arxiv.org/abs/1606.03498), [**Fréchet Inception Distance**](https://arxiv.org/abs/1706.08500)\n",
    "\n",
    "In this course, we will handle **Fréchet Inception Distance (FID) score.**"
   ]
  },
  {
   "cell_type": "markdown",
   "metadata": {
    "id": "oW0i0sP40VDF"
   },
   "source": [
    "### 5.1. What is FID score?\n",
    "\n",
    "<img src=\"https://drive.google.com/uc?id=1gvsoF-5Qs9tao2TLZEtgGbfB4WO6BkNd\" width=\"640\" height=\"433\">"
   ]
  },
  {
   "cell_type": "markdown",
   "metadata": {
    "id": "Jk6ukiiO0VDF"
   },
   "source": [
    "FID measures the distance between **real dataset** & **fake dataset** in **feature space of Inception** pretrained network.\\\n",
    "From the extracted features of real & fake dataset, we can compute mean & covariance of each features to calculate the **distance between distributions**.\n",
    "- For more explanation see this [article](https://medium.com/@jonathan_hui/gan-how-to-measure-gan-performance-64b988c47732) or [paper](https://arxiv.org/abs/1706.08500)"
   ]
  },
  {
   "cell_type": "markdown",
   "metadata": {
    "id": "RiZOAzuV0VDF"
   },
   "source": [
    "For the implementation, we simply use the source code from github: https://github.com/mseitzer/pytorch-fid\n",
    "\n",
    "Please note that Inception network is **pretrained on ImageNet**, therefore the MNIST FID score might be unrealiable.\\"
   ]
  },
  {
   "cell_type": "markdown",
   "metadata": {
    "id": "ieXxlZXb0VDF"
   },
   "source": [
    "### 5.2. Load FID score function: code is from the github"
   ]
  },
  {
   "cell_type": "code",
   "execution_count": 18,
   "metadata": {
    "id": "mlBvfJ500VDG"
   },
   "outputs": [],
   "source": [
    "import inception\n",
    "import fid_score\n",
    "from fid_score import calculate_fid_given_paths"
   ]
  },
  {
   "cell_type": "markdown",
   "metadata": {
    "id": "SvnUHddB0VDG"
   },
   "source": [
    "### 5.3. Evaluate your model (save samples!!)\n",
    "\n",
    "The Inception network's input resolution is 224 by 224, we upscale small resolution datasets (e.g., MNSIT, CIFAR) into same resolution.\n",
    "\n",
    "Please note that, we only save *50 samples in this lecture*, however in practice we use **full test dataset**: [reference](https://arxiv.org/abs/1807.04720)"
   ]
  },
  {
   "cell_type": "code",
   "execution_count": 19,
   "metadata": {
    "id": "MSBjjWAn0VDG"
   },
   "outputs": [],
   "source": [
    "test_dataset = dset.MNIST(root=\"./dataset\", download=True, train=False,\n",
    "                                           transform=transforms.Compose([\n",
    "                                           transforms.ToTensor(),\n",
    "                        ]))\n",
    "\n",
    "dataloader = torch.utils.data.DataLoader(test_dataset, batch_size=50, shuffle=True, num_workers=2)\n",
    "\n",
    "for i, (data, _) in enumerate(dataloader):\n",
    "    real_dataset = data\n",
    "    break\n",
    "    \n",
    "noise = torch.randn(50, 100).cuda()\n",
    "fake_dataset = netG(noise)"
   ]
  },
  {
   "cell_type": "code",
   "execution_count": 20,
   "metadata": {
    "id": "7GzIqcMJ0VDG"
   },
   "outputs": [],
   "source": [
    "real_image_path_list = save_image_list(real_dataset, True)\n",
    "fake_image_path_list = save_image_list(fake_dataset, False)"
   ]
  },
  {
   "cell_type": "markdown",
   "metadata": {
    "id": "TNF5e7Z20VDG"
   },
   "source": [
    "### 5.4 Evaluate FID score"
   ]
  },
  {
   "cell_type": "code",
   "execution_count": 21,
   "metadata": {
    "colab": {
     "base_uri": "https://localhost:8080/"
    },
    "id": "8i51nFZb0VDG",
    "outputId": "f7836267-b412-46ba-88b2-26653b171a89"
   },
   "outputs": [
    {
     "name": "stderr",
     "output_type": "stream",
     "text": [
      "/home/ebcho/anaconda3/envs/torch/lib/python3.9/site-packages/torchvision/models/_utils.py:208: UserWarning: The parameter 'pretrained' is deprecated since 0.13 and will be removed in 0.15, please use 'weights' instead.\n",
      "  warnings.warn(\n",
      "/home/ebcho/anaconda3/envs/torch/lib/python3.9/site-packages/torchvision/models/_utils.py:223: UserWarning: Arguments other than a weight enum or `None` for 'weights' are deprecated since 0.13 and will be removed in 0.15. The current behavior is equivalent to passing `weights=None`.\n",
      "  warnings.warn(msg)\n",
      "Downloading: \"https://github.com/mseitzer/pytorch-fid/releases/download/fid_weights/pt_inception-2015-12-05-6726825d.pth\" to /home/ebcho/.cache/torch/hub/checkpoints/pt_inception-2015-12-05-6726825d.pth\n"
     ]
    },
    {
     "data": {
      "application/vnd.jupyter.widget-view+json": {
       "model_id": "9d20db5886004365874bb22295de3d81",
       "version_major": 2,
       "version_minor": 0
      },
      "text/plain": [
       "  0%|          | 0.00/91.2M [00:00<?, ?B/s]"
      ]
     },
     "metadata": {},
     "output_type": "display_data"
    },
    {
     "name": "stderr",
     "output_type": "stream",
     "text": [
      "100%|██████████| 1/1 [00:05<00:00,  5.90s/it]\n",
      "100%|██████████| 1/1 [00:00<00:00, 18.37it/s]\n"
     ]
    }
   ],
   "source": [
    "# calculate_fid_given_paths(paths, batch_size, cuda, dims)\n",
    "fid_value = calculate_fid_given_paths([real_image_path_list, fake_image_path_list],\n",
    "                                                          50, \n",
    "                                                          True,\n",
    "                                                          2048)"
   ]
  },
  {
   "cell_type": "code",
   "execution_count": 22,
   "metadata": {
    "colab": {
     "base_uri": "https://localhost:8080/"
    },
    "id": "xLRqS6SB0VDG",
    "outputId": "01b82031-3e62-4374-a2dc-8e8be83db756"
   },
   "outputs": [
    {
     "name": "stdout",
     "output_type": "stream",
     "text": [
      "FID score: 116.76797635590256\n"
     ]
    }
   ],
   "source": [
    "print (f'FID score: {fid_value}')"
   ]
  },
  {
   "cell_type": "markdown",
   "metadata": {
    "id": "l_VUxxVS0VDG"
   },
   "source": [
    "## Additional: DCGAN (try it by your-self)"
   ]
  },
  {
   "cell_type": "markdown",
   "metadata": {
    "id": "nBQGfAUJ0VDG"
   },
   "source": [
    "There are various modern architectures of GAN e.g., DCGAN, SNGAN, and also training methods e.g., WGAN, gradient penulty\n",
    "\n",
    "You can try the following architecture to improve the quality of generation!\n",
    "- **Note that this version is for 64 by 64 resolution**"
   ]
  },
  {
   "cell_type": "code",
   "execution_count": 23,
   "metadata": {
    "id": "mbh3IxfP0VDH"
   },
   "outputs": [],
   "source": [
    "nc = 3 # number of channels, RGB\n",
    "nz = 100 # input noise dimension\n",
    "ngf = 64 # number of generator filters\n",
    "ndf = 64 #number of discriminator filters\n",
    "\n",
    "class Generator(nn.Module):\n",
    "    def __init__(self):\n",
    "        super(Generator, self).__init__()\n",
    "        self.main = nn.Sequential(\n",
    "            # input is Z, going into a convolution\n",
    "            nn.ConvTranspose2d(nz, ngf * 8, 4, 1, 0, bias=False),\n",
    "            nn.BatchNorm2d(ngf * 8),\n",
    "            nn.ReLU(True),\n",
    "            # state size. (ngf*8) x 4 x 4\n",
    "            nn.ConvTranspose2d(ngf * 8, ngf * 4, 4, 2, 1, bias=False),\n",
    "            nn.BatchNorm2d(ngf * 4),\n",
    "            nn.ReLU(True),\n",
    "            # state size. (ngf*4) x 8 x 8\n",
    "            nn.ConvTranspose2d(ngf * 4, ngf * 2, 4, 2, 1, bias=False),\n",
    "            nn.BatchNorm2d(ngf * 2),\n",
    "            nn.ReLU(True),\n",
    "            # state size. (ngf*2) x 16 x 16\n",
    "            nn.ConvTranspose2d(ngf * 2, ngf, 4, 2, 1, bias=False),\n",
    "            nn.BatchNorm2d(ngf),\n",
    "            nn.ReLU(True),\n",
    "            # state size. (ngf) x 32 x 32\n",
    "            nn.ConvTranspose2d(ngf, nc, 4, 2, 1, bias=False),\n",
    "            nn.Tanh()\n",
    "            # state size. (nc) x 64 x 64\n",
    "        )\n",
    "\n",
    "    def forward(self, input):\n",
    "        output = self.main(input)\n",
    "        return output"
   ]
  },
  {
   "cell_type": "code",
   "execution_count": 24,
   "metadata": {
    "id": "ZHCnXxl20VDH"
   },
   "outputs": [],
   "source": [
    "class Discriminator(nn.Module):\n",
    "    def __init__(self):\n",
    "        super(Discriminator, self).__init__()\n",
    "        self.main = nn.Sequential(\n",
    "            # input is (nc) x 64 x 64\n",
    "            nn.Conv2d(nc, ndf, 4, 2, 1, bias=False),\n",
    "            nn.LeakyReLU(0.2, inplace=True),\n",
    "            # state size. (ndf) x 32 x 32\n",
    "            nn.Conv2d(ndf, ndf * 2, 4, 2, 1, bias=False),\n",
    "            nn.BatchNorm2d(ndf * 2),\n",
    "            nn.LeakyReLU(0.2, inplace=True),\n",
    "            # state size. (ndf*2) x 16 x 16\n",
    "            nn.Conv2d(ndf * 2, ndf * 4, 4, 2, 1, bias=False),\n",
    "            nn.BatchNorm2d(ndf * 4),\n",
    "            nn.LeakyReLU(0.2, inplace=True),\n",
    "            # state size. (ndf*4) x 8 x 8\n",
    "            nn.Conv2d(ndf * 4, ndf * 8, 4, 2, 1, bias=False),\n",
    "            nn.BatchNorm2d(ndf * 8),\n",
    "            nn.LeakyReLU(0.2, inplace=True),\n",
    "            # state size. (ndf*8) x 4 x 4\n",
    "            nn.Conv2d(ndf * 8, 1, 4, 1, 0, bias=False),\n",
    "            nn.Sigmoid()\n",
    "        )\n",
    "\n",
    "    def forward(self, input):\n",
    "        output = self.main(input)\n",
    "        return output.view(-1, 1).squeeze(1)"
   ]
  },
  {
   "cell_type": "markdown",
   "metadata": {
    "id": "VRVb6-nl0VDH"
   },
   "source": [
    "## Reference\n",
    "This code is written by Jihoon-Tack and modified by Sungjin-Park.  \n",
    "\n",
    "PyTorch official DCGAN tutorial: https://pytorch.org/tutorials/beginner/dcgan_faces_tutorial.html \\\n",
    "github 1: https://github.com/Ksuryateja/DCGAN-CIFAR10-pytorch/blob/master/gan_cifar.py \\\n",
    "github 2: https://github.com/mseitzer/pytorch-fid \\\n",
    "FID score: https://github.com/mseitzer/pytorch-fid \\\n",
    "Inception score: https://github.com/sbarratt/inception-score-pytorch"
   ]
  },
  {
   "cell_type": "code",
   "execution_count": null,
   "metadata": {},
   "outputs": [],
   "source": []
  }
 ],
 "metadata": {
  "accelerator": "GPU",
  "colab": {
   "name": "ai504_06_gan_sol.ipynb",
   "provenance": []
  },
  "kernelspec": {
   "display_name": "Python 3 (ipykernel)",
   "language": "python",
   "name": "python3"
  },
  "language_info": {
   "codemirror_mode": {
    "name": "ipython",
    "version": 3
   },
   "file_extension": ".py",
   "mimetype": "text/x-python",
   "name": "python",
   "nbconvert_exporter": "python",
   "pygments_lexer": "ipython3",
   "version": "3.9.12"
  },
  "widgets": {
   "application/vnd.jupyter.widget-state+json": {
    "0ee2af672e774b55968ca7ba89f67277": {
     "model_module": "@jupyter-widgets/base",
     "model_module_version": "1.2.0",
     "model_name": "LayoutModel",
     "state": {
      "_model_module": "@jupyter-widgets/base",
      "_model_module_version": "1.2.0",
      "_model_name": "LayoutModel",
      "_view_count": null,
      "_view_module": "@jupyter-widgets/base",
      "_view_module_version": "1.2.0",
      "_view_name": "LayoutView",
      "align_content": null,
      "align_items": null,
      "align_self": null,
      "border": null,
      "bottom": null,
      "display": null,
      "flex": null,
      "flex_flow": null,
      "grid_area": null,
      "grid_auto_columns": null,
      "grid_auto_flow": null,
      "grid_auto_rows": null,
      "grid_column": null,
      "grid_gap": null,
      "grid_row": null,
      "grid_template_areas": null,
      "grid_template_columns": null,
      "grid_template_rows": null,
      "height": null,
      "justify_content": null,
      "justify_items": null,
      "left": null,
      "margin": null,
      "max_height": null,
      "max_width": null,
      "min_height": null,
      "min_width": null,
      "object_fit": null,
      "object_position": null,
      "order": null,
      "overflow": null,
      "overflow_x": null,
      "overflow_y": null,
      "padding": null,
      "right": null,
      "top": null,
      "visibility": null,
      "width": null
     }
    },
    "184a9aab8b4b49ab9020d787d02e9ed4": {
     "model_module": "@jupyter-widgets/controls",
     "model_module_version": "1.5.0",
     "model_name": "FloatProgressModel",
     "state": {
      "_dom_classes": [],
      "_model_module": "@jupyter-widgets/controls",
      "_model_module_version": "1.5.0",
      "_model_name": "FloatProgressModel",
      "_view_count": null,
      "_view_module": "@jupyter-widgets/controls",
      "_view_module_version": "1.5.0",
      "_view_name": "ProgressView",
      "bar_style": "success",
      "description": "",
      "description_tooltip": null,
      "layout": "IPY_MODEL_9bd8e73468874dbc9a6733f7d9d2a06e",
      "max": 1648877,
      "min": 0,
      "orientation": "horizontal",
      "style": "IPY_MODEL_782c7c3163ef450cad7e5bd5ea410ec3",
      "value": 1648877
     }
    },
    "1d48546f6e694b55800c40dcbdc4f647": {
     "model_module": "@jupyter-widgets/controls",
     "model_module_version": "1.5.0",
     "model_name": "HBoxModel",
     "state": {
      "_dom_classes": [],
      "_model_module": "@jupyter-widgets/controls",
      "_model_module_version": "1.5.0",
      "_model_name": "HBoxModel",
      "_view_count": null,
      "_view_module": "@jupyter-widgets/controls",
      "_view_module_version": "1.5.0",
      "_view_name": "HBoxView",
      "box_style": "",
      "children": [
       "IPY_MODEL_acd63eb3c8e34683b8fbc7c5c82511fe",
       "IPY_MODEL_6710264c47854815b7e0279e73f12182",
       "IPY_MODEL_bcbf18269fb24dd99e52852538004013"
      ],
      "layout": "IPY_MODEL_0ee2af672e774b55968ca7ba89f67277"
     }
    },
    "1d74fd1dcbc54e67b64a4916097405ef": {
     "model_module": "@jupyter-widgets/base",
     "model_module_version": "1.2.0",
     "model_name": "LayoutModel",
     "state": {
      "_model_module": "@jupyter-widgets/base",
      "_model_module_version": "1.2.0",
      "_model_name": "LayoutModel",
      "_view_count": null,
      "_view_module": "@jupyter-widgets/base",
      "_view_module_version": "1.2.0",
      "_view_name": "LayoutView",
      "align_content": null,
      "align_items": null,
      "align_self": null,
      "border": null,
      "bottom": null,
      "display": null,
      "flex": null,
      "flex_flow": null,
      "grid_area": null,
      "grid_auto_columns": null,
      "grid_auto_flow": null,
      "grid_auto_rows": null,
      "grid_column": null,
      "grid_gap": null,
      "grid_row": null,
      "grid_template_areas": null,
      "grid_template_columns": null,
      "grid_template_rows": null,
      "height": null,
      "justify_content": null,
      "justify_items": null,
      "left": null,
      "margin": null,
      "max_height": null,
      "max_width": null,
      "min_height": null,
      "min_width": null,
      "object_fit": null,
      "object_position": null,
      "order": null,
      "overflow": null,
      "overflow_x": null,
      "overflow_y": null,
      "padding": null,
      "right": null,
      "top": null,
      "visibility": null,
      "width": null
     }
    },
    "26d626d7a54b49889db4f2d86ff61d44": {
     "model_module": "@jupyter-widgets/base",
     "model_module_version": "1.2.0",
     "model_name": "LayoutModel",
     "state": {
      "_model_module": "@jupyter-widgets/base",
      "_model_module_version": "1.2.0",
      "_model_name": "LayoutModel",
      "_view_count": null,
      "_view_module": "@jupyter-widgets/base",
      "_view_module_version": "1.2.0",
      "_view_name": "LayoutView",
      "align_content": null,
      "align_items": null,
      "align_self": null,
      "border": null,
      "bottom": null,
      "display": null,
      "flex": null,
      "flex_flow": null,
      "grid_area": null,
      "grid_auto_columns": null,
      "grid_auto_flow": null,
      "grid_auto_rows": null,
      "grid_column": null,
      "grid_gap": null,
      "grid_row": null,
      "grid_template_areas": null,
      "grid_template_columns": null,
      "grid_template_rows": null,
      "height": null,
      "justify_content": null,
      "justify_items": null,
      "left": null,
      "margin": null,
      "max_height": null,
      "max_width": null,
      "min_height": null,
      "min_width": null,
      "object_fit": null,
      "object_position": null,
      "order": null,
      "overflow": null,
      "overflow_x": null,
      "overflow_y": null,
      "padding": null,
      "right": null,
      "top": null,
      "visibility": null,
      "width": null
     }
    },
    "33212016b5944c8fba51c77e785fa749": {
     "model_module": "@jupyter-widgets/controls",
     "model_module_version": "1.5.0",
     "model_name": "HBoxModel",
     "state": {
      "_dom_classes": [],
      "_model_module": "@jupyter-widgets/controls",
      "_model_module_version": "1.5.0",
      "_model_name": "HBoxModel",
      "_view_count": null,
      "_view_module": "@jupyter-widgets/controls",
      "_view_module_version": "1.5.0",
      "_view_name": "HBoxView",
      "box_style": "",
      "children": [
       "IPY_MODEL_9f72a3cf22e0498ab91b67589efa9ff8",
       "IPY_MODEL_184a9aab8b4b49ab9020d787d02e9ed4",
       "IPY_MODEL_fde7be78c8cb4047806ad6ec6c331510"
      ],
      "layout": "IPY_MODEL_d35b0962865e443299fc682119a01e4e"
     }
    },
    "35a831a27cb94988bd031b1d050bedf0": {
     "model_module": "@jupyter-widgets/controls",
     "model_module_version": "1.5.0",
     "model_name": "DescriptionStyleModel",
     "state": {
      "_model_module": "@jupyter-widgets/controls",
      "_model_module_version": "1.5.0",
      "_model_name": "DescriptionStyleModel",
      "_view_count": null,
      "_view_module": "@jupyter-widgets/base",
      "_view_module_version": "1.2.0",
      "_view_name": "StyleView",
      "description_width": ""
     }
    },
    "37613a06528047ef9d06d9faaad6369b": {
     "model_module": "@jupyter-widgets/controls",
     "model_module_version": "1.5.0",
     "model_name": "DescriptionStyleModel",
     "state": {
      "_model_module": "@jupyter-widgets/controls",
      "_model_module_version": "1.5.0",
      "_model_name": "DescriptionStyleModel",
      "_view_count": null,
      "_view_module": "@jupyter-widgets/base",
      "_view_module_version": "1.2.0",
      "_view_name": "StyleView",
      "description_width": ""
     }
    },
    "407ed7389f93415ab37b2dc51e498fa3": {
     "model_module": "@jupyter-widgets/controls",
     "model_module_version": "1.5.0",
     "model_name": "ProgressStyleModel",
     "state": {
      "_model_module": "@jupyter-widgets/controls",
      "_model_module_version": "1.5.0",
      "_model_name": "ProgressStyleModel",
      "_view_count": null,
      "_view_module": "@jupyter-widgets/base",
      "_view_module_version": "1.2.0",
      "_view_name": "StyleView",
      "bar_color": null,
      "description_width": ""
     }
    },
    "45997127df2b4a1eaddd086a2895df3f": {
     "model_module": "@jupyter-widgets/base",
     "model_module_version": "1.2.0",
     "model_name": "LayoutModel",
     "state": {
      "_model_module": "@jupyter-widgets/base",
      "_model_module_version": "1.2.0",
      "_model_name": "LayoutModel",
      "_view_count": null,
      "_view_module": "@jupyter-widgets/base",
      "_view_module_version": "1.2.0",
      "_view_name": "LayoutView",
      "align_content": null,
      "align_items": null,
      "align_self": null,
      "border": null,
      "bottom": null,
      "display": null,
      "flex": null,
      "flex_flow": null,
      "grid_area": null,
      "grid_auto_columns": null,
      "grid_auto_flow": null,
      "grid_auto_rows": null,
      "grid_column": null,
      "grid_gap": null,
      "grid_row": null,
      "grid_template_areas": null,
      "grid_template_columns": null,
      "grid_template_rows": null,
      "height": null,
      "justify_content": null,
      "justify_items": null,
      "left": null,
      "margin": null,
      "max_height": null,
      "max_width": null,
      "min_height": null,
      "min_width": null,
      "object_fit": null,
      "object_position": null,
      "order": null,
      "overflow": null,
      "overflow_x": null,
      "overflow_y": null,
      "padding": null,
      "right": null,
      "top": null,
      "visibility": null,
      "width": null
     }
    },
    "46f16e3e4aa9413fbcebd1b0fbd45921": {
     "model_module": "@jupyter-widgets/controls",
     "model_module_version": "1.5.0",
     "model_name": "DescriptionStyleModel",
     "state": {
      "_model_module": "@jupyter-widgets/controls",
      "_model_module_version": "1.5.0",
      "_model_name": "DescriptionStyleModel",
      "_view_count": null,
      "_view_module": "@jupyter-widgets/base",
      "_view_module_version": "1.2.0",
      "_view_name": "StyleView",
      "description_width": ""
     }
    },
    "4df66c97e86d4ea5b87395f885457a65": {
     "model_module": "@jupyter-widgets/base",
     "model_module_version": "1.2.0",
     "model_name": "LayoutModel",
     "state": {
      "_model_module": "@jupyter-widgets/base",
      "_model_module_version": "1.2.0",
      "_model_name": "LayoutModel",
      "_view_count": null,
      "_view_module": "@jupyter-widgets/base",
      "_view_module_version": "1.2.0",
      "_view_name": "LayoutView",
      "align_content": null,
      "align_items": null,
      "align_self": null,
      "border": null,
      "bottom": null,
      "display": null,
      "flex": null,
      "flex_flow": null,
      "grid_area": null,
      "grid_auto_columns": null,
      "grid_auto_flow": null,
      "grid_auto_rows": null,
      "grid_column": null,
      "grid_gap": null,
      "grid_row": null,
      "grid_template_areas": null,
      "grid_template_columns": null,
      "grid_template_rows": null,
      "height": null,
      "justify_content": null,
      "justify_items": null,
      "left": null,
      "margin": null,
      "max_height": null,
      "max_width": null,
      "min_height": null,
      "min_width": null,
      "object_fit": null,
      "object_position": null,
      "order": null,
      "overflow": null,
      "overflow_x": null,
      "overflow_y": null,
      "padding": null,
      "right": null,
      "top": null,
      "visibility": null,
      "width": null
     }
    },
    "5c08f2f456334674999a0946469a44e1": {
     "model_module": "@jupyter-widgets/controls",
     "model_module_version": "1.5.0",
     "model_name": "HTMLModel",
     "state": {
      "_dom_classes": [],
      "_model_module": "@jupyter-widgets/controls",
      "_model_module_version": "1.5.0",
      "_model_name": "HTMLModel",
      "_view_count": null,
      "_view_module": "@jupyter-widgets/controls",
      "_view_module_version": "1.5.0",
      "_view_name": "HTMLView",
      "description": "",
      "description_tooltip": null,
      "layout": "IPY_MODEL_4df66c97e86d4ea5b87395f885457a65",
      "placeholder": "​",
      "style": "IPY_MODEL_d61086efe4cd41d2a509fca4345ac669",
      "value": ""
     }
    },
    "5cecc6c1b2ad4d50ac2f4b176988ab68": {
     "model_module": "@jupyter-widgets/controls",
     "model_module_version": "1.5.0",
     "model_name": "DescriptionStyleModel",
     "state": {
      "_model_module": "@jupyter-widgets/controls",
      "_model_module_version": "1.5.0",
      "_model_name": "DescriptionStyleModel",
      "_view_count": null,
      "_view_module": "@jupyter-widgets/base",
      "_view_module_version": "1.2.0",
      "_view_name": "StyleView",
      "description_width": ""
     }
    },
    "5e7f37a5ac3f49e4959d799c26ce095e": {
     "model_module": "@jupyter-widgets/controls",
     "model_module_version": "1.5.0",
     "model_name": "HTMLModel",
     "state": {
      "_dom_classes": [],
      "_model_module": "@jupyter-widgets/controls",
      "_model_module_version": "1.5.0",
      "_model_name": "HTMLModel",
      "_view_count": null,
      "_view_module": "@jupyter-widgets/controls",
      "_view_module_version": "1.5.0",
      "_view_name": "HTMLView",
      "description": "",
      "description_tooltip": null,
      "layout": "IPY_MODEL_1d74fd1dcbc54e67b64a4916097405ef",
      "placeholder": "​",
      "style": "IPY_MODEL_a15c278bb24d4655880f7706f60a5fc9",
      "value": ""
     }
    },
    "63251ee0e57a4b58a7b3b8cdb6aa45da": {
     "model_module": "@jupyter-widgets/controls",
     "model_module_version": "1.5.0",
     "model_name": "HTMLModel",
     "state": {
      "_dom_classes": [],
      "_model_module": "@jupyter-widgets/controls",
      "_model_module_version": "1.5.0",
      "_model_name": "HTMLModel",
      "_view_count": null,
      "_view_module": "@jupyter-widgets/controls",
      "_view_module_version": "1.5.0",
      "_view_name": "HTMLView",
      "description": "",
      "description_tooltip": null,
      "layout": "IPY_MODEL_ae01aed865f44779a8f36c0fa4f03b62",
      "placeholder": "​",
      "style": "IPY_MODEL_37613a06528047ef9d06d9faaad6369b",
      "value": " 29696/? [00:00&lt;00:00, 620375.61it/s]"
     }
    },
    "6710264c47854815b7e0279e73f12182": {
     "model_module": "@jupyter-widgets/controls",
     "model_module_version": "1.5.0",
     "model_name": "FloatProgressModel",
     "state": {
      "_dom_classes": [],
      "_model_module": "@jupyter-widgets/controls",
      "_model_module_version": "1.5.0",
      "_model_name": "FloatProgressModel",
      "_view_count": null,
      "_view_module": "@jupyter-widgets/controls",
      "_view_module_version": "1.5.0",
      "_view_name": "ProgressView",
      "bar_style": "success",
      "description": "",
      "description_tooltip": null,
      "layout": "IPY_MODEL_d220fa568d324c519316c1a71ce3f332",
      "max": 9912422,
      "min": 0,
      "orientation": "horizontal",
      "style": "IPY_MODEL_68b47f16ae064fc5993e7f26e63bd2c6",
      "value": 9912422
     }
    },
    "67dba3ce5583496da846416cf1c95882": {
     "model_module": "@jupyter-widgets/controls",
     "model_module_version": "1.5.0",
     "model_name": "HTMLModel",
     "state": {
      "_dom_classes": [],
      "_model_module": "@jupyter-widgets/controls",
      "_model_module_version": "1.5.0",
      "_model_name": "HTMLModel",
      "_view_count": null,
      "_view_module": "@jupyter-widgets/controls",
      "_view_module_version": "1.5.0",
      "_view_name": "HTMLView",
      "description": "",
      "description_tooltip": null,
      "layout": "IPY_MODEL_fb3d926652a94728a52e0294c1f8f3a9",
      "placeholder": "​",
      "style": "IPY_MODEL_dacab51e49444fb69e489582ee673f95",
      "value": " 5120/? [00:00&lt;00:00, 150076.08it/s]"
     }
    },
    "68b47f16ae064fc5993e7f26e63bd2c6": {
     "model_module": "@jupyter-widgets/controls",
     "model_module_version": "1.5.0",
     "model_name": "ProgressStyleModel",
     "state": {
      "_model_module": "@jupyter-widgets/controls",
      "_model_module_version": "1.5.0",
      "_model_name": "ProgressStyleModel",
      "_view_count": null,
      "_view_module": "@jupyter-widgets/base",
      "_view_module_version": "1.2.0",
      "_view_name": "StyleView",
      "bar_color": null,
      "description_width": ""
     }
    },
    "782c7c3163ef450cad7e5bd5ea410ec3": {
     "model_module": "@jupyter-widgets/controls",
     "model_module_version": "1.5.0",
     "model_name": "ProgressStyleModel",
     "state": {
      "_model_module": "@jupyter-widgets/controls",
      "_model_module_version": "1.5.0",
      "_model_name": "ProgressStyleModel",
      "_view_count": null,
      "_view_module": "@jupyter-widgets/base",
      "_view_module_version": "1.2.0",
      "_view_name": "StyleView",
      "bar_color": null,
      "description_width": ""
     }
    },
    "7bd1a1344e104f86ac290281fa986d6a": {
     "model_module": "@jupyter-widgets/base",
     "model_module_version": "1.2.0",
     "model_name": "LayoutModel",
     "state": {
      "_model_module": "@jupyter-widgets/base",
      "_model_module_version": "1.2.0",
      "_model_name": "LayoutModel",
      "_view_count": null,
      "_view_module": "@jupyter-widgets/base",
      "_view_module_version": "1.2.0",
      "_view_name": "LayoutView",
      "align_content": null,
      "align_items": null,
      "align_self": null,
      "border": null,
      "bottom": null,
      "display": null,
      "flex": null,
      "flex_flow": null,
      "grid_area": null,
      "grid_auto_columns": null,
      "grid_auto_flow": null,
      "grid_auto_rows": null,
      "grid_column": null,
      "grid_gap": null,
      "grid_row": null,
      "grid_template_areas": null,
      "grid_template_columns": null,
      "grid_template_rows": null,
      "height": null,
      "justify_content": null,
      "justify_items": null,
      "left": null,
      "margin": null,
      "max_height": null,
      "max_width": null,
      "min_height": null,
      "min_width": null,
      "object_fit": null,
      "object_position": null,
      "order": null,
      "overflow": null,
      "overflow_x": null,
      "overflow_y": null,
      "padding": null,
      "right": null,
      "top": null,
      "visibility": null,
      "width": null
     }
    },
    "80fc0e1b30ad486787526717ef3e161a": {
     "model_module": "@jupyter-widgets/base",
     "model_module_version": "1.2.0",
     "model_name": "LayoutModel",
     "state": {
      "_model_module": "@jupyter-widgets/base",
      "_model_module_version": "1.2.0",
      "_model_name": "LayoutModel",
      "_view_count": null,
      "_view_module": "@jupyter-widgets/base",
      "_view_module_version": "1.2.0",
      "_view_name": "LayoutView",
      "align_content": null,
      "align_items": null,
      "align_self": null,
      "border": null,
      "bottom": null,
      "display": null,
      "flex": null,
      "flex_flow": null,
      "grid_area": null,
      "grid_auto_columns": null,
      "grid_auto_flow": null,
      "grid_auto_rows": null,
      "grid_column": null,
      "grid_gap": null,
      "grid_row": null,
      "grid_template_areas": null,
      "grid_template_columns": null,
      "grid_template_rows": null,
      "height": null,
      "justify_content": null,
      "justify_items": null,
      "left": null,
      "margin": null,
      "max_height": null,
      "max_width": null,
      "min_height": null,
      "min_width": null,
      "object_fit": null,
      "object_position": null,
      "order": null,
      "overflow": null,
      "overflow_x": null,
      "overflow_y": null,
      "padding": null,
      "right": null,
      "top": null,
      "visibility": null,
      "width": null
     }
    },
    "9219d49b9b5a4913986de9b8d14919b6": {
     "model_module": "@jupyter-widgets/controls",
     "model_module_version": "1.5.0",
     "model_name": "FloatProgressModel",
     "state": {
      "_dom_classes": [],
      "_model_module": "@jupyter-widgets/controls",
      "_model_module_version": "1.5.0",
      "_model_name": "FloatProgressModel",
      "_view_count": null,
      "_view_module": "@jupyter-widgets/controls",
      "_view_module_version": "1.5.0",
      "_view_name": "ProgressView",
      "bar_style": "success",
      "description": "",
      "description_tooltip": null,
      "layout": "IPY_MODEL_80fc0e1b30ad486787526717ef3e161a",
      "max": 28881,
      "min": 0,
      "orientation": "horizontal",
      "style": "IPY_MODEL_c6aa92525157470da43a2eb9be825f97",
      "value": 28881
     }
    },
    "9670ad0b299f442dae4b9ae7c1f49b20": {
     "model_module": "@jupyter-widgets/controls",
     "model_module_version": "1.5.0",
     "model_name": "DescriptionStyleModel",
     "state": {
      "_model_module": "@jupyter-widgets/controls",
      "_model_module_version": "1.5.0",
      "_model_name": "DescriptionStyleModel",
      "_view_count": null,
      "_view_module": "@jupyter-widgets/base",
      "_view_module_version": "1.2.0",
      "_view_name": "StyleView",
      "description_width": ""
     }
    },
    "9bd8e73468874dbc9a6733f7d9d2a06e": {
     "model_module": "@jupyter-widgets/base",
     "model_module_version": "1.2.0",
     "model_name": "LayoutModel",
     "state": {
      "_model_module": "@jupyter-widgets/base",
      "_model_module_version": "1.2.0",
      "_model_name": "LayoutModel",
      "_view_count": null,
      "_view_module": "@jupyter-widgets/base",
      "_view_module_version": "1.2.0",
      "_view_name": "LayoutView",
      "align_content": null,
      "align_items": null,
      "align_self": null,
      "border": null,
      "bottom": null,
      "display": null,
      "flex": null,
      "flex_flow": null,
      "grid_area": null,
      "grid_auto_columns": null,
      "grid_auto_flow": null,
      "grid_auto_rows": null,
      "grid_column": null,
      "grid_gap": null,
      "grid_row": null,
      "grid_template_areas": null,
      "grid_template_columns": null,
      "grid_template_rows": null,
      "height": null,
      "justify_content": null,
      "justify_items": null,
      "left": null,
      "margin": null,
      "max_height": null,
      "max_width": null,
      "min_height": null,
      "min_width": null,
      "object_fit": null,
      "object_position": null,
      "order": null,
      "overflow": null,
      "overflow_x": null,
      "overflow_y": null,
      "padding": null,
      "right": null,
      "top": null,
      "visibility": null,
      "width": null
     }
    },
    "9f72a3cf22e0498ab91b67589efa9ff8": {
     "model_module": "@jupyter-widgets/controls",
     "model_module_version": "1.5.0",
     "model_name": "HTMLModel",
     "state": {
      "_dom_classes": [],
      "_model_module": "@jupyter-widgets/controls",
      "_model_module_version": "1.5.0",
      "_model_name": "HTMLModel",
      "_view_count": null,
      "_view_module": "@jupyter-widgets/controls",
      "_view_module_version": "1.5.0",
      "_view_name": "HTMLView",
      "description": "",
      "description_tooltip": null,
      "layout": "IPY_MODEL_45997127df2b4a1eaddd086a2895df3f",
      "placeholder": "​",
      "style": "IPY_MODEL_35a831a27cb94988bd031b1d050bedf0",
      "value": ""
     }
    },
    "a15c278bb24d4655880f7706f60a5fc9": {
     "model_module": "@jupyter-widgets/controls",
     "model_module_version": "1.5.0",
     "model_name": "DescriptionStyleModel",
     "state": {
      "_model_module": "@jupyter-widgets/controls",
      "_model_module_version": "1.5.0",
      "_model_name": "DescriptionStyleModel",
      "_view_count": null,
      "_view_module": "@jupyter-widgets/base",
      "_view_module_version": "1.2.0",
      "_view_name": "StyleView",
      "description_width": ""
     }
    },
    "acd63eb3c8e34683b8fbc7c5c82511fe": {
     "model_module": "@jupyter-widgets/controls",
     "model_module_version": "1.5.0",
     "model_name": "HTMLModel",
     "state": {
      "_dom_classes": [],
      "_model_module": "@jupyter-widgets/controls",
      "_model_module_version": "1.5.0",
      "_model_name": "HTMLModel",
      "_view_count": null,
      "_view_module": "@jupyter-widgets/controls",
      "_view_module_version": "1.5.0",
      "_view_name": "HTMLView",
      "description": "",
      "description_tooltip": null,
      "layout": "IPY_MODEL_df50d13094324e0f908b2a419f8f1950",
      "placeholder": "​",
      "style": "IPY_MODEL_5cecc6c1b2ad4d50ac2f4b176988ab68",
      "value": ""
     }
    },
    "ae01aed865f44779a8f36c0fa4f03b62": {
     "model_module": "@jupyter-widgets/base",
     "model_module_version": "1.2.0",
     "model_name": "LayoutModel",
     "state": {
      "_model_module": "@jupyter-widgets/base",
      "_model_module_version": "1.2.0",
      "_model_name": "LayoutModel",
      "_view_count": null,
      "_view_module": "@jupyter-widgets/base",
      "_view_module_version": "1.2.0",
      "_view_name": "LayoutView",
      "align_content": null,
      "align_items": null,
      "align_self": null,
      "border": null,
      "bottom": null,
      "display": null,
      "flex": null,
      "flex_flow": null,
      "grid_area": null,
      "grid_auto_columns": null,
      "grid_auto_flow": null,
      "grid_auto_rows": null,
      "grid_column": null,
      "grid_gap": null,
      "grid_row": null,
      "grid_template_areas": null,
      "grid_template_columns": null,
      "grid_template_rows": null,
      "height": null,
      "justify_content": null,
      "justify_items": null,
      "left": null,
      "margin": null,
      "max_height": null,
      "max_width": null,
      "min_height": null,
      "min_width": null,
      "object_fit": null,
      "object_position": null,
      "order": null,
      "overflow": null,
      "overflow_x": null,
      "overflow_y": null,
      "padding": null,
      "right": null,
      "top": null,
      "visibility": null,
      "width": null
     }
    },
    "b257747bb3804356b59b5be37b17920f": {
     "model_module": "@jupyter-widgets/base",
     "model_module_version": "1.2.0",
     "model_name": "LayoutModel",
     "state": {
      "_model_module": "@jupyter-widgets/base",
      "_model_module_version": "1.2.0",
      "_model_name": "LayoutModel",
      "_view_count": null,
      "_view_module": "@jupyter-widgets/base",
      "_view_module_version": "1.2.0",
      "_view_name": "LayoutView",
      "align_content": null,
      "align_items": null,
      "align_self": null,
      "border": null,
      "bottom": null,
      "display": null,
      "flex": null,
      "flex_flow": null,
      "grid_area": null,
      "grid_auto_columns": null,
      "grid_auto_flow": null,
      "grid_auto_rows": null,
      "grid_column": null,
      "grid_gap": null,
      "grid_row": null,
      "grid_template_areas": null,
      "grid_template_columns": null,
      "grid_template_rows": null,
      "height": null,
      "justify_content": null,
      "justify_items": null,
      "left": null,
      "margin": null,
      "max_height": null,
      "max_width": null,
      "min_height": null,
      "min_width": null,
      "object_fit": null,
      "object_position": null,
      "order": null,
      "overflow": null,
      "overflow_x": null,
      "overflow_y": null,
      "padding": null,
      "right": null,
      "top": null,
      "visibility": null,
      "width": null
     }
    },
    "b4942a342c234f53839c17614418c2da": {
     "model_module": "@jupyter-widgets/base",
     "model_module_version": "1.2.0",
     "model_name": "LayoutModel",
     "state": {
      "_model_module": "@jupyter-widgets/base",
      "_model_module_version": "1.2.0",
      "_model_name": "LayoutModel",
      "_view_count": null,
      "_view_module": "@jupyter-widgets/base",
      "_view_module_version": "1.2.0",
      "_view_name": "LayoutView",
      "align_content": null,
      "align_items": null,
      "align_self": null,
      "border": null,
      "bottom": null,
      "display": null,
      "flex": null,
      "flex_flow": null,
      "grid_area": null,
      "grid_auto_columns": null,
      "grid_auto_flow": null,
      "grid_auto_rows": null,
      "grid_column": null,
      "grid_gap": null,
      "grid_row": null,
      "grid_template_areas": null,
      "grid_template_columns": null,
      "grid_template_rows": null,
      "height": null,
      "justify_content": null,
      "justify_items": null,
      "left": null,
      "margin": null,
      "max_height": null,
      "max_width": null,
      "min_height": null,
      "min_width": null,
      "object_fit": null,
      "object_position": null,
      "order": null,
      "overflow": null,
      "overflow_x": null,
      "overflow_y": null,
      "padding": null,
      "right": null,
      "top": null,
      "visibility": null,
      "width": null
     }
    },
    "bcbf18269fb24dd99e52852538004013": {
     "model_module": "@jupyter-widgets/controls",
     "model_module_version": "1.5.0",
     "model_name": "HTMLModel",
     "state": {
      "_dom_classes": [],
      "_model_module": "@jupyter-widgets/controls",
      "_model_module_version": "1.5.0",
      "_model_name": "HTMLModel",
      "_view_count": null,
      "_view_module": "@jupyter-widgets/controls",
      "_view_module_version": "1.5.0",
      "_view_name": "HTMLView",
      "description": "",
      "description_tooltip": null,
      "layout": "IPY_MODEL_ebe51c95b80047a2890f371bd6fc3607",
      "placeholder": "​",
      "style": "IPY_MODEL_46f16e3e4aa9413fbcebd1b0fbd45921",
      "value": " 9913344/? [00:00&lt;00:00, 50078476.92it/s]"
     }
    },
    "c582151ba06e40a69a54780f0223a82d": {
     "model_module": "@jupyter-widgets/controls",
     "model_module_version": "1.5.0",
     "model_name": "FloatProgressModel",
     "state": {
      "_dom_classes": [],
      "_model_module": "@jupyter-widgets/controls",
      "_model_module_version": "1.5.0",
      "_model_name": "FloatProgressModel",
      "_view_count": null,
      "_view_module": "@jupyter-widgets/controls",
      "_view_module_version": "1.5.0",
      "_view_name": "ProgressView",
      "bar_style": "success",
      "description": "",
      "description_tooltip": null,
      "layout": "IPY_MODEL_26d626d7a54b49889db4f2d86ff61d44",
      "max": 4542,
      "min": 0,
      "orientation": "horizontal",
      "style": "IPY_MODEL_407ed7389f93415ab37b2dc51e498fa3",
      "value": 4542
     }
    },
    "c6aa92525157470da43a2eb9be825f97": {
     "model_module": "@jupyter-widgets/controls",
     "model_module_version": "1.5.0",
     "model_name": "ProgressStyleModel",
     "state": {
      "_model_module": "@jupyter-widgets/controls",
      "_model_module_version": "1.5.0",
      "_model_name": "ProgressStyleModel",
      "_view_count": null,
      "_view_module": "@jupyter-widgets/base",
      "_view_module_version": "1.2.0",
      "_view_name": "StyleView",
      "bar_color": null,
      "description_width": ""
     }
    },
    "cf909c2f22c74ab79d9f0748fad92cc8": {
     "model_module": "@jupyter-widgets/controls",
     "model_module_version": "1.5.0",
     "model_name": "HBoxModel",
     "state": {
      "_dom_classes": [],
      "_model_module": "@jupyter-widgets/controls",
      "_model_module_version": "1.5.0",
      "_model_name": "HBoxModel",
      "_view_count": null,
      "_view_module": "@jupyter-widgets/controls",
      "_view_module_version": "1.5.0",
      "_view_name": "HBoxView",
      "box_style": "",
      "children": [
       "IPY_MODEL_5e7f37a5ac3f49e4959d799c26ce095e",
       "IPY_MODEL_9219d49b9b5a4913986de9b8d14919b6",
       "IPY_MODEL_63251ee0e57a4b58a7b3b8cdb6aa45da"
      ],
      "layout": "IPY_MODEL_7bd1a1344e104f86ac290281fa986d6a"
     }
    },
    "d220fa568d324c519316c1a71ce3f332": {
     "model_module": "@jupyter-widgets/base",
     "model_module_version": "1.2.0",
     "model_name": "LayoutModel",
     "state": {
      "_model_module": "@jupyter-widgets/base",
      "_model_module_version": "1.2.0",
      "_model_name": "LayoutModel",
      "_view_count": null,
      "_view_module": "@jupyter-widgets/base",
      "_view_module_version": "1.2.0",
      "_view_name": "LayoutView",
      "align_content": null,
      "align_items": null,
      "align_self": null,
      "border": null,
      "bottom": null,
      "display": null,
      "flex": null,
      "flex_flow": null,
      "grid_area": null,
      "grid_auto_columns": null,
      "grid_auto_flow": null,
      "grid_auto_rows": null,
      "grid_column": null,
      "grid_gap": null,
      "grid_row": null,
      "grid_template_areas": null,
      "grid_template_columns": null,
      "grid_template_rows": null,
      "height": null,
      "justify_content": null,
      "justify_items": null,
      "left": null,
      "margin": null,
      "max_height": null,
      "max_width": null,
      "min_height": null,
      "min_width": null,
      "object_fit": null,
      "object_position": null,
      "order": null,
      "overflow": null,
      "overflow_x": null,
      "overflow_y": null,
      "padding": null,
      "right": null,
      "top": null,
      "visibility": null,
      "width": null
     }
    },
    "d35b0962865e443299fc682119a01e4e": {
     "model_module": "@jupyter-widgets/base",
     "model_module_version": "1.2.0",
     "model_name": "LayoutModel",
     "state": {
      "_model_module": "@jupyter-widgets/base",
      "_model_module_version": "1.2.0",
      "_model_name": "LayoutModel",
      "_view_count": null,
      "_view_module": "@jupyter-widgets/base",
      "_view_module_version": "1.2.0",
      "_view_name": "LayoutView",
      "align_content": null,
      "align_items": null,
      "align_self": null,
      "border": null,
      "bottom": null,
      "display": null,
      "flex": null,
      "flex_flow": null,
      "grid_area": null,
      "grid_auto_columns": null,
      "grid_auto_flow": null,
      "grid_auto_rows": null,
      "grid_column": null,
      "grid_gap": null,
      "grid_row": null,
      "grid_template_areas": null,
      "grid_template_columns": null,
      "grid_template_rows": null,
      "height": null,
      "justify_content": null,
      "justify_items": null,
      "left": null,
      "margin": null,
      "max_height": null,
      "max_width": null,
      "min_height": null,
      "min_width": null,
      "object_fit": null,
      "object_position": null,
      "order": null,
      "overflow": null,
      "overflow_x": null,
      "overflow_y": null,
      "padding": null,
      "right": null,
      "top": null,
      "visibility": null,
      "width": null
     }
    },
    "d61086efe4cd41d2a509fca4345ac669": {
     "model_module": "@jupyter-widgets/controls",
     "model_module_version": "1.5.0",
     "model_name": "DescriptionStyleModel",
     "state": {
      "_model_module": "@jupyter-widgets/controls",
      "_model_module_version": "1.5.0",
      "_model_name": "DescriptionStyleModel",
      "_view_count": null,
      "_view_module": "@jupyter-widgets/base",
      "_view_module_version": "1.2.0",
      "_view_name": "StyleView",
      "description_width": ""
     }
    },
    "dacab51e49444fb69e489582ee673f95": {
     "model_module": "@jupyter-widgets/controls",
     "model_module_version": "1.5.0",
     "model_name": "DescriptionStyleModel",
     "state": {
      "_model_module": "@jupyter-widgets/controls",
      "_model_module_version": "1.5.0",
      "_model_name": "DescriptionStyleModel",
      "_view_count": null,
      "_view_module": "@jupyter-widgets/base",
      "_view_module_version": "1.2.0",
      "_view_name": "StyleView",
      "description_width": ""
     }
    },
    "df50d13094324e0f908b2a419f8f1950": {
     "model_module": "@jupyter-widgets/base",
     "model_module_version": "1.2.0",
     "model_name": "LayoutModel",
     "state": {
      "_model_module": "@jupyter-widgets/base",
      "_model_module_version": "1.2.0",
      "_model_name": "LayoutModel",
      "_view_count": null,
      "_view_module": "@jupyter-widgets/base",
      "_view_module_version": "1.2.0",
      "_view_name": "LayoutView",
      "align_content": null,
      "align_items": null,
      "align_self": null,
      "border": null,
      "bottom": null,
      "display": null,
      "flex": null,
      "flex_flow": null,
      "grid_area": null,
      "grid_auto_columns": null,
      "grid_auto_flow": null,
      "grid_auto_rows": null,
      "grid_column": null,
      "grid_gap": null,
      "grid_row": null,
      "grid_template_areas": null,
      "grid_template_columns": null,
      "grid_template_rows": null,
      "height": null,
      "justify_content": null,
      "justify_items": null,
      "left": null,
      "margin": null,
      "max_height": null,
      "max_width": null,
      "min_height": null,
      "min_width": null,
      "object_fit": null,
      "object_position": null,
      "order": null,
      "overflow": null,
      "overflow_x": null,
      "overflow_y": null,
      "padding": null,
      "right": null,
      "top": null,
      "visibility": null,
      "width": null
     }
    },
    "ebe51c95b80047a2890f371bd6fc3607": {
     "model_module": "@jupyter-widgets/base",
     "model_module_version": "1.2.0",
     "model_name": "LayoutModel",
     "state": {
      "_model_module": "@jupyter-widgets/base",
      "_model_module_version": "1.2.0",
      "_model_name": "LayoutModel",
      "_view_count": null,
      "_view_module": "@jupyter-widgets/base",
      "_view_module_version": "1.2.0",
      "_view_name": "LayoutView",
      "align_content": null,
      "align_items": null,
      "align_self": null,
      "border": null,
      "bottom": null,
      "display": null,
      "flex": null,
      "flex_flow": null,
      "grid_area": null,
      "grid_auto_columns": null,
      "grid_auto_flow": null,
      "grid_auto_rows": null,
      "grid_column": null,
      "grid_gap": null,
      "grid_row": null,
      "grid_template_areas": null,
      "grid_template_columns": null,
      "grid_template_rows": null,
      "height": null,
      "justify_content": null,
      "justify_items": null,
      "left": null,
      "margin": null,
      "max_height": null,
      "max_width": null,
      "min_height": null,
      "min_width": null,
      "object_fit": null,
      "object_position": null,
      "order": null,
      "overflow": null,
      "overflow_x": null,
      "overflow_y": null,
      "padding": null,
      "right": null,
      "top": null,
      "visibility": null,
      "width": null
     }
    },
    "f2ccfcbaafcc4e8a815b13f058ae184a": {
     "model_module": "@jupyter-widgets/controls",
     "model_module_version": "1.5.0",
     "model_name": "HBoxModel",
     "state": {
      "_dom_classes": [],
      "_model_module": "@jupyter-widgets/controls",
      "_model_module_version": "1.5.0",
      "_model_name": "HBoxModel",
      "_view_count": null,
      "_view_module": "@jupyter-widgets/controls",
      "_view_module_version": "1.5.0",
      "_view_name": "HBoxView",
      "box_style": "",
      "children": [
       "IPY_MODEL_5c08f2f456334674999a0946469a44e1",
       "IPY_MODEL_c582151ba06e40a69a54780f0223a82d",
       "IPY_MODEL_67dba3ce5583496da846416cf1c95882"
      ],
      "layout": "IPY_MODEL_b4942a342c234f53839c17614418c2da"
     }
    },
    "fb3d926652a94728a52e0294c1f8f3a9": {
     "model_module": "@jupyter-widgets/base",
     "model_module_version": "1.2.0",
     "model_name": "LayoutModel",
     "state": {
      "_model_module": "@jupyter-widgets/base",
      "_model_module_version": "1.2.0",
      "_model_name": "LayoutModel",
      "_view_count": null,
      "_view_module": "@jupyter-widgets/base",
      "_view_module_version": "1.2.0",
      "_view_name": "LayoutView",
      "align_content": null,
      "align_items": null,
      "align_self": null,
      "border": null,
      "bottom": null,
      "display": null,
      "flex": null,
      "flex_flow": null,
      "grid_area": null,
      "grid_auto_columns": null,
      "grid_auto_flow": null,
      "grid_auto_rows": null,
      "grid_column": null,
      "grid_gap": null,
      "grid_row": null,
      "grid_template_areas": null,
      "grid_template_columns": null,
      "grid_template_rows": null,
      "height": null,
      "justify_content": null,
      "justify_items": null,
      "left": null,
      "margin": null,
      "max_height": null,
      "max_width": null,
      "min_height": null,
      "min_width": null,
      "object_fit": null,
      "object_position": null,
      "order": null,
      "overflow": null,
      "overflow_x": null,
      "overflow_y": null,
      "padding": null,
      "right": null,
      "top": null,
      "visibility": null,
      "width": null
     }
    },
    "fde7be78c8cb4047806ad6ec6c331510": {
     "model_module": "@jupyter-widgets/controls",
     "model_module_version": "1.5.0",
     "model_name": "HTMLModel",
     "state": {
      "_dom_classes": [],
      "_model_module": "@jupyter-widgets/controls",
      "_model_module_version": "1.5.0",
      "_model_name": "HTMLModel",
      "_view_count": null,
      "_view_module": "@jupyter-widgets/controls",
      "_view_module_version": "1.5.0",
      "_view_name": "HTMLView",
      "description": "",
      "description_tooltip": null,
      "layout": "IPY_MODEL_b257747bb3804356b59b5be37b17920f",
      "placeholder": "​",
      "style": "IPY_MODEL_9670ad0b299f442dae4b9ae7c1f49b20",
      "value": " 1649664/? [00:00&lt;00:00, 17198188.30it/s]"
     }
    }
   }
  }
 },
 "nbformat": 4,
 "nbformat_minor": 1
}
