{
 "cells": [
  {
   "cell_type": "markdown",
   "metadata": {},
   "source": [
    "## Today's Practice Topics\n",
    "1. ### Data Plotting\n",
    "2. ### Generating Samples\n",
    "3. ### Regression (Overfitting, underfitting)\n",
    "4. ### Data Loading\n",
    "5. ### Classification"
   ]
  },
  {
   "cell_type": "code",
   "execution_count": 7,
   "metadata": {},
   "outputs": [],
   "source": [
    "import numpy as np\n",
    "from matplotlib import pyplot as plt\n",
    "import sklearn"
   ]
  },
  {
   "cell_type": "markdown",
   "metadata": {},
   "source": [
    "### Matplotlib Example"
   ]
  },
  {
   "cell_type": "code",
   "execution_count": 8,
   "metadata": {},
   "outputs": [
    {
     "data": {
      "image/png": "[encoded data removed]",
      "text/plain": [
       "<Figure size 640x480 with 1 Axes>"
      ]
     },
     "metadata": {},
     "output_type": "display_data"
    }
   ],
   "source": [
    "plt.plot([1,2,3], [3,2,1])\n",
    "plt.scatter([1,2,3], [3,2,1])\n",
    "plt.show()"
   ]
  },
  {
   "cell_type": "code",
   "execution_count": 9,
   "metadata": {},
   "outputs": [],
   "source": [
    "def draw_plot(X, Y, x_sample, y_sample):\n",
    "    for i in range(len(X)):\n",
    "        plt.plot(X[i], Y[i])\n",
    "    plt.scatter(x_sample, y_sample)\n",
    "    plt.xlabel('x')\n",
    "    plt.ylabel('y')\n",
    "    plt.axhline(0, color='black')\n",
    "    plt.axvline(0, color='black')\n",
    "    plt.show()"
   ]
  },
  {
   "cell_type": "markdown",
   "metadata": {},
   "source": [
    "### Drawing a function"
   ]
  },
  {
   "cell_type": "code",
   "execution_count": 5,
   "metadata": {},
   "outputs": [],
   "source": [
    "foo = lambda x: -(2/7*x**3-9/2*x**2+15*x-10.)\n",
    "x_line = np.linspace(0, 10, 100)\n",
    "\n",
    "# Quiz: Draw the function foo using x_line\n",
    "\n",
    "# Quiz: Sample 5 points of foo in the domain [0, 10] and visualize with draw_plot\n",
    "x_sample = None\n",
    "y_sample = None\n",
    "\n",
    "# Quiz: Sample 5 points of foo in the domain [0, 10] with Gaussian noise where mu=0, sigma=1 and visualize.\n",
    "x_sample = None\n",
    "y_sample = None"
   ]
  },
  {
   "cell_type": "code",
   "execution_count": null,
   "metadata": {},
   "outputs": [],
   "source": [
    "from sklearn.linear_model import LinearRegression\n",
    "\n",
    "# Defining a linear regression model.\n",
    "lr = LinearRegression()\n",
    "\n",
    "# Training the linear regression model.\n",
    "lr.fit(x_sample[:, None], y_sample)\n",
    "\n",
    "# Coefficient of Determination (i.e. R^2, R Squared)\n",
    "r2 = lr.score(x_sample[:, None], y_sample)\n",
    "print(\"R^2:%f\" % r2)\n",
    "\n",
    "# Predicting data points.\n",
    "y_hat = lr.predict(x_sample[:, None])\n",
    "\n",
    "# Quiz: Calculate Mean Squared Error using x_sample and y_sample and lr.predict()\n",
    "\n",
    "# Quiz: Use x_line, lr.predict() and draw_plot to visualize the linear regression model,\n",
    "#       in comparison with the original function foo."
   ]
  },
  {
   "cell_type": "markdown",
   "metadata": {},
   "source": [
    "### Linear Regression"
   ]
  },
  {
   "cell_type": "markdown",
   "metadata": {},
   "source": [
    "### Polynomial Regression"
   ]
  },
  {
   "cell_type": "code",
   "execution_count": null,
   "metadata": {},
   "outputs": [],
   "source": [
    "from sklearn.preprocessing import PolynomialFeatures\n",
    "\n",
    "# Defining a polynomial feature transformer.\n",
    "poly = PolynomialFeatures(degree=2)\n",
    "\n",
    "# Transform the original features to polynomial features.\n",
    "x_sample_poly = poly.fit_transform(x_sample[:, None])\n",
    "\n",
    "# Train a linear regression model using the polynomial features.\n",
    "lr = LinearRegression().fit(x_sample_poly, y_sample)\n",
    "\n",
    "# Quiz: Visualize the polynomial regression model, in comparison with foo.\n",
    "\n",
    "# Quiz: What happens if you increase/decrease the degree of the polynomial?"
   ]
  },
  {
   "cell_type": "markdown",
   "metadata": {},
   "source": [
    "### Iris Dataset"
   ]
  },
  {
   "cell_type": "code",
   "execution_count": null,
   "metadata": {},
   "outputs": [],
   "source": [
    "from sklearn.datasets import load_iris\n",
    "X, y = load_iris(return_X_y=True)"
   ]
  },
  {
   "cell_type": "code",
   "execution_count": null,
   "metadata": {},
   "outputs": [],
   "source": [
    "print(X.shape)\n",
    "print(y.shape)"
   ]
  },
  {
   "cell_type": "markdown",
   "metadata": {},
   "source": [
    "### Train Test Split"
   ]
  },
  {
   "cell_type": "code",
   "execution_count": null,
   "metadata": {},
   "outputs": [],
   "source": [
    "from sklearn.model_selection import train_test_split\n",
    "X_train, X_test, y_train, y_test = train_test_split(X, y, test_size=0.20, random_state=0)"
   ]
  },
  {
   "cell_type": "markdown",
   "metadata": {},
   "source": [
    "### Classifiers"
   ]
  },
  {
   "cell_type": "code",
   "execution_count": null,
   "metadata": {},
   "outputs": [],
   "source": [
    "from sklearn.linear_model import LogisticRegression\n",
    "logistic = LogisticRegression(random_state=1234)\n",
    "logistic.fit(X_train[:, :2], y_train)\n",
    "\n",
    "# Quiz: Import Support Vector Machine, then train SVM\n",
    "\n",
    "# Quiz: Import Decision Tree, then train DT"
   ]
  },
  {
   "cell_type": "code",
   "execution_count": null,
   "metadata": {},
   "outputs": [],
   "source": [
    "# Quiz: Use the model's predict() to calculate the test accuracy."
   ]
  },
  {
   "cell_type": "code",
   "execution_count": null,
   "metadata": {},
   "outputs": [],
   "source": [
    "# Quiz: Use various model options, features, and the score() fuction to compare performance."
   ]
  },
  {
   "cell_type": "code",
   "execution_count": null,
   "metadata": {},
   "outputs": [],
   "source": [
    "# Quiz: Can you draw four scatterplots for each model's predictions and the true labels? (Example shown below)\n",
    "plt.figure(figsize=(20,5))\n",
    "\n",
    "plt.subplot(141)\n",
    "plt.title('Logistic Regression')\n",
    "\n",
    "plt.subplot(142)\n",
    "plt.title('SVM')\n",
    "\n",
    "plt.subplot(143)\n",
    "plt.title('Decision Tree')\n",
    "\n",
    "plt.subplot(144)\n",
    "plt.title('Ground Truth')\n",
    "\n",
    "plt.show()"
   ]
  },
  {
   "attachments": {},
   "cell_type": "markdown",
   "metadata": {},
   "source": [
    "![Scatterplot](https://i.imgur.com/TDvaIWA.png)"
   ]
  }
 ],
 "metadata": {
  "kernelspec": {
   "display_name": "Python 3",
   "language": "python",
   "name": "python3"
  },
  "language_info": {
   "codemirror_mode": {
    "name": "ipython",
    "version": 3
   },
   "file_extension": ".py",
   "mimetype": "text/x-python",
   "name": "python",
   "nbconvert_exporter": "python",
   "pygments_lexer": "ipython3",
   "version": "3.10.4"
  }
 },
 "nbformat": 4,
 "nbformat_minor": 4
}
